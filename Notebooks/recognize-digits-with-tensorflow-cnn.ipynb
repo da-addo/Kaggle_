{
 "cells": [
  {
   "cell_type": "markdown",
   "id": "58977ee0",
   "metadata": {
    "papermill": {
     "duration": 0.025302,
     "end_time": "2021-10-25T19:15:38.533718",
     "exception": false,
     "start_time": "2021-10-25T19:15:38.508416",
     "status": "completed"
    },
    "tags": []
   },
   "source": [
    "# Classification of the MNIST dataset\n",
    "\n",
    "# 1. Introduction\n",
    "\n",
    "This notebook will demonstrate how to train a neural network to recognize images of handwritten digits using TensorFlow.  While there are many [MNIST](http://yann.lecun.com/exdb/mnist/) computer vision tutorials that cover the basics, this guide will focus on developing a self contained model that can handle preprocessing.  \n",
    "The contents of this notebook include: \n",
    "* Data exploration\n",
    "* Data preprocessing\n",
    "* Building a Convolutional Neural Network\n",
    "* Model training\n",
    "* Evaluation of results\n",
    "* Predicting outcomes with test data"
   ]
  },
  {
   "cell_type": "code",
   "execution_count": 1,
   "id": "7a8aa6b2",
   "metadata": {
    "_cell_guid": "b1076dfc-b9ad-4769-8c92-a6c4dae69d19",
    "_uuid": "8f2839f25d086af736a60e9eeb907d3b93b6e0e5",
    "execution": {
     "iopub.execute_input": "2021-10-25T19:15:38.593906Z",
     "iopub.status.busy": "2021-10-25T19:15:38.593054Z",
     "iopub.status.idle": "2021-10-25T19:15:38.598368Z",
     "shell.execute_reply": "2021-10-25T19:15:38.599010Z",
     "shell.execute_reply.started": "2021-10-13T17:27:44.004543Z"
    },
    "papermill": {
     "duration": 0.041323,
     "end_time": "2021-10-25T19:15:38.599291",
     "exception": false,
     "start_time": "2021-10-25T19:15:38.557968",
     "status": "completed"
    },
    "tags": []
   },
   "outputs": [
    {
     "name": "stdout",
     "output_type": "stream",
     "text": [
      "/kaggle/input/digit-recognizer/sample_submission.csv\n",
      "/kaggle/input/digit-recognizer/train.csv\n",
      "/kaggle/input/digit-recognizer/test.csv\n"
     ]
    }
   ],
   "source": [
    "# This Python 3 environment comes with many helpful analytics libraries installed\n",
    "# It is defined by the kaggle/python Docker image: https://github.com/kaggle/docker-python\n",
    "# For example, here's several helpful packages to load\n",
    "\n",
    "import numpy as np # linear algebra\n",
    "import pandas as pd # data processing, CSV file I/O (e.g. pd.read_csv)\n",
    "\n",
    "# Input data files are available in the read-only \"../input/\" directory\n",
    "# For example, running this (by clicking run or pressing Shift+Enter) will list all files under the input directory\n",
    "\n",
    "import os\n",
    "for dirname, _, filenames in os.walk('/kaggle/input'):\n",
    "    for filename in filenames:\n",
    "        print(os.path.join(dirname, filename))\n",
    "\n",
    "# You can write up to 20GB to the current directory (/kaggle/working/) that gets preserved as output when you create a version using \"Save & Run All\" \n",
    "# You can also write temporary files to /kaggle/temp/, but they won't be saved outside of the current session"
   ]
  },
  {
   "cell_type": "markdown",
   "id": "7f37d228",
   "metadata": {
    "papermill": {
     "duration": 0.024457,
     "end_time": "2021-10-25T19:15:38.650140",
     "exception": false,
     "start_time": "2021-10-25T19:15:38.625683",
     "status": "completed"
    },
    "tags": []
   },
   "source": [
    "### 1.1 Import libraries and verify versions"
   ]
  },
  {
   "cell_type": "code",
   "execution_count": 2,
   "id": "01c57e47",
   "metadata": {
    "execution": {
     "iopub.execute_input": "2021-10-25T19:15:38.703851Z",
     "iopub.status.busy": "2021-10-25T19:15:38.703305Z",
     "iopub.status.idle": "2021-10-25T19:15:43.953362Z",
     "shell.execute_reply": "2021-10-25T19:15:43.953970Z",
     "shell.execute_reply.started": "2021-10-13T17:27:44.023636Z"
    },
    "papermill": {
     "duration": 5.279218,
     "end_time": "2021-10-25T19:15:43.954169",
     "exception": false,
     "start_time": "2021-10-25T19:15:38.674951",
     "status": "completed"
    },
    "tags": []
   },
   "outputs": [
    {
     "name": "stdout",
     "output_type": "stream",
     "text": [
      "Tensorflow Version: 2.4.1\n",
      "Python Version: 3.7.10\n"
     ]
    }
   ],
   "source": [
    "import tensorflow as tf\n",
    "from tensorflow.keras import layers\n",
    "from tensorflow.keras.models import Sequential \n",
    "from tensorflow.keras.optimizers import Adam\n",
    "from sklearn.model_selection import train_test_split\n",
    "import matplotlib.pyplot as plt\n",
    "from platform import python_version\n",
    "\n",
    "print('Tensorflow Version:', tf.__version__)\n",
    "print('Python Version:', python_version())"
   ]
  },
  {
   "cell_type": "markdown",
   "id": "4c11274e",
   "metadata": {
    "papermill": {
     "duration": 0.024546,
     "end_time": "2021-10-25T19:15:44.004347",
     "exception": false,
     "start_time": "2021-10-25T19:15:43.979801",
     "status": "completed"
    },
    "tags": []
   },
   "source": [
    "### 1.2 Load the training .csv file and explore the data"
   ]
  },
  {
   "cell_type": "code",
   "execution_count": 3,
   "id": "05776cf7",
   "metadata": {
    "execution": {
     "iopub.execute_input": "2021-10-25T19:15:44.060715Z",
     "iopub.status.busy": "2021-10-25T19:15:44.060045Z",
     "iopub.status.idle": "2021-10-25T19:15:47.238747Z",
     "shell.execute_reply": "2021-10-25T19:15:47.239321Z",
     "shell.execute_reply.started": "2021-10-13T17:27:49.956736Z"
    },
    "papermill": {
     "duration": 3.209,
     "end_time": "2021-10-25T19:15:47.239510",
     "exception": false,
     "start_time": "2021-10-25T19:15:44.030510",
     "status": "completed"
    },
    "tags": []
   },
   "outputs": [
    {
     "name": "stdout",
     "output_type": "stream",
     "text": [
      "(42000, 785)\n"
     ]
    },
    {
     "data": {
      "text/html": [
       "<div>\n",
       "<style scoped>\n",
       "    .dataframe tbody tr th:only-of-type {\n",
       "        vertical-align: middle;\n",
       "    }\n",
       "\n",
       "    .dataframe tbody tr th {\n",
       "        vertical-align: top;\n",
       "    }\n",
       "\n",
       "    .dataframe thead th {\n",
       "        text-align: right;\n",
       "    }\n",
       "</style>\n",
       "<table border=\"1\" class=\"dataframe\">\n",
       "  <thead>\n",
       "    <tr style=\"text-align: right;\">\n",
       "      <th></th>\n",
       "      <th>label</th>\n",
       "      <th>pixel0</th>\n",
       "      <th>pixel1</th>\n",
       "      <th>pixel2</th>\n",
       "      <th>pixel3</th>\n",
       "      <th>pixel4</th>\n",
       "      <th>pixel5</th>\n",
       "      <th>pixel6</th>\n",
       "      <th>pixel7</th>\n",
       "      <th>pixel8</th>\n",
       "      <th>...</th>\n",
       "      <th>pixel774</th>\n",
       "      <th>pixel775</th>\n",
       "      <th>pixel776</th>\n",
       "      <th>pixel777</th>\n",
       "      <th>pixel778</th>\n",
       "      <th>pixel779</th>\n",
       "      <th>pixel780</th>\n",
       "      <th>pixel781</th>\n",
       "      <th>pixel782</th>\n",
       "      <th>pixel783</th>\n",
       "    </tr>\n",
       "  </thead>\n",
       "  <tbody>\n",
       "    <tr>\n",
       "      <th>0</th>\n",
       "      <td>1</td>\n",
       "      <td>0</td>\n",
       "      <td>0</td>\n",
       "      <td>0</td>\n",
       "      <td>0</td>\n",
       "      <td>0</td>\n",
       "      <td>0</td>\n",
       "      <td>0</td>\n",
       "      <td>0</td>\n",
       "      <td>0</td>\n",
       "      <td>...</td>\n",
       "      <td>0</td>\n",
       "      <td>0</td>\n",
       "      <td>0</td>\n",
       "      <td>0</td>\n",
       "      <td>0</td>\n",
       "      <td>0</td>\n",
       "      <td>0</td>\n",
       "      <td>0</td>\n",
       "      <td>0</td>\n",
       "      <td>0</td>\n",
       "    </tr>\n",
       "    <tr>\n",
       "      <th>1</th>\n",
       "      <td>0</td>\n",
       "      <td>0</td>\n",
       "      <td>0</td>\n",
       "      <td>0</td>\n",
       "      <td>0</td>\n",
       "      <td>0</td>\n",
       "      <td>0</td>\n",
       "      <td>0</td>\n",
       "      <td>0</td>\n",
       "      <td>0</td>\n",
       "      <td>...</td>\n",
       "      <td>0</td>\n",
       "      <td>0</td>\n",
       "      <td>0</td>\n",
       "      <td>0</td>\n",
       "      <td>0</td>\n",
       "      <td>0</td>\n",
       "      <td>0</td>\n",
       "      <td>0</td>\n",
       "      <td>0</td>\n",
       "      <td>0</td>\n",
       "    </tr>\n",
       "    <tr>\n",
       "      <th>2</th>\n",
       "      <td>1</td>\n",
       "      <td>0</td>\n",
       "      <td>0</td>\n",
       "      <td>0</td>\n",
       "      <td>0</td>\n",
       "      <td>0</td>\n",
       "      <td>0</td>\n",
       "      <td>0</td>\n",
       "      <td>0</td>\n",
       "      <td>0</td>\n",
       "      <td>...</td>\n",
       "      <td>0</td>\n",
       "      <td>0</td>\n",
       "      <td>0</td>\n",
       "      <td>0</td>\n",
       "      <td>0</td>\n",
       "      <td>0</td>\n",
       "      <td>0</td>\n",
       "      <td>0</td>\n",
       "      <td>0</td>\n",
       "      <td>0</td>\n",
       "    </tr>\n",
       "    <tr>\n",
       "      <th>3</th>\n",
       "      <td>4</td>\n",
       "      <td>0</td>\n",
       "      <td>0</td>\n",
       "      <td>0</td>\n",
       "      <td>0</td>\n",
       "      <td>0</td>\n",
       "      <td>0</td>\n",
       "      <td>0</td>\n",
       "      <td>0</td>\n",
       "      <td>0</td>\n",
       "      <td>...</td>\n",
       "      <td>0</td>\n",
       "      <td>0</td>\n",
       "      <td>0</td>\n",
       "      <td>0</td>\n",
       "      <td>0</td>\n",
       "      <td>0</td>\n",
       "      <td>0</td>\n",
       "      <td>0</td>\n",
       "      <td>0</td>\n",
       "      <td>0</td>\n",
       "    </tr>\n",
       "    <tr>\n",
       "      <th>4</th>\n",
       "      <td>0</td>\n",
       "      <td>0</td>\n",
       "      <td>0</td>\n",
       "      <td>0</td>\n",
       "      <td>0</td>\n",
       "      <td>0</td>\n",
       "      <td>0</td>\n",
       "      <td>0</td>\n",
       "      <td>0</td>\n",
       "      <td>0</td>\n",
       "      <td>...</td>\n",
       "      <td>0</td>\n",
       "      <td>0</td>\n",
       "      <td>0</td>\n",
       "      <td>0</td>\n",
       "      <td>0</td>\n",
       "      <td>0</td>\n",
       "      <td>0</td>\n",
       "      <td>0</td>\n",
       "      <td>0</td>\n",
       "      <td>0</td>\n",
       "    </tr>\n",
       "  </tbody>\n",
       "</table>\n",
       "<p>5 rows × 785 columns</p>\n",
       "</div>"
      ],
      "text/plain": [
       "   label  pixel0  pixel1  pixel2  pixel3  pixel4  pixel5  pixel6  pixel7  \\\n",
       "0      1       0       0       0       0       0       0       0       0   \n",
       "1      0       0       0       0       0       0       0       0       0   \n",
       "2      1       0       0       0       0       0       0       0       0   \n",
       "3      4       0       0       0       0       0       0       0       0   \n",
       "4      0       0       0       0       0       0       0       0       0   \n",
       "\n",
       "   pixel8  ...  pixel774  pixel775  pixel776  pixel777  pixel778  pixel779  \\\n",
       "0       0  ...         0         0         0         0         0         0   \n",
       "1       0  ...         0         0         0         0         0         0   \n",
       "2       0  ...         0         0         0         0         0         0   \n",
       "3       0  ...         0         0         0         0         0         0   \n",
       "4       0  ...         0         0         0         0         0         0   \n",
       "\n",
       "   pixel780  pixel781  pixel782  pixel783  \n",
       "0         0         0         0         0  \n",
       "1         0         0         0         0  \n",
       "2         0         0         0         0  \n",
       "3         0         0         0         0  \n",
       "4         0         0         0         0  \n",
       "\n",
       "[5 rows x 785 columns]"
      ]
     },
     "execution_count": 3,
     "metadata": {},
     "output_type": "execute_result"
    }
   ],
   "source": [
    "path = '../input/digit-recognizer/train.csv'\n",
    "df = pd.read_csv(path)\n",
    "\n",
    "print(df.shape)\n",
    "df.head()"
   ]
  },
  {
   "cell_type": "code",
   "execution_count": 4,
   "id": "5c60ead9",
   "metadata": {
    "execution": {
     "iopub.execute_input": "2021-10-25T19:15:47.296529Z",
     "iopub.status.busy": "2021-10-25T19:15:47.295174Z",
     "iopub.status.idle": "2021-10-25T19:15:47.297816Z",
     "shell.execute_reply": "2021-10-25T19:15:47.298195Z",
     "shell.execute_reply.started": "2021-10-13T17:27:54.073568Z"
    },
    "papermill": {
     "duration": 0.032156,
     "end_time": "2021-10-25T19:15:47.298325",
     "exception": false,
     "start_time": "2021-10-25T19:15:47.266169",
     "status": "completed"
    },
    "tags": []
   },
   "outputs": [],
   "source": [
    "# Configure random state\n",
    "RANDOM_SEED = 123"
   ]
  },
  {
   "cell_type": "markdown",
   "id": "914e80ae",
   "metadata": {
    "papermill": {
     "duration": 0.025847,
     "end_time": "2021-10-25T19:15:47.349884",
     "exception": false,
     "start_time": "2021-10-25T19:15:47.324037",
     "status": "completed"
    },
    "tags": []
   },
   "source": [
    "### 1.3 Isolate the label column from the pixel data."
   ]
  },
  {
   "cell_type": "code",
   "execution_count": 5,
   "id": "4c2850ae",
   "metadata": {
    "execution": {
     "iopub.execute_input": "2021-10-25T19:15:47.407329Z",
     "iopub.status.busy": "2021-10-25T19:15:47.406188Z",
     "iopub.status.idle": "2021-10-25T19:15:47.486648Z",
     "shell.execute_reply": "2021-10-25T19:15:47.486131Z",
     "shell.execute_reply.started": "2021-10-13T17:27:54.08678Z"
    },
    "papermill": {
     "duration": 0.111206,
     "end_time": "2021-10-25T19:15:47.486797",
     "exception": false,
     "start_time": "2021-10-25T19:15:47.375591",
     "status": "completed"
    },
    "tags": []
   },
   "outputs": [],
   "source": [
    "y_labels = df.pop('label')\n",
    "x_pixels = df"
   ]
  },
  {
   "cell_type": "markdown",
   "id": "cbd3f0c4",
   "metadata": {
    "papermill": {
     "duration": 0.025262,
     "end_time": "2021-10-25T19:15:47.538174",
     "exception": false,
     "start_time": "2021-10-25T19:15:47.512912",
     "status": "completed"
    },
    "tags": []
   },
   "source": [
    "### 1.4 Review the labels to confirm the number of unique values."
   ]
  },
  {
   "cell_type": "code",
   "execution_count": 6,
   "id": "63bd8813",
   "metadata": {
    "execution": {
     "iopub.execute_input": "2021-10-25T19:15:47.593610Z",
     "iopub.status.busy": "2021-10-25T19:15:47.592832Z",
     "iopub.status.idle": "2021-10-25T19:15:47.599615Z",
     "shell.execute_reply": "2021-10-25T19:15:47.599144Z",
     "shell.execute_reply.started": "2021-10-13T17:27:54.184293Z"
    },
    "papermill": {
     "duration": 0.035977,
     "end_time": "2021-10-25T19:15:47.599728",
     "exception": false,
     "start_time": "2021-10-25T19:15:47.563751",
     "status": "completed"
    },
    "tags": []
   },
   "outputs": [
    {
     "name": "stdout",
     "output_type": "stream",
     "text": [
      "Labels:  [0 1 2 3 4 5 6 7 8 9]\n",
      "No. Labels:  10\n"
     ]
    }
   ],
   "source": [
    "unique_labels = np.unique(y_labels)\n",
    "NUM_LABELS = (len(unique_labels))\n",
    "print(\"Labels: \", unique_labels)\n",
    "print(\"No. Labels: \", NUM_LABELS)"
   ]
  },
  {
   "cell_type": "markdown",
   "id": "9b9678b0",
   "metadata": {
    "papermill": {
     "duration": 0.025361,
     "end_time": "2021-10-25T19:15:47.650899",
     "exception": false,
     "start_time": "2021-10-25T19:15:47.625538",
     "status": "completed"
    },
    "tags": []
   },
   "source": [
    "The training data has 42,000 images.  Let's examine one of them. "
   ]
  },
  {
   "cell_type": "code",
   "execution_count": 7,
   "id": "02521611",
   "metadata": {
    "execution": {
     "iopub.execute_input": "2021-10-25T19:15:47.722336Z",
     "iopub.status.busy": "2021-10-25T19:15:47.721699Z",
     "iopub.status.idle": "2021-10-25T19:15:47.900880Z",
     "shell.execute_reply": "2021-10-25T19:15:47.901300Z",
     "shell.execute_reply.started": "2021-10-13T17:27:54.204424Z"
    },
    "papermill": {
     "duration": 0.223856,
     "end_time": "2021-10-25T19:15:47.901442",
     "exception": false,
     "start_time": "2021-10-25T19:15:47.677586",
     "status": "completed"
    },
    "tags": []
   },
   "outputs": [
    {
     "data": {
      "image/png": "[encoded data removed]",
      "text/plain": [
       "<Figure size 432x288 with 2 Axes>"
      ]
     },
     "metadata": {
      "needs_background": "light"
     },
     "output_type": "display_data"
    }
   ],
   "source": [
    "plt.figure()\n",
    "# Reshape the array to 28x28 dimensions\n",
    "plt.imshow(np.array(x_pixels.iloc[0]).reshape(28, 28)) \n",
    "plt.colorbar()\n",
    "plt.show()"
   ]
  },
  {
   "cell_type": "markdown",
   "id": "a4967cac",
   "metadata": {
    "papermill": {
     "duration": 0.026582,
     "end_time": "2021-10-25T19:15:47.954371",
     "exception": false,
     "start_time": "2021-10-25T19:15:47.927789",
     "status": "completed"
    },
    "tags": []
   },
   "source": [
    "The colorbar shows the pixel values are within the grayscale range of 0 to 255.  These values will need to be scaled to a range of 0 to 1 which will be covered later in this guide.\n",
    "Let's visualize some more images, this time matched with their labels.   "
   ]
  },
  {
   "cell_type": "code",
   "execution_count": 8,
   "id": "346317fe",
   "metadata": {
    "execution": {
     "iopub.execute_input": "2021-10-25T19:15:48.046369Z",
     "iopub.status.busy": "2021-10-25T19:15:48.032698Z",
     "iopub.status.idle": "2021-10-25T19:15:48.465767Z",
     "shell.execute_reply": "2021-10-25T19:15:48.466349Z",
     "shell.execute_reply.started": "2021-10-13T17:27:54.436906Z"
    },
    "papermill": {
     "duration": 0.485641,
     "end_time": "2021-10-25T19:15:48.466553",
     "exception": false,
     "start_time": "2021-10-25T19:15:47.980912",
     "status": "completed"
    },
    "tags": []
   },
   "outputs": [
    {
     "data": {
      "image/png": "[encoded data removed]",
      "text/plain": [
       "<Figure size 432x288 with 8 Axes>"
      ]
     },
     "metadata": {
      "needs_background": "light"
     },
     "output_type": "display_data"
    }
   ],
   "source": [
    "plt.figure()\n",
    "for i in range(8): \n",
    "    ax = plt.subplot(2, 4, i + 1)\n",
    "    plt.imshow(np.array(x_pixels.iloc[i]).reshape(28, 28))\n",
    "    plt.title(y_labels[i])\n",
    "    plt.axis('off')"
   ]
  },
  {
   "cell_type": "markdown",
   "id": "ae74683a",
   "metadata": {
    "papermill": {
     "duration": 0.027114,
     "end_time": "2021-10-25T19:15:48.521436",
     "exception": false,
     "start_time": "2021-10-25T19:15:48.494322",
     "status": "completed"
    },
    "tags": []
   },
   "source": [
    "With the data verified, it's time to create Datasets for training and validation."
   ]
  },
  {
   "cell_type": "code",
   "execution_count": 9,
   "id": "cccb649a",
   "metadata": {
    "execution": {
     "iopub.execute_input": "2021-10-25T19:15:48.581258Z",
     "iopub.status.busy": "2021-10-25T19:15:48.579843Z",
     "iopub.status.idle": "2021-10-25T19:15:48.814509Z",
     "shell.execute_reply": "2021-10-25T19:15:48.813491Z",
     "shell.execute_reply.started": "2021-10-13T17:27:54.926344Z"
    },
    "papermill": {
     "duration": 0.266192,
     "end_time": "2021-10-25T19:15:48.814668",
     "exception": false,
     "start_time": "2021-10-25T19:15:48.548476",
     "status": "completed"
    },
    "tags": []
   },
   "outputs": [],
   "source": [
    "x_train, x_val, y_train, y_val = train_test_split(x_pixels, y_labels, test_size=0.2, random_state=RANDOM_SEED)"
   ]
  },
  {
   "cell_type": "markdown",
   "id": "186467e4",
   "metadata": {
    "papermill": {
     "duration": 0.027275,
     "end_time": "2021-10-25T19:15:48.870236",
     "exception": false,
     "start_time": "2021-10-25T19:15:48.842961",
     "status": "completed"
    },
    "tags": []
   },
   "source": [
    "For this split 80% of the images will be used for training, and 20% for validation."
   ]
  },
  {
   "cell_type": "code",
   "execution_count": 10,
   "id": "311a0f43",
   "metadata": {
    "execution": {
     "iopub.execute_input": "2021-10-25T19:15:48.932208Z",
     "iopub.status.busy": "2021-10-25T19:15:48.930887Z",
     "iopub.status.idle": "2021-10-25T19:15:48.934869Z",
     "shell.execute_reply": "2021-10-25T19:15:48.934397Z",
     "shell.execute_reply.started": "2021-10-13T17:27:55.178068Z"
    },
    "papermill": {
     "duration": 0.037174,
     "end_time": "2021-10-25T19:15:48.934977",
     "exception": false,
     "start_time": "2021-10-25T19:15:48.897803",
     "status": "completed"
    },
    "tags": []
   },
   "outputs": [
    {
     "name": "stdout",
     "output_type": "stream",
     "text": [
      "(33600, 784)\n",
      "(8400, 784)\n",
      "(33600,)\n",
      "(8400,)\n"
     ]
    }
   ],
   "source": [
    "print(x_train.shape)\n",
    "print(x_val.shape)\n",
    "print(y_train.shape)\n",
    "print(y_val.shape)"
   ]
  },
  {
   "cell_type": "markdown",
   "id": "fe157200",
   "metadata": {
    "papermill": {
     "duration": 0.027766,
     "end_time": "2021-10-25T19:15:48.990570",
     "exception": false,
     "start_time": "2021-10-25T19:15:48.962804",
     "status": "completed"
    },
    "tags": []
   },
   "source": [
    "# 2. Create Datasets from the training and validation data\n",
    "The Dataset object is a Python iterable that can be configured for improved performance.  Datasets are used to build efficient input pipelines in TensorFlow."
   ]
  },
  {
   "cell_type": "code",
   "execution_count": 11,
   "id": "45efb248",
   "metadata": {
    "execution": {
     "iopub.execute_input": "2021-10-25T19:15:49.054136Z",
     "iopub.status.busy": "2021-10-25T19:15:49.053095Z",
     "iopub.status.idle": "2021-10-25T19:15:50.957287Z",
     "shell.execute_reply": "2021-10-25T19:15:50.956656Z",
     "shell.execute_reply.started": "2021-10-13T17:27:55.184376Z"
    },
    "papermill": {
     "duration": 1.937393,
     "end_time": "2021-10-25T19:15:50.957424",
     "exception": false,
     "start_time": "2021-10-25T19:15:49.020031",
     "status": "completed"
    },
    "tags": []
   },
   "outputs": [],
   "source": [
    "train_ds = tf.data.Dataset.from_tensor_slices((x_train, y_train))\n",
    "val_ds = tf.data.Dataset.from_tensor_slices((x_val, y_val))"
   ]
  },
  {
   "cell_type": "markdown",
   "id": "ed80ce02",
   "metadata": {
    "papermill": {
     "duration": 0.028394,
     "end_time": "2021-10-25T19:15:51.014449",
     "exception": false,
     "start_time": "2021-10-25T19:15:50.986055",
     "status": "completed"
    },
    "tags": []
   },
   "source": [
    "### 2.1 The following code shows 4 different Dataset methods:\n",
    "* *Cache()*: Keeps the Dataset elements in memory to be used in later iterations.  \n",
    "* *Shuffle()*: Randomly shuffles the elements of the Dataset so each batch can reflect the overall distribution.  This reduces overfitting and variance when training.\n",
    "* *Batch()*: Packs the elements of the Dataset into batches.  This determines the number of samples processed during an iteration. \n",
    "* *Prefetch()*: Reduces time by overlapping data preprocessing and model execution of a training step."
   ]
  },
  {
   "cell_type": "code",
   "execution_count": 12,
   "id": "db6cd3b3",
   "metadata": {
    "execution": {
     "iopub.execute_input": "2021-10-25T19:15:51.076615Z",
     "iopub.status.busy": "2021-10-25T19:15:51.075922Z",
     "iopub.status.idle": "2021-10-25T19:15:51.078355Z",
     "shell.execute_reply": "2021-10-25T19:15:51.078763Z",
     "shell.execute_reply.started": "2021-10-13T17:27:57.680905Z"
    },
    "papermill": {
     "duration": 0.036863,
     "end_time": "2021-10-25T19:15:51.078896",
     "exception": false,
     "start_time": "2021-10-25T19:15:51.042033",
     "status": "completed"
    },
    "tags": []
   },
   "outputs": [],
   "source": [
    "AUTOTUNE = tf.data.experimental.AUTOTUNE\n",
    "BUFFER_SIZE = 1000 # Shuffle buffer\n",
    "BATCH_SIZE = 32\n",
    "\n",
    "def configure_dataset(dataset, shuffle=False, test=False):\n",
    "    # Configure the tf dataset for cache, shuffle, batch, and prefetch\n",
    "    if shuffle:\n",
    "        dataset = dataset.cache()\\\n",
    "                        .shuffle(BUFFER_SIZE, seed=RANDOM_SEED, reshuffle_each_iteration=True)\\\n",
    "                        .batch(BATCH_SIZE, drop_remainder=True).prefetch(AUTOTUNE)\n",
    "    elif test:\n",
    "        dataset = dataset.cache()\\\n",
    "                        .batch(BATCH_SIZE, drop_remainder=False).prefetch(AUTOTUNE)\n",
    "    else:\n",
    "        dataset = dataset.cache()\\\n",
    "                        .batch(BATCH_SIZE, drop_remainder=True).prefetch(AUTOTUNE)\n",
    "    return dataset"
   ]
  },
  {
   "cell_type": "code",
   "execution_count": 13,
   "id": "6c9dd803",
   "metadata": {
    "execution": {
     "iopub.execute_input": "2021-10-25T19:15:51.137147Z",
     "iopub.status.busy": "2021-10-25T19:15:51.136659Z",
     "iopub.status.idle": "2021-10-25T19:15:51.450614Z",
     "shell.execute_reply": "2021-10-25T19:15:51.449769Z",
     "shell.execute_reply.started": "2021-10-13T17:27:57.689734Z"
    },
    "papermill": {
     "duration": 0.344567,
     "end_time": "2021-10-25T19:15:51.450757",
     "exception": false,
     "start_time": "2021-10-25T19:15:51.106190",
     "status": "completed"
    },
    "tags": []
   },
   "outputs": [],
   "source": [
    "train_ds = configure_dataset(train_ds, shuffle=True)\n",
    "val_ds = configure_dataset(val_ds)"
   ]
  },
  {
   "cell_type": "markdown",
   "id": "6e017e58",
   "metadata": {
    "papermill": {
     "duration": 0.027923,
     "end_time": "2021-10-25T19:15:51.507176",
     "exception": false,
     "start_time": "2021-10-25T19:15:51.479253",
     "status": "completed"
    },
    "tags": []
   },
   "source": [
    "Observe the shape of the training and validation Datasets.  This is the batch size (128) and number of pixel columns (784)."
   ]
  },
  {
   "cell_type": "code",
   "execution_count": 14,
   "id": "b2da4faf",
   "metadata": {
    "execution": {
     "iopub.execute_input": "2021-10-25T19:15:51.568887Z",
     "iopub.status.busy": "2021-10-25T19:15:51.568181Z",
     "iopub.status.idle": "2021-10-25T19:15:51.572084Z",
     "shell.execute_reply": "2021-10-25T19:15:51.571644Z",
     "shell.execute_reply.started": "2021-10-13T17:27:58.012786Z"
    },
    "papermill": {
     "duration": 0.036469,
     "end_time": "2021-10-25T19:15:51.572193",
     "exception": false,
     "start_time": "2021-10-25T19:15:51.535724",
     "status": "completed"
    },
    "tags": []
   },
   "outputs": [
    {
     "name": "stdout",
     "output_type": "stream",
     "text": [
      "(TensorSpec(shape=(32, 784), dtype=tf.int64, name=None), TensorSpec(shape=(32,), dtype=tf.int64, name=None))\n",
      "(TensorSpec(shape=(32, 784), dtype=tf.int64, name=None), TensorSpec(shape=(32,), dtype=tf.int64, name=None))\n"
     ]
    }
   ],
   "source": [
    "print(train_ds.element_spec)\n",
    "print(val_ds.element_spec)"
   ]
  },
  {
   "cell_type": "markdown",
   "id": "15a1dbd7",
   "metadata": {
    "papermill": {
     "duration": 0.031467,
     "end_time": "2021-10-25T19:15:51.632278",
     "exception": false,
     "start_time": "2021-10-25T19:15:51.600811",
     "status": "completed"
    },
    "tags": []
   },
   "source": [
    "# 3. Build a sequential CNN with preprocessing layers\n",
    "\n",
    "The reshaping and rescaling tasks are included in the model.  These preprocessing layers can then be saved and exported with the CNN.  This is the preferred approach only if you're training on a GPU. \n",
    "\n",
    "A CNN requires image dimensions and a color channel to function.  Here inputs are reshaped to include the grayscale color channel.  \n",
    "\n",
    "Inputs need to be normalized to a range of 0 to 1.  Divide the pixel values by 255 to achieve this scale.  Insert this layer after reshaping. \n",
    "\n",
    "In this example two convolutional layers are used, each with batch normalization, max pooling, and a dropout layer. A final classification layer is added with units the size of the number of classes."
   ]
  },
  {
   "cell_type": "code",
   "execution_count": 15,
   "id": "aba08991",
   "metadata": {
    "execution": {
     "iopub.execute_input": "2021-10-25T19:15:51.702735Z",
     "iopub.status.busy": "2021-10-25T19:15:51.702075Z",
     "iopub.status.idle": "2021-10-25T19:15:51.816499Z",
     "shell.execute_reply": "2021-10-25T19:15:51.816064Z",
     "shell.execute_reply.started": "2021-10-13T17:27:58.027097Z"
    },
    "papermill": {
     "duration": 0.151671,
     "end_time": "2021-10-25T19:15:51.816615",
     "exception": false,
     "start_time": "2021-10-25T19:15:51.664944",
     "status": "completed"
    },
    "tags": []
   },
   "outputs": [
    {
     "name": "stdout",
     "output_type": "stream",
     "text": [
      "Model: \"sequential\"\n",
      "_________________________________________________________________\n",
      "Layer (type)                 Output Shape              Param #   \n",
      "=================================================================\n",
      "reshape (Reshape)            (None, 28, 28, 1)         0         \n",
      "_________________________________________________________________\n",
      "rescaling (Rescaling)        (None, 28, 28, 1)         0         \n",
      "_________________________________________________________________\n",
      "conv2d (Conv2D)              (None, 26, 26, 128)       1280      \n",
      "_________________________________________________________________\n",
      "batch_normalization (BatchNo (None, 26, 26, 128)       512       \n",
      "_________________________________________________________________\n",
      "max_pooling2d (MaxPooling2D) (None, 13, 13, 128)       0         \n",
      "_________________________________________________________________\n",
      "dropout (Dropout)            (None, 13, 13, 128)       0         \n",
      "_________________________________________________________________\n",
      "conv2d_1 (Conv2D)            (None, 11, 11, 128)       147584    \n",
      "_________________________________________________________________\n",
      "batch_normalization_1 (Batch (None, 11, 11, 128)       512       \n",
      "_________________________________________________________________\n",
      "max_pooling2d_1 (MaxPooling2 (None, 5, 5, 128)         0         \n",
      "_________________________________________________________________\n",
      "dropout_1 (Dropout)          (None, 5, 5, 128)         0         \n",
      "_________________________________________________________________\n",
      "flatten (Flatten)            (None, 3200)              0         \n",
      "_________________________________________________________________\n",
      "dense (Dense)                (None, 10)                32010     \n",
      "=================================================================\n",
      "Total params: 181,898\n",
      "Trainable params: 181,386\n",
      "Non-trainable params: 512\n",
      "_________________________________________________________________\n"
     ]
    }
   ],
   "source": [
    "# Reshape to (height, width, color channel)\n",
    "reshape_layer = layers.Reshape((28, 28, 1))\n",
    "# Include the decimal point when dividing to output floats \n",
    "rescale_layer = layers.experimental.preprocessing.Rescaling(scale=1./255)\n",
    "\n",
    "model = Sequential([\n",
    "                    layers.InputLayer(input_shape=[28, 28]),\n",
    "                    reshape_layer,\n",
    "                    rescale_layer,\n",
    "                    layers.Conv2D(128, kernel_size=3, activation='relu'),                                                 \n",
    "                    layers.BatchNormalization(), # Normalizes layer activations                     \n",
    "                    layers.MaxPooling2D(2,2), # Downsamples the feature map                    \n",
    "                    layers.Dropout(0.5), # Reduces overfitting\n",
    "                    layers.Conv2D(128, kernel_size=3, activation='relu'),\n",
    "                    layers.BatchNormalization(),\n",
    "                    layers.MaxPooling2D(2,2),\n",
    "                    layers.Dropout(0.5), \n",
    "                    layers.Flatten(),  \n",
    "                    layers.Dense(NUM_LABELS, activation='softmax')\n",
    "])\n",
    "\n",
    "model.summary()"
   ]
  },
  {
   "cell_type": "markdown",
   "id": "a73743b3",
   "metadata": {
    "papermill": {
     "duration": 0.028056,
     "end_time": "2021-10-25T19:15:51.872854",
     "exception": false,
     "start_time": "2021-10-25T19:15:51.844798",
     "status": "completed"
    },
    "tags": []
   },
   "source": [
    "# 4. Train the CNN model \n",
    "Sparse categorical crossentropy is used as the loss function with Adam as the optimizer."
   ]
  },
  {
   "cell_type": "code",
   "execution_count": 16,
   "id": "10a54157",
   "metadata": {
    "execution": {
     "iopub.execute_input": "2021-10-25T19:15:51.939536Z",
     "iopub.status.busy": "2021-10-25T19:15:51.938725Z",
     "iopub.status.idle": "2021-10-25T19:17:21.982647Z",
     "shell.execute_reply": "2021-10-25T19:17:21.982185Z",
     "shell.execute_reply.started": "2021-10-13T17:29:49.021645Z"
    },
    "papermill": {
     "duration": 90.081576,
     "end_time": "2021-10-25T19:17:21.982798",
     "exception": false,
     "start_time": "2021-10-25T19:15:51.901222",
     "status": "completed"
    },
    "tags": []
   },
   "outputs": [
    {
     "name": "stdout",
     "output_type": "stream",
     "text": [
      "Epoch 1/20\n",
      "1050/1050 [==============================] - 12s 5ms/step - loss: 0.6756 - accuracy: 0.8364 - val_loss: 0.1013 - val_accuracy: 0.9745\n",
      "Epoch 2/20\n",
      "1050/1050 [==============================] - 4s 4ms/step - loss: 0.1614 - accuracy: 0.9629 - val_loss: 0.0957 - val_accuracy: 0.9745\n",
      "Epoch 3/20\n",
      "1050/1050 [==============================] - 4s 4ms/step - loss: 0.1337 - accuracy: 0.9694 - val_loss: 0.0818 - val_accuracy: 0.9821\n",
      "Epoch 4/20\n",
      "1050/1050 [==============================] - 4s 4ms/step - loss: 0.1156 - accuracy: 0.9738 - val_loss: 0.0706 - val_accuracy: 0.9851\n",
      "Epoch 5/20\n",
      "1050/1050 [==============================] - 4s 4ms/step - loss: 0.1008 - accuracy: 0.9780 - val_loss: 0.0656 - val_accuracy: 0.9856\n",
      "Epoch 6/20\n",
      "1050/1050 [==============================] - 4s 4ms/step - loss: 0.0956 - accuracy: 0.9776 - val_loss: 0.0554 - val_accuracy: 0.9868\n",
      "Epoch 7/20\n",
      "1050/1050 [==============================] - 4s 4ms/step - loss: 0.0826 - accuracy: 0.9812 - val_loss: 0.0555 - val_accuracy: 0.9870\n",
      "Epoch 8/20\n",
      "1050/1050 [==============================] - 4s 4ms/step - loss: 0.0789 - accuracy: 0.9818 - val_loss: 0.0507 - val_accuracy: 0.9877\n",
      "Epoch 9/20\n",
      "1050/1050 [==============================] - 4s 4ms/step - loss: 0.0714 - accuracy: 0.9827 - val_loss: 0.0549 - val_accuracy: 0.9887\n",
      "Epoch 10/20\n",
      "1050/1050 [==============================] - 4s 4ms/step - loss: 0.0654 - accuracy: 0.9848 - val_loss: 0.0453 - val_accuracy: 0.9884\n",
      "Epoch 11/20\n",
      "1050/1050 [==============================] - 4s 4ms/step - loss: 0.0562 - accuracy: 0.9859 - val_loss: 0.0689 - val_accuracy: 0.9827\n",
      "Epoch 12/20\n",
      "1050/1050 [==============================] - 4s 4ms/step - loss: 0.0563 - accuracy: 0.9852 - val_loss: 0.0411 - val_accuracy: 0.9893\n",
      "Epoch 13/20\n",
      "1050/1050 [==============================] - 4s 4ms/step - loss: 0.0556 - accuracy: 0.9856 - val_loss: 0.0421 - val_accuracy: 0.9895\n",
      "Epoch 14/20\n",
      "1050/1050 [==============================] - 4s 4ms/step - loss: 0.0498 - accuracy: 0.9864 - val_loss: 0.0343 - val_accuracy: 0.9920\n",
      "Epoch 15/20\n",
      "1050/1050 [==============================] - 4s 4ms/step - loss: 0.0454 - accuracy: 0.9876 - val_loss: 0.0388 - val_accuracy: 0.9895\n",
      "Epoch 16/20\n",
      "1050/1050 [==============================] - 4s 4ms/step - loss: 0.0347 - accuracy: 0.9898 - val_loss: 0.0417 - val_accuracy: 0.9889\n",
      "Epoch 17/20\n",
      "1050/1050 [==============================] - 4s 4ms/step - loss: 0.0421 - accuracy: 0.9885 - val_loss: 0.0395 - val_accuracy: 0.9894\n",
      "Epoch 18/20\n",
      "1050/1050 [==============================] - 4s 4ms/step - loss: 0.0357 - accuracy: 0.9894 - val_loss: 0.0374 - val_accuracy: 0.9900\n",
      "Epoch 19/20\n",
      "1050/1050 [==============================] - 4s 4ms/step - loss: 0.0314 - accuracy: 0.9908 - val_loss: 0.0365 - val_accuracy: 0.9895\n",
      "Epoch 20/20\n",
      "1050/1050 [==============================] - 4s 4ms/step - loss: 0.0363 - accuracy: 0.9881 - val_loss: 0.0323 - val_accuracy: 0.9894\n"
     ]
    }
   ],
   "source": [
    "model.compile(\n",
    "    loss='sparse_categorical_crossentropy', \n",
    "    optimizer=Adam(lr=1e-3),\n",
    "    metrics=['accuracy']\n",
    ")\n",
    "\n",
    "EPOCHS = 20\n",
    "\n",
    "history = model.fit(\n",
    "    train_ds,\n",
    "    epochs=EPOCHS, \n",
    "    validation_data=val_ds\n",
    ")"
   ]
  },
  {
   "cell_type": "markdown",
   "id": "64efa0ca",
   "metadata": {
    "papermill": {
     "duration": 0.361511,
     "end_time": "2021-10-25T19:17:22.708785",
     "exception": false,
     "start_time": "2021-10-25T19:17:22.347274",
     "status": "completed"
    },
    "tags": []
   },
   "source": [
    "# 5. Visualize and evaluate the training and validation results"
   ]
  },
  {
   "cell_type": "code",
   "execution_count": 17,
   "id": "5b0cf1a5",
   "metadata": {
    "execution": {
     "iopub.execute_input": "2021-10-25T19:17:23.440928Z",
     "iopub.status.busy": "2021-10-25T19:17:23.439899Z",
     "iopub.status.idle": "2021-10-25T19:17:23.442271Z",
     "shell.execute_reply": "2021-10-25T19:17:23.442651Z",
     "shell.execute_reply.started": "2021-10-13T17:31:58.659989Z"
    },
    "papermill": {
     "duration": 0.370376,
     "end_time": "2021-10-25T19:17:23.442799",
     "exception": false,
     "start_time": "2021-10-25T19:17:23.072423",
     "status": "completed"
    },
    "tags": []
   },
   "outputs": [],
   "source": [
    "# Assign the loss and accuracy metrics\n",
    "train_loss = history.history['loss']\n",
    "val_loss = history.history['val_loss']\n",
    "train_acc = history.history['accuracy']\n",
    "val_acc = history.history['val_accuracy']"
   ]
  },
  {
   "cell_type": "code",
   "execution_count": 18,
   "id": "16460b4b",
   "metadata": {
    "execution": {
     "iopub.execute_input": "2021-10-25T19:17:24.169545Z",
     "iopub.status.busy": "2021-10-25T19:17:24.168564Z",
     "iopub.status.idle": "2021-10-25T19:17:24.171523Z",
     "shell.execute_reply": "2021-10-25T19:17:24.171107Z",
     "shell.execute_reply.started": "2021-10-13T17:31:58.669302Z"
    },
    "papermill": {
     "duration": 0.36951,
     "end_time": "2021-10-25T19:17:24.171636",
     "exception": false,
     "start_time": "2021-10-25T19:17:23.802126",
     "status": "completed"
    },
    "tags": []
   },
   "outputs": [],
   "source": [
    "# Create a function to plot the metrics\n",
    "def plot_history(train_history, val_history, label):\n",
    "    plt.plot(train_history, label=f'Training {label}')\n",
    "    plt.plot(val_history, label=f'Validation {label}')\n",
    "    plt.xlabel('Epochs')\n",
    "    plt.legend()\n",
    "    return plt.show()"
   ]
  },
  {
   "cell_type": "markdown",
   "id": "eb348a67",
   "metadata": {
    "papermill": {
     "duration": 0.367585,
     "end_time": "2021-10-25T19:17:24.899570",
     "exception": false,
     "start_time": "2021-10-25T19:17:24.531985",
     "status": "completed"
    },
    "tags": []
   },
   "source": [
    "The training and validation plots should converge for optimal results."
   ]
  },
  {
   "cell_type": "code",
   "execution_count": 19,
   "id": "13c83cc5",
   "metadata": {
    "execution": {
     "iopub.execute_input": "2021-10-25T19:17:25.686801Z",
     "iopub.status.busy": "2021-10-25T19:17:25.685919Z",
     "iopub.status.idle": "2021-10-25T19:17:25.965909Z",
     "shell.execute_reply": "2021-10-25T19:17:25.965159Z",
     "shell.execute_reply.started": "2021-10-13T17:31:58.678341Z"
    },
    "papermill": {
     "duration": 0.66358,
     "end_time": "2021-10-25T19:17:25.966031",
     "exception": false,
     "start_time": "2021-10-25T19:17:25.302451",
     "status": "completed"
    },
    "tags": []
   },
   "outputs": [
    {
     "data": {
      "image/png": "[encoded data removed]",
      "text/plain": [
       "<Figure size 432x288 with 1 Axes>"
      ]
     },
     "metadata": {
      "needs_background": "light"
     },
     "output_type": "display_data"
    },
    {
     "data": {
      "image/png": "[encoded data removed]",
      "text/plain": [
       "<Figure size 432x288 with 1 Axes>"
      ]
     },
     "metadata": {
      "needs_background": "light"
     },
     "output_type": "display_data"
    }
   ],
   "source": [
    "plot_history(train_loss, val_loss, 'Loss')\n",
    "plot_history(train_acc, val_acc, 'Accuracy')"
   ]
  },
  {
   "cell_type": "markdown",
   "id": "fbe30283",
   "metadata": {
    "papermill": {
     "duration": 0.367291,
     "end_time": "2021-10-25T19:17:26.702572",
     "exception": false,
     "start_time": "2021-10-25T19:17:26.335281",
     "status": "completed"
    },
    "tags": []
   },
   "source": [
    "# 6. Create a Dataset from the test data"
   ]
  },
  {
   "cell_type": "markdown",
   "id": "2907df3c",
   "metadata": {
    "papermill": {
     "duration": 0.375573,
     "end_time": "2021-10-25T19:17:27.451422",
     "exception": false,
     "start_time": "2021-10-25T19:17:27.075849",
     "status": "completed"
    },
    "tags": []
   },
   "source": [
    "### 6.1 Load the test .csv file "
   ]
  },
  {
   "cell_type": "code",
   "execution_count": 20,
   "id": "3d3e2b2f",
   "metadata": {
    "execution": {
     "iopub.execute_input": "2021-10-25T19:17:28.196301Z",
     "iopub.status.busy": "2021-10-25T19:17:28.195753Z",
     "iopub.status.idle": "2021-10-25T19:17:30.333397Z",
     "shell.execute_reply": "2021-10-25T19:17:30.333922Z",
     "shell.execute_reply.started": "2021-10-13T17:31:58.99601Z"
    },
    "papermill": {
     "duration": 2.513333,
     "end_time": "2021-10-25T19:17:30.334102",
     "exception": false,
     "start_time": "2021-10-25T19:17:27.820769",
     "status": "completed"
    },
    "tags": []
   },
   "outputs": [
    {
     "name": "stdout",
     "output_type": "stream",
     "text": [
      "(28000, 784)\n"
     ]
    },
    {
     "data": {
      "text/html": [
       "<div>\n",
       "<style scoped>\n",
       "    .dataframe tbody tr th:only-of-type {\n",
       "        vertical-align: middle;\n",
       "    }\n",
       "\n",
       "    .dataframe tbody tr th {\n",
       "        vertical-align: top;\n",
       "    }\n",
       "\n",
       "    .dataframe thead th {\n",
       "        text-align: right;\n",
       "    }\n",
       "</style>\n",
       "<table border=\"1\" class=\"dataframe\">\n",
       "  <thead>\n",
       "    <tr style=\"text-align: right;\">\n",
       "      <th></th>\n",
       "      <th>pixel0</th>\n",
       "      <th>pixel1</th>\n",
       "      <th>pixel2</th>\n",
       "      <th>pixel3</th>\n",
       "      <th>pixel4</th>\n",
       "      <th>pixel5</th>\n",
       "      <th>pixel6</th>\n",
       "      <th>pixel7</th>\n",
       "      <th>pixel8</th>\n",
       "      <th>pixel9</th>\n",
       "      <th>...</th>\n",
       "      <th>pixel774</th>\n",
       "      <th>pixel775</th>\n",
       "      <th>pixel776</th>\n",
       "      <th>pixel777</th>\n",
       "      <th>pixel778</th>\n",
       "      <th>pixel779</th>\n",
       "      <th>pixel780</th>\n",
       "      <th>pixel781</th>\n",
       "      <th>pixel782</th>\n",
       "      <th>pixel783</th>\n",
       "    </tr>\n",
       "  </thead>\n",
       "  <tbody>\n",
       "    <tr>\n",
       "      <th>0</th>\n",
       "      <td>0</td>\n",
       "      <td>0</td>\n",
       "      <td>0</td>\n",
       "      <td>0</td>\n",
       "      <td>0</td>\n",
       "      <td>0</td>\n",
       "      <td>0</td>\n",
       "      <td>0</td>\n",
       "      <td>0</td>\n",
       "      <td>0</td>\n",
       "      <td>...</td>\n",
       "      <td>0</td>\n",
       "      <td>0</td>\n",
       "      <td>0</td>\n",
       "      <td>0</td>\n",
       "      <td>0</td>\n",
       "      <td>0</td>\n",
       "      <td>0</td>\n",
       "      <td>0</td>\n",
       "      <td>0</td>\n",
       "      <td>0</td>\n",
       "    </tr>\n",
       "    <tr>\n",
       "      <th>1</th>\n",
       "      <td>0</td>\n",
       "      <td>0</td>\n",
       "      <td>0</td>\n",
       "      <td>0</td>\n",
       "      <td>0</td>\n",
       "      <td>0</td>\n",
       "      <td>0</td>\n",
       "      <td>0</td>\n",
       "      <td>0</td>\n",
       "      <td>0</td>\n",
       "      <td>...</td>\n",
       "      <td>0</td>\n",
       "      <td>0</td>\n",
       "      <td>0</td>\n",
       "      <td>0</td>\n",
       "      <td>0</td>\n",
       "      <td>0</td>\n",
       "      <td>0</td>\n",
       "      <td>0</td>\n",
       "      <td>0</td>\n",
       "      <td>0</td>\n",
       "    </tr>\n",
       "    <tr>\n",
       "      <th>2</th>\n",
       "      <td>0</td>\n",
       "      <td>0</td>\n",
       "      <td>0</td>\n",
       "      <td>0</td>\n",
       "      <td>0</td>\n",
       "      <td>0</td>\n",
       "      <td>0</td>\n",
       "      <td>0</td>\n",
       "      <td>0</td>\n",
       "      <td>0</td>\n",
       "      <td>...</td>\n",
       "      <td>0</td>\n",
       "      <td>0</td>\n",
       "      <td>0</td>\n",
       "      <td>0</td>\n",
       "      <td>0</td>\n",
       "      <td>0</td>\n",
       "      <td>0</td>\n",
       "      <td>0</td>\n",
       "      <td>0</td>\n",
       "      <td>0</td>\n",
       "    </tr>\n",
       "    <tr>\n",
       "      <th>3</th>\n",
       "      <td>0</td>\n",
       "      <td>0</td>\n",
       "      <td>0</td>\n",
       "      <td>0</td>\n",
       "      <td>0</td>\n",
       "      <td>0</td>\n",
       "      <td>0</td>\n",
       "      <td>0</td>\n",
       "      <td>0</td>\n",
       "      <td>0</td>\n",
       "      <td>...</td>\n",
       "      <td>0</td>\n",
       "      <td>0</td>\n",
       "      <td>0</td>\n",
       "      <td>0</td>\n",
       "      <td>0</td>\n",
       "      <td>0</td>\n",
       "      <td>0</td>\n",
       "      <td>0</td>\n",
       "      <td>0</td>\n",
       "      <td>0</td>\n",
       "    </tr>\n",
       "    <tr>\n",
       "      <th>4</th>\n",
       "      <td>0</td>\n",
       "      <td>0</td>\n",
       "      <td>0</td>\n",
       "      <td>0</td>\n",
       "      <td>0</td>\n",
       "      <td>0</td>\n",
       "      <td>0</td>\n",
       "      <td>0</td>\n",
       "      <td>0</td>\n",
       "      <td>0</td>\n",
       "      <td>...</td>\n",
       "      <td>0</td>\n",
       "      <td>0</td>\n",
       "      <td>0</td>\n",
       "      <td>0</td>\n",
       "      <td>0</td>\n",
       "      <td>0</td>\n",
       "      <td>0</td>\n",
       "      <td>0</td>\n",
       "      <td>0</td>\n",
       "      <td>0</td>\n",
       "    </tr>\n",
       "  </tbody>\n",
       "</table>\n",
       "<p>5 rows × 784 columns</p>\n",
       "</div>"
      ],
      "text/plain": [
       "   pixel0  pixel1  pixel2  pixel3  pixel4  pixel5  pixel6  pixel7  pixel8  \\\n",
       "0       0       0       0       0       0       0       0       0       0   \n",
       "1       0       0       0       0       0       0       0       0       0   \n",
       "2       0       0       0       0       0       0       0       0       0   \n",
       "3       0       0       0       0       0       0       0       0       0   \n",
       "4       0       0       0       0       0       0       0       0       0   \n",
       "\n",
       "   pixel9  ...  pixel774  pixel775  pixel776  pixel777  pixel778  pixel779  \\\n",
       "0       0  ...         0         0         0         0         0         0   \n",
       "1       0  ...         0         0         0         0         0         0   \n",
       "2       0  ...         0         0         0         0         0         0   \n",
       "3       0  ...         0         0         0         0         0         0   \n",
       "4       0  ...         0         0         0         0         0         0   \n",
       "\n",
       "   pixel780  pixel781  pixel782  pixel783  \n",
       "0         0         0         0         0  \n",
       "1         0         0         0         0  \n",
       "2         0         0         0         0  \n",
       "3         0         0         0         0  \n",
       "4         0         0         0         0  \n",
       "\n",
       "[5 rows x 784 columns]"
      ]
     },
     "execution_count": 20,
     "metadata": {},
     "output_type": "execute_result"
    }
   ],
   "source": [
    "path_test = '../input/digit-recognizer/test.csv'\n",
    "df_test = pd.read_csv(path_test)\n",
    "print(df_test.shape)\n",
    "df_test.head()"
   ]
  },
  {
   "cell_type": "code",
   "execution_count": 21,
   "id": "ff951598",
   "metadata": {
    "execution": {
     "iopub.execute_input": "2021-10-25T19:17:31.085958Z",
     "iopub.status.busy": "2021-10-25T19:17:31.085114Z",
     "iopub.status.idle": "2021-10-25T19:17:31.303695Z",
     "shell.execute_reply": "2021-10-25T19:17:31.304218Z",
     "shell.execute_reply.started": "2021-10-13T17:32:01.347266Z"
    },
    "papermill": {
     "duration": 0.598837,
     "end_time": "2021-10-25T19:17:31.304392",
     "exception": false,
     "start_time": "2021-10-25T19:17:30.705555",
     "status": "completed"
    },
    "tags": []
   },
   "outputs": [
    {
     "data": {
      "text/plain": [
       "TensorSpec(shape=(None, 784), dtype=tf.int64, name=None)"
      ]
     },
     "execution_count": 21,
     "metadata": {},
     "output_type": "execute_result"
    }
   ],
   "source": [
    "test_ds = tf.data.Dataset.from_tensor_slices((df_test))\n",
    "test_ds = configure_dataset(test_ds, test=True) # Set test argument to True so that remainder samples are not dropped\n",
    "test_ds.element_spec"
   ]
  },
  {
   "cell_type": "markdown",
   "id": "b9cf580b",
   "metadata": {
    "papermill": {
     "duration": 0.374545,
     "end_time": "2021-10-25T19:17:32.313425",
     "exception": false,
     "start_time": "2021-10-25T19:17:31.938880",
     "status": "completed"
    },
    "tags": []
   },
   "source": [
    "# 7. Predict label outcomes and submit results"
   ]
  },
  {
   "cell_type": "code",
   "execution_count": 22,
   "id": "f97942f0",
   "metadata": {
    "execution": {
     "iopub.execute_input": "2021-10-25T19:17:33.069118Z",
     "iopub.status.busy": "2021-10-25T19:17:33.068223Z",
     "iopub.status.idle": "2021-10-25T19:17:34.389296Z",
     "shell.execute_reply": "2021-10-25T19:17:34.388881Z",
     "shell.execute_reply.started": "2021-10-13T17:32:01.583394Z"
    },
    "papermill": {
     "duration": 1.702136,
     "end_time": "2021-10-25T19:17:34.389433",
     "exception": false,
     "start_time": "2021-10-25T19:17:32.687297",
     "status": "completed"
    },
    "tags": []
   },
   "outputs": [
    {
     "name": "stdout",
     "output_type": "stream",
     "text": [
      "(28000, 1)\n"
     ]
    },
    {
     "data": {
      "text/html": [
       "<div>\n",
       "<style scoped>\n",
       "    .dataframe tbody tr th:only-of-type {\n",
       "        vertical-align: middle;\n",
       "    }\n",
       "\n",
       "    .dataframe tbody tr th {\n",
       "        vertical-align: top;\n",
       "    }\n",
       "\n",
       "    .dataframe thead th {\n",
       "        text-align: right;\n",
       "    }\n",
       "</style>\n",
       "<table border=\"1\" class=\"dataframe\">\n",
       "  <thead>\n",
       "    <tr style=\"text-align: right;\">\n",
       "      <th></th>\n",
       "      <th>Label</th>\n",
       "    </tr>\n",
       "  </thead>\n",
       "  <tbody>\n",
       "    <tr>\n",
       "      <th>0</th>\n",
       "      <td>2</td>\n",
       "    </tr>\n",
       "    <tr>\n",
       "      <th>1</th>\n",
       "      <td>0</td>\n",
       "    </tr>\n",
       "    <tr>\n",
       "      <th>2</th>\n",
       "      <td>9</td>\n",
       "    </tr>\n",
       "    <tr>\n",
       "      <th>3</th>\n",
       "      <td>9</td>\n",
       "    </tr>\n",
       "    <tr>\n",
       "      <th>4</th>\n",
       "      <td>3</td>\n",
       "    </tr>\n",
       "  </tbody>\n",
       "</table>\n",
       "</div>"
      ],
      "text/plain": [
       "   Label\n",
       "0      2\n",
       "1      0\n",
       "2      9\n",
       "3      9\n",
       "4      3"
      ]
     },
     "execution_count": 22,
     "metadata": {},
     "output_type": "execute_result"
    }
   ],
   "source": [
    "y_pred = np.argmax(model.predict(test_ds), axis=-1) # Returns the highest probability label for each image\n",
    "y_pred = pd.DataFrame(y_pred)\n",
    "y_pred.columns = ['Label']\n",
    "print(y_pred.shape)\n",
    "y_pred.head()\n"
   ]
  },
  {
   "cell_type": "code",
   "execution_count": 23,
   "id": "9fd78142",
   "metadata": {
    "execution": {
     "iopub.execute_input": "2021-10-25T19:17:35.141259Z",
     "iopub.status.busy": "2021-10-25T19:17:35.140571Z",
     "iopub.status.idle": "2021-10-25T19:17:35.143544Z",
     "shell.execute_reply": "2021-10-25T19:17:35.143935Z",
     "shell.execute_reply.started": "2021-10-13T17:32:03.135423Z"
    },
    "papermill": {
     "duration": 0.382444,
     "end_time": "2021-10-25T19:17:35.144077",
     "exception": false,
     "start_time": "2021-10-25T19:17:34.761633",
     "status": "completed"
    },
    "tags": []
   },
   "outputs": [
    {
     "data": {
      "text/html": [
       "<div>\n",
       "<style scoped>\n",
       "    .dataframe tbody tr th:only-of-type {\n",
       "        vertical-align: middle;\n",
       "    }\n",
       "\n",
       "    .dataframe tbody tr th {\n",
       "        vertical-align: top;\n",
       "    }\n",
       "\n",
       "    .dataframe thead th {\n",
       "        text-align: right;\n",
       "    }\n",
       "</style>\n",
       "<table border=\"1\" class=\"dataframe\">\n",
       "  <thead>\n",
       "    <tr style=\"text-align: right;\">\n",
       "      <th></th>\n",
       "      <th>ImageId</th>\n",
       "    </tr>\n",
       "  </thead>\n",
       "  <tbody>\n",
       "    <tr>\n",
       "      <th>0</th>\n",
       "      <td>1</td>\n",
       "    </tr>\n",
       "    <tr>\n",
       "      <th>1</th>\n",
       "      <td>2</td>\n",
       "    </tr>\n",
       "    <tr>\n",
       "      <th>2</th>\n",
       "      <td>3</td>\n",
       "    </tr>\n",
       "    <tr>\n",
       "      <th>3</th>\n",
       "      <td>4</td>\n",
       "    </tr>\n",
       "    <tr>\n",
       "      <th>4</th>\n",
       "      <td>5</td>\n",
       "    </tr>\n",
       "  </tbody>\n",
       "</table>\n",
       "</div>"
      ],
      "text/plain": [
       "   ImageId\n",
       "0        1\n",
       "1        2\n",
       "2        3\n",
       "3        4\n",
       "4        5"
      ]
     },
     "execution_count": 23,
     "metadata": {},
     "output_type": "execute_result"
    }
   ],
   "source": [
    "image_id = pd.DataFrame(y_pred.index + 1)\n",
    "image_id.columns = ['ImageId']\n",
    "image_id.head()"
   ]
  },
  {
   "cell_type": "code",
   "execution_count": 24,
   "id": "f90a9e2f",
   "metadata": {
    "execution": {
     "iopub.execute_input": "2021-10-25T19:17:35.894363Z",
     "iopub.status.busy": "2021-10-25T19:17:35.893813Z",
     "iopub.status.idle": "2021-10-25T19:17:35.940590Z",
     "shell.execute_reply": "2021-10-25T19:17:35.940965Z",
     "shell.execute_reply.started": "2021-10-13T17:32:03.147676Z"
    },
    "papermill": {
     "duration": 0.423211,
     "end_time": "2021-10-25T19:17:35.941110",
     "exception": false,
     "start_time": "2021-10-25T19:17:35.517899",
     "status": "completed"
    },
    "tags": []
   },
   "outputs": [],
   "source": [
    "submission = pd.concat([image_id, y_pred], axis=1)\n",
    "submission.to_csv('submission.csv', index=False)"
   ]
  },
  {
   "cell_type": "code",
   "execution_count": null,
   "id": "952cad3e",
   "metadata": {
    "papermill": {
     "duration": 0.396968,
     "end_time": "2021-10-25T19:17:36.720101",
     "exception": false,
     "start_time": "2021-10-25T19:17:36.323133",
     "status": "completed"
    },
    "tags": []
   },
   "outputs": [],
   "source": []
  }
 ],
 "metadata": {
  "kernelspec": {
   "display_name": "Python 3",
   "language": "python",
   "name": "python3"
  },
  "language_info": {
   "codemirror_mode": {
    "name": "ipython",
    "version": 3
   },
   "file_extension": ".py",
   "mimetype": "text/x-python",
   "name": "python",
   "nbconvert_exporter": "python",
   "pygments_lexer": "ipython3",
   "version": "3.7.10"
  },
  "papermill": {
   "default_parameters": {},
   "duration": 127.802605,
   "end_time": "2021-10-25T19:17:39.775118",
   "environment_variables": {},
   "exception": null,
   "input_path": "__notebook__.ipynb",
   "output_path": "__notebook__.ipynb",
   "parameters": {},
   "start_time": "2021-10-25T19:15:31.972513",
   "version": "2.3.3"
  }
 },
 "nbformat": 4,
 "nbformat_minor": 5
}
