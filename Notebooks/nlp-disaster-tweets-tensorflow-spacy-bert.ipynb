{
 "cells": [
  {
   "cell_type": "markdown",
   "id": "dbed1ed9",
   "metadata": {
    "papermill": {
     "duration": 0.064558,
     "end_time": "2021-10-19T21:52:25.734541",
     "exception": false,
     "start_time": "2021-10-19T21:52:25.669983",
     "status": "completed"
    },
    "tags": []
   },
   "source": [
    "# Disaster Tweet Classification: NLP with TensorFlow, spaCy, and BERT"
   ]
  },
  {
   "cell_type": "markdown",
   "id": "bac1b126",
   "metadata": {
    "papermill": {
     "duration": 0.060899,
     "end_time": "2021-10-19T21:52:25.856746",
     "exception": false,
     "start_time": "2021-10-19T21:52:25.795847",
     "status": "completed"
    },
    "tags": []
   },
   "source": [
    "# 1. Introduction\n",
    "\n",
    "Twitter has shown value as a tool for communicating emergencies in real-time. However, due to figures of speech it is not always clear to a machine when a tweet is about a real disaster. The goal of this exercise is to use natural language processing to build a model that can discern tweets about real disasters from those using figures of speech. The dataset for this task is a collection of 10,000 manually classified tweets (`1` for distaster, `0` for non-disaster) containing keywords, locations, and text. The model selected for this classification is known as Bidirectional Encoder Representations from Transformers ([BERT](https://arxiv.org/abs/1810.04805)). \n",
    "\n",
    "Methods for this exercise:\n",
    "* Text preprocessing and keyword extraction using spaCy\n",
    "* Loading pre-trained models from TensorFlow Hub\n",
    "* Building a BERT classifier with the Keras functional API\n",
    "* Evaluating results with a confusion matrix and ROC curve"
   ]
  },
  {
   "cell_type": "code",
   "execution_count": 1,
   "id": "e8f646d6",
   "metadata": {
    "_cell_guid": "b1076dfc-b9ad-4769-8c92-a6c4dae69d19",
    "_uuid": "8f2839f25d086af736a60e9eeb907d3b93b6e0e5",
    "execution": {
     "iopub.execute_input": "2021-10-19T21:52:25.986978Z",
     "iopub.status.busy": "2021-10-19T21:52:25.985459Z",
     "iopub.status.idle": "2021-10-19T21:52:26.000159Z",
     "shell.execute_reply": "2021-10-19T21:52:25.999420Z",
     "shell.execute_reply.started": "2021-10-18T02:31:42.122618Z"
    },
    "papermill": {
     "duration": 0.081931,
     "end_time": "2021-10-19T21:52:26.000330",
     "exception": false,
     "start_time": "2021-10-19T21:52:25.918399",
     "status": "completed"
    },
    "tags": []
   },
   "outputs": [
    {
     "name": "stdout",
     "output_type": "stream",
     "text": [
      "/kaggle/input/nlp-getting-started/sample_submission.csv\n",
      "/kaggle/input/nlp-getting-started/train.csv\n",
      "/kaggle/input/nlp-getting-started/test.csv\n"
     ]
    }
   ],
   "source": [
    "# This Python 3 environment comes with many helpful analytics libraries installed\n",
    "# It is defined by the kaggle/python Docker image: https://github.com/kaggle/docker-python\n",
    "# For example, here's several helpful packages to load\n",
    "\n",
    "import numpy as np # linear algebra\n",
    "import pandas as pd # data processing, CSV file I/O (e.g. pd.read_csv)\n",
    "\n",
    "# Input data files are available in the read-only \"../input/\" directory\n",
    "# For example, running this (by clicking run or pressing Shift+Enter) will list all files under the input directory\n",
    "\n",
    "import os\n",
    "for dirname, _, filenames in os.walk('/kaggle/input'):\n",
    "    for filename in filenames:\n",
    "        print(os.path.join(dirname, filename))\n",
    "\n",
    "# You can write up to 20GB to the current directory (/kaggle/working/) that gets preserved as output when you create a version using \"Save & Run All\" \n",
    "# You can also write temporary files to /kaggle/temp/, but they won't be saved outside of the current session"
   ]
  },
  {
   "cell_type": "markdown",
   "id": "96e12869",
   "metadata": {
    "papermill": {
     "duration": 0.062832,
     "end_time": "2021-10-19T21:52:26.126621",
     "exception": false,
     "start_time": "2021-10-19T21:52:26.063789",
     "status": "completed"
    },
    "tags": []
   },
   "source": [
    "### 1.1. Install Packages"
   ]
  },
  {
   "cell_type": "code",
   "execution_count": 2,
   "id": "e867e9a4",
   "metadata": {
    "execution": {
     "iopub.execute_input": "2021-10-19T21:52:26.266447Z",
     "iopub.status.busy": "2021-10-19T21:52:26.265534Z",
     "iopub.status.idle": "2021-10-19T21:54:30.801823Z",
     "shell.execute_reply": "2021-10-19T21:54:30.801316Z",
     "shell.execute_reply.started": "2021-10-18T02:31:42.145119Z"
    },
    "papermill": {
     "duration": 124.612675,
     "end_time": "2021-10-19T21:54:30.801963",
     "exception": false,
     "start_time": "2021-10-19T21:52:26.189288",
     "status": "completed"
    },
    "tags": []
   },
   "outputs": [
    {
     "name": "stdout",
     "output_type": "stream",
     "text": [
      "\u001b[33mWARNING: Running pip as root will break packages and permissions. You should install packages reliably by using venv: https://pip.pypa.io/warnings/venv\u001b[0m\r\n",
      "\u001b[31mERROR: pip's dependency resolver does not currently take into account all the packages that are installed. This behaviour is the source of the following dependency conflicts.\r\n",
      "tf-models-nightly 2.5.0.dev20211019 requires sacrebleu, which is not installed.\r\n",
      "tf-models-nightly 2.5.0.dev20211019 requires tensorflow-text-nightly, which is not installed.\r\n",
      "tf-models-nightly 2.5.0.dev20211019 requires tf-nightly, which is not installed.\r\n",
      "tensorflow-gpu 2.4.1 requires gast==0.3.3, but you have gast 0.4.0 which is incompatible.\r\n",
      "tensorflow-gpu 2.4.1 requires grpcio~=1.32.0, but you have grpcio 1.41.0 which is incompatible.\r\n",
      "tensorflow-gpu 2.4.1 requires h5py~=2.10.0, but you have h5py 3.1.0 which is incompatible.\r\n",
      "tensorflow-gpu 2.4.1 requires tensorflow-estimator<2.5.0,>=2.4.0, but you have tensorflow-estimator 2.6.0 which is incompatible.\u001b[0m\r\n",
      "\u001b[33mWARNING: Running pip as root will break packages and permissions. You should install packages reliably by using venv: https://pip.pypa.io/warnings/venv\u001b[0m\r\n",
      "\u001b[31mERROR: pip's dependency resolver does not currently take into account all the packages that are installed. This behaviour is the source of the following dependency conflicts.\r\n",
      "tensorflow 2.6.0 requires gast==0.4.0, but you have gast 0.3.3 which is incompatible.\r\n",
      "tensorflow 2.6.0 requires grpcio<2.0,>=1.37.0, but you have grpcio 1.32.0 which is incompatible.\r\n",
      "tensorflow 2.6.0 requires h5py~=3.1.0, but you have h5py 2.10.0 which is incompatible.\r\n",
      "tensorflow 2.6.0 requires tensorflow-estimator~=2.6, but you have tensorflow-estimator 2.4.0 which is incompatible.\u001b[0m\r\n",
      "\u001b[33mWARNING: Running pip as root will break packages and permissions. You should install packages reliably by using venv: https://pip.pypa.io/warnings/venv\u001b[0m\r\n",
      "\u001b[33mWARNING: Running pip as root will break packages and permissions. You should install packages reliably by using venv: https://pip.pypa.io/warnings/venv\u001b[0m\r\n",
      "\u001b[33mWARNING: Running pip as root will break packages and permissions. You should install packages reliably by using venv: https://pip.pypa.io/warnings/venv\u001b[0m\r\n",
      "\u001b[38;5;2m✔ Download and installation successful\u001b[0m\r\n",
      "You can now load the model via spacy.load('en_core_web_sm')\r\n",
      "\u001b[2K\u001b[38;5;2m✔ Loaded compatibility table\u001b[0m\r\n",
      "\u001b[1m\r\n",
      "====================== Installed models (spaCy v2.3.7) ======================\u001b[0m\r\n",
      "\u001b[38;5;4mℹ spaCy installation: /opt/conda/lib/python3.7/site-packages/spacy\u001b[0m\r\n",
      "\r\n",
      "TYPE      NAME             MODEL            VERSION                            \r\n",
      "package   en-core-web-sm   en_core_web_sm   \u001b[38;5;2m2.3.1\u001b[0m   \u001b[38;5;2m✔\u001b[0m\r\n",
      "package   en-core-web-lg   en_core_web_lg   \u001b[38;5;2m2.3.1\u001b[0m   \u001b[38;5;2m✔\u001b[0m\r\n",
      "\r\n"
     ]
    }
   ],
   "source": [
    "! python -m pip install tf-models-nightly --no-deps -q\n",
    "! python -m pip install tf-models-official==2.4.0 -q\n",
    "! python -m pip install tensorflow-gpu==2.4.1 -q\n",
    "! python -m pip install tensorflow-text==2.4.1 -q\n",
    "! python -m spacy download en_core_web_sm -q\n",
    "! python -m spacy validate "
   ]
  },
  {
   "cell_type": "markdown",
   "id": "80a98d9b",
   "metadata": {
    "papermill": {
     "duration": 0.063233,
     "end_time": "2021-10-19T21:54:30.930289",
     "exception": false,
     "start_time": "2021-10-19T21:54:30.867056",
     "status": "completed"
    },
    "tags": []
   },
   "source": [
    "### 1.2. Import Libraries"
   ]
  },
  {
   "cell_type": "code",
   "execution_count": 3,
   "id": "393b28e4",
   "metadata": {
    "execution": {
     "iopub.execute_input": "2021-10-19T21:54:31.067876Z",
     "iopub.status.busy": "2021-10-19T21:54:31.064976Z",
     "iopub.status.idle": "2021-10-19T21:54:34.743341Z",
     "shell.execute_reply": "2021-10-19T21:54:34.744242Z",
     "shell.execute_reply.started": "2021-10-18T02:33:49.337057Z"
    },
    "papermill": {
     "duration": 3.750657,
     "end_time": "2021-10-19T21:54:34.744463",
     "exception": false,
     "start_time": "2021-10-19T21:54:30.993806",
     "status": "completed"
    },
    "tags": []
   },
   "outputs": [
    {
     "name": "stdout",
     "output_type": "stream",
     "text": [
      "TensorFlow Version: 2.4.3\n",
      "Python Version: 3.7.10\n"
     ]
    }
   ],
   "source": [
    "# Preprocessing\n",
    "import spacy\n",
    "from spacy.lang.en.stop_words import STOP_WORDS\n",
    "from spacy.lang.en import English\n",
    "from sklearn.model_selection import train_test_split\n",
    "from sklearn.metrics.pairwise import cosine_similarity\n",
    "import re\n",
    "import string\n",
    "from bs4 import BeautifulSoup as bs\n",
    "# Model Training\n",
    "import tensorflow as tf\n",
    "import tensorflow_hub as hub\n",
    "import tensorflow_text as text\n",
    "from tensorflow.keras import layers, Model\n",
    "from tensorflow.keras import regularizers\n",
    "from tensorflow.keras.metrics import BinaryAccuracy\n",
    "from tensorflow.keras.losses import BinaryCrossentropy\n",
    "import official.nlp.optimization\n",
    "from official.nlp.optimization import create_optimizer # AdamW optimizer\n",
    "from sklearn.metrics import roc_curve, confusion_matrix\n",
    "# Visualization\n",
    "import seaborn as sns\n",
    "from wordcloud import WordCloud\n",
    "import matplotlib.pyplot as plt\n",
    "from matplotlib import rcParams\n",
    "# Version\n",
    "from platform import python_version\n",
    "\n",
    "print(f'TensorFlow Version: {tf.__version__}')\n",
    "print(f'Python Version: {python_version()}')"
   ]
  },
  {
   "cell_type": "markdown",
   "id": "0964c290",
   "metadata": {
    "papermill": {
     "duration": 0.104832,
     "end_time": "2021-10-19T21:54:34.968202",
     "exception": false,
     "start_time": "2021-10-19T21:54:34.863370",
     "status": "completed"
    },
    "tags": []
   },
   "source": [
    "### 1.3. Configure Settings"
   ]
  },
  {
   "cell_type": "code",
   "execution_count": 4,
   "id": "32ff709a",
   "metadata": {
    "execution": {
     "iopub.execute_input": "2021-10-19T21:54:35.243853Z",
     "iopub.status.busy": "2021-10-19T21:54:35.208128Z",
     "iopub.status.idle": "2021-10-19T21:54:36.551145Z",
     "shell.execute_reply": "2021-10-19T21:54:36.550648Z",
     "shell.execute_reply.started": "2021-10-18T02:33:53.108831Z"
    },
    "papermill": {
     "duration": 1.469711,
     "end_time": "2021-10-19T21:54:36.551282",
     "exception": false,
     "start_time": "2021-10-19T21:54:35.081571",
     "status": "completed"
    },
    "tags": []
   },
   "outputs": [],
   "source": [
    "RANDOM_SEED = 123\n",
    "nlp = spacy.load('en_core_web_sm') \n",
    "pd.set_option('display.max_colwidth', None) # Expand DataFrame column width\n",
    "rcParams['figure.figsize'] = (10, 6) # Custom plot dimensions\n",
    "sns.set_theme(palette='muted', style='whitegrid') # Seaborn plot theme"
   ]
  },
  {
   "cell_type": "markdown",
   "id": "e4a9b3d6",
   "metadata": {
    "papermill": {
     "duration": 0.064603,
     "end_time": "2021-10-19T21:54:36.683062",
     "exception": false,
     "start_time": "2021-10-19T21:54:36.618459",
     "status": "completed"
    },
    "tags": []
   },
   "source": [
    "### 1.4. Load the Training and Test Files"
   ]
  },
  {
   "cell_type": "code",
   "execution_count": 5,
   "id": "4be15f23",
   "metadata": {
    "execution": {
     "iopub.execute_input": "2021-10-19T21:54:36.815365Z",
     "iopub.status.busy": "2021-10-19T21:54:36.814797Z",
     "iopub.status.idle": "2021-10-19T21:54:36.869778Z",
     "shell.execute_reply": "2021-10-19T21:54:36.870599Z",
     "shell.execute_reply.started": "2021-10-18T02:33:54.303175Z"
    },
    "papermill": {
     "duration": 0.123655,
     "end_time": "2021-10-19T21:54:36.870801",
     "exception": false,
     "start_time": "2021-10-19T21:54:36.747146",
     "status": "completed"
    },
    "tags": []
   },
   "outputs": [
    {
     "name": "stdout",
     "output_type": "stream",
     "text": [
      "(7613, 5)\n"
     ]
    },
    {
     "data": {
      "text/html": [
       "<div>\n",
       "<style scoped>\n",
       "    .dataframe tbody tr th:only-of-type {\n",
       "        vertical-align: middle;\n",
       "    }\n",
       "\n",
       "    .dataframe tbody tr th {\n",
       "        vertical-align: top;\n",
       "    }\n",
       "\n",
       "    .dataframe thead th {\n",
       "        text-align: right;\n",
       "    }\n",
       "</style>\n",
       "<table border=\"1\" class=\"dataframe\">\n",
       "  <thead>\n",
       "    <tr style=\"text-align: right;\">\n",
       "      <th></th>\n",
       "      <th>id</th>\n",
       "      <th>keyword</th>\n",
       "      <th>location</th>\n",
       "      <th>text</th>\n",
       "      <th>target</th>\n",
       "    </tr>\n",
       "  </thead>\n",
       "  <tbody>\n",
       "    <tr>\n",
       "      <th>0</th>\n",
       "      <td>1</td>\n",
       "      <td>NaN</td>\n",
       "      <td>NaN</td>\n",
       "      <td>Our Deeds are the Reason of this #earthquake May ALLAH Forgive us all</td>\n",
       "      <td>1</td>\n",
       "    </tr>\n",
       "    <tr>\n",
       "      <th>1</th>\n",
       "      <td>4</td>\n",
       "      <td>NaN</td>\n",
       "      <td>NaN</td>\n",
       "      <td>Forest fire near La Ronge Sask. Canada</td>\n",
       "      <td>1</td>\n",
       "    </tr>\n",
       "    <tr>\n",
       "      <th>2</th>\n",
       "      <td>5</td>\n",
       "      <td>NaN</td>\n",
       "      <td>NaN</td>\n",
       "      <td>All residents asked to 'shelter in place' are being notified by officers. No other evacuation or shelter in place orders are expected</td>\n",
       "      <td>1</td>\n",
       "    </tr>\n",
       "    <tr>\n",
       "      <th>3</th>\n",
       "      <td>6</td>\n",
       "      <td>NaN</td>\n",
       "      <td>NaN</td>\n",
       "      <td>13,000 people receive #wildfires evacuation orders in California</td>\n",
       "      <td>1</td>\n",
       "    </tr>\n",
       "    <tr>\n",
       "      <th>4</th>\n",
       "      <td>7</td>\n",
       "      <td>NaN</td>\n",
       "      <td>NaN</td>\n",
       "      <td>Just got sent this photo from Ruby #Alaska as smoke from #wildfires pours into a school</td>\n",
       "      <td>1</td>\n",
       "    </tr>\n",
       "  </tbody>\n",
       "</table>\n",
       "</div>"
      ],
      "text/plain": [
       "   id keyword location  \\\n",
       "0   1     NaN      NaN   \n",
       "1   4     NaN      NaN   \n",
       "2   5     NaN      NaN   \n",
       "3   6     NaN      NaN   \n",
       "4   7     NaN      NaN   \n",
       "\n",
       "                                                                                                                                    text  \\\n",
       "0                                                                  Our Deeds are the Reason of this #earthquake May ALLAH Forgive us all   \n",
       "1                                                                                                 Forest fire near La Ronge Sask. Canada   \n",
       "2  All residents asked to 'shelter in place' are being notified by officers. No other evacuation or shelter in place orders are expected   \n",
       "3                                                                      13,000 people receive #wildfires evacuation orders in California    \n",
       "4                                               Just got sent this photo from Ruby #Alaska as smoke from #wildfires pours into a school    \n",
       "\n",
       "   target  \n",
       "0       1  \n",
       "1       1  \n",
       "2       1  \n",
       "3       1  \n",
       "4       1  "
      ]
     },
     "execution_count": 5,
     "metadata": {},
     "output_type": "execute_result"
    }
   ],
   "source": [
    "path = '../input/nlp-getting-started/train.csv'\n",
    "df = pd.read_csv(path)\n",
    "print(df.shape)\n",
    "df.head()"
   ]
  },
  {
   "cell_type": "code",
   "execution_count": 6,
   "id": "918a1237",
   "metadata": {
    "execution": {
     "iopub.execute_input": "2021-10-19T21:54:37.008382Z",
     "iopub.status.busy": "2021-10-19T21:54:37.007751Z",
     "iopub.status.idle": "2021-10-19T21:54:37.039356Z",
     "shell.execute_reply": "2021-10-19T21:54:37.038780Z",
     "shell.execute_reply.started": "2021-10-18T02:33:54.368363Z"
    },
    "papermill": {
     "duration": 0.101293,
     "end_time": "2021-10-19T21:54:37.039509",
     "exception": false,
     "start_time": "2021-10-19T21:54:36.938216",
     "status": "completed"
    },
    "tags": []
   },
   "outputs": [
    {
     "name": "stdout",
     "output_type": "stream",
     "text": [
      "(3263, 4)\n"
     ]
    },
    {
     "data": {
      "text/html": [
       "<div>\n",
       "<style scoped>\n",
       "    .dataframe tbody tr th:only-of-type {\n",
       "        vertical-align: middle;\n",
       "    }\n",
       "\n",
       "    .dataframe tbody tr th {\n",
       "        vertical-align: top;\n",
       "    }\n",
       "\n",
       "    .dataframe thead th {\n",
       "        text-align: right;\n",
       "    }\n",
       "</style>\n",
       "<table border=\"1\" class=\"dataframe\">\n",
       "  <thead>\n",
       "    <tr style=\"text-align: right;\">\n",
       "      <th></th>\n",
       "      <th>id</th>\n",
       "      <th>keyword</th>\n",
       "      <th>location</th>\n",
       "      <th>text</th>\n",
       "    </tr>\n",
       "  </thead>\n",
       "  <tbody>\n",
       "    <tr>\n",
       "      <th>0</th>\n",
       "      <td>0</td>\n",
       "      <td>NaN</td>\n",
       "      <td>NaN</td>\n",
       "      <td>Just happened a terrible car crash</td>\n",
       "    </tr>\n",
       "    <tr>\n",
       "      <th>1</th>\n",
       "      <td>2</td>\n",
       "      <td>NaN</td>\n",
       "      <td>NaN</td>\n",
       "      <td>Heard about #earthquake is different cities, stay safe everyone.</td>\n",
       "    </tr>\n",
       "    <tr>\n",
       "      <th>2</th>\n",
       "      <td>3</td>\n",
       "      <td>NaN</td>\n",
       "      <td>NaN</td>\n",
       "      <td>there is a forest fire at spot pond, geese are fleeing across the street, I cannot save them all</td>\n",
       "    </tr>\n",
       "    <tr>\n",
       "      <th>3</th>\n",
       "      <td>9</td>\n",
       "      <td>NaN</td>\n",
       "      <td>NaN</td>\n",
       "      <td>Apocalypse lighting. #Spokane #wildfires</td>\n",
       "    </tr>\n",
       "    <tr>\n",
       "      <th>4</th>\n",
       "      <td>11</td>\n",
       "      <td>NaN</td>\n",
       "      <td>NaN</td>\n",
       "      <td>Typhoon Soudelor kills 28 in China and Taiwan</td>\n",
       "    </tr>\n",
       "  </tbody>\n",
       "</table>\n",
       "</div>"
      ],
      "text/plain": [
       "   id keyword location  \\\n",
       "0   0     NaN      NaN   \n",
       "1   2     NaN      NaN   \n",
       "2   3     NaN      NaN   \n",
       "3   9     NaN      NaN   \n",
       "4  11     NaN      NaN   \n",
       "\n",
       "                                                                                               text  \n",
       "0                                                                Just happened a terrible car crash  \n",
       "1                                  Heard about #earthquake is different cities, stay safe everyone.  \n",
       "2  there is a forest fire at spot pond, geese are fleeing across the street, I cannot save them all  \n",
       "3                                                          Apocalypse lighting. #Spokane #wildfires  \n",
       "4                                                     Typhoon Soudelor kills 28 in China and Taiwan  "
      ]
     },
     "execution_count": 6,
     "metadata": {},
     "output_type": "execute_result"
    }
   ],
   "source": [
    "path_test = '../input/nlp-getting-started/test.csv'\n",
    "df_test = pd.read_csv(path_test)\n",
    "print(df_test.shape)\n",
    "df_test.head()"
   ]
  },
  {
   "cell_type": "markdown",
   "id": "46b51521",
   "metadata": {
    "papermill": {
     "duration": 0.064992,
     "end_time": "2021-10-19T21:54:37.170991",
     "exception": false,
     "start_time": "2021-10-19T21:54:37.105999",
     "status": "completed"
    },
    "tags": []
   },
   "source": [
    "# 2. Raw Data Analysis\n",
    "\n",
    "We'll use the `info` method to get a summary for the training and test datasets, then we'll use `describe` to get statistics on the text column."
   ]
  },
  {
   "cell_type": "code",
   "execution_count": 7,
   "id": "3a19a5a1",
   "metadata": {
    "execution": {
     "iopub.execute_input": "2021-10-19T21:54:37.317138Z",
     "iopub.status.busy": "2021-10-19T21:54:37.316547Z",
     "iopub.status.idle": "2021-10-19T21:54:37.320628Z",
     "shell.execute_reply": "2021-10-19T21:54:37.321313Z",
     "shell.execute_reply.started": "2021-10-18T02:33:54.397267Z"
    },
    "papermill": {
     "duration": 0.084879,
     "end_time": "2021-10-19T21:54:37.321548",
     "exception": false,
     "start_time": "2021-10-19T21:54:37.236669",
     "status": "completed"
    },
    "tags": []
   },
   "outputs": [
    {
     "name": "stdout",
     "output_type": "stream",
     "text": [
      "<class 'pandas.core.frame.DataFrame'>\n",
      "RangeIndex: 7613 entries, 0 to 7612\n",
      "Columns: 5 entries, id to target\n",
      "dtypes: int64(2), object(3)\n",
      "memory usage: 297.5+ KB\n"
     ]
    }
   ],
   "source": [
    "df.info(verbose=False)"
   ]
  },
  {
   "cell_type": "code",
   "execution_count": 8,
   "id": "d95878d3",
   "metadata": {
    "execution": {
     "iopub.execute_input": "2021-10-19T21:54:37.469918Z",
     "iopub.status.busy": "2021-10-19T21:54:37.469168Z",
     "iopub.status.idle": "2021-10-19T21:54:37.473873Z",
     "shell.execute_reply": "2021-10-19T21:54:37.473236Z",
     "shell.execute_reply.started": "2021-10-18T02:33:54.41484Z"
    },
    "papermill": {
     "duration": 0.083061,
     "end_time": "2021-10-19T21:54:37.474039",
     "exception": false,
     "start_time": "2021-10-19T21:54:37.390978",
     "status": "completed"
    },
    "tags": []
   },
   "outputs": [
    {
     "name": "stdout",
     "output_type": "stream",
     "text": [
      "<class 'pandas.core.frame.DataFrame'>\n",
      "RangeIndex: 3263 entries, 0 to 3262\n",
      "Columns: 4 entries, id to text\n",
      "dtypes: int64(1), object(3)\n",
      "memory usage: 102.1+ KB\n"
     ]
    }
   ],
   "source": [
    "df_test.info(verbose=False)"
   ]
  },
  {
   "cell_type": "code",
   "execution_count": 9,
   "id": "d04fa13e",
   "metadata": {
    "execution": {
     "iopub.execute_input": "2021-10-19T21:54:37.623434Z",
     "iopub.status.busy": "2021-10-19T21:54:37.622748Z",
     "iopub.status.idle": "2021-10-19T21:54:37.645285Z",
     "shell.execute_reply": "2021-10-19T21:54:37.644654Z",
     "shell.execute_reply.started": "2021-10-18T02:33:54.431173Z"
    },
    "papermill": {
     "duration": 0.098753,
     "end_time": "2021-10-19T21:54:37.645399",
     "exception": false,
     "start_time": "2021-10-19T21:54:37.546646",
     "status": "completed"
    },
    "tags": []
   },
   "outputs": [
    {
     "data": {
      "text/plain": [
       "count                                                                                                                                         7613\n",
       "unique                                                                                                                                        7503\n",
       "top       11-Year-Old Boy Charged With Manslaughter of Toddler: Report: An 11-year-old boy has been charged with manslaughter over the fatal sh...\n",
       "freq                                                                                                                                            10\n",
       "Name: text, dtype: object"
      ]
     },
     "execution_count": 9,
     "metadata": {},
     "output_type": "execute_result"
    }
   ],
   "source": [
    "df['text'].describe()"
   ]
  },
  {
   "cell_type": "code",
   "execution_count": 10,
   "id": "97f1fc08",
   "metadata": {
    "execution": {
     "iopub.execute_input": "2021-10-19T21:54:37.786088Z",
     "iopub.status.busy": "2021-10-19T21:54:37.785220Z",
     "iopub.status.idle": "2021-10-19T21:54:37.792961Z",
     "shell.execute_reply": "2021-10-19T21:54:37.793391Z",
     "shell.execute_reply.started": "2021-10-18T02:33:54.460562Z"
    },
    "papermill": {
     "duration": 0.080871,
     "end_time": "2021-10-19T21:54:37.793529",
     "exception": false,
     "start_time": "2021-10-19T21:54:37.712658",
     "status": "completed"
    },
    "tags": []
   },
   "outputs": [
    {
     "data": {
      "text/plain": [
       "count                                                                                                                                         3263\n",
       "unique                                                                                                                                        3243\n",
       "top       11-Year-Old Boy Charged With Manslaughter of Toddler: Report: An 11-year-old boy has been charged with manslaughter over the fatal sh...\n",
       "freq                                                                                                                                             3\n",
       "Name: text, dtype: object"
      ]
     },
     "execution_count": 10,
     "metadata": {},
     "output_type": "execute_result"
    }
   ],
   "source": [
    "df_test['text'].describe()"
   ]
  },
  {
   "cell_type": "markdown",
   "id": "6347947d",
   "metadata": {
    "papermill": {
     "duration": 0.066596,
     "end_time": "2021-10-19T21:54:37.933079",
     "exception": false,
     "start_time": "2021-10-19T21:54:37.866483",
     "status": "completed"
    },
    "tags": []
   },
   "source": [
    "### 2.1. Remove Duplicate Data\n",
    "\n",
    "It is shown in the descriptive summary that the unique count is less than the total count. This means we could have duplicate data that needs to be dropped for better training results. First we'll look at duplicates that have the same text and target followed by duplicates that share the same keywords and text."
   ]
  },
  {
   "cell_type": "code",
   "execution_count": 11,
   "id": "79208e15",
   "metadata": {
    "execution": {
     "iopub.execute_input": "2021-10-19T21:54:38.073554Z",
     "iopub.status.busy": "2021-10-19T21:54:38.072816Z",
     "iopub.status.idle": "2021-10-19T21:54:38.092045Z",
     "shell.execute_reply": "2021-10-19T21:54:38.091564Z",
     "shell.execute_reply.started": "2021-10-18T02:33:54.473981Z"
    },
    "papermill": {
     "duration": 0.091847,
     "end_time": "2021-10-19T21:54:38.092164",
     "exception": false,
     "start_time": "2021-10-19T21:54:38.000317",
     "status": "completed"
    },
    "tags": []
   },
   "outputs": [
    {
     "name": "stdout",
     "output_type": "stream",
     "text": [
      "Train Duplicate Entries (text, target): 157\n"
     ]
    },
    {
     "data": {
      "text/html": [
       "<div>\n",
       "<style scoped>\n",
       "    .dataframe tbody tr th:only-of-type {\n",
       "        vertical-align: middle;\n",
       "    }\n",
       "\n",
       "    .dataframe tbody tr th {\n",
       "        vertical-align: top;\n",
       "    }\n",
       "\n",
       "    .dataframe thead th {\n",
       "        text-align: right;\n",
       "    }\n",
       "</style>\n",
       "<table border=\"1\" class=\"dataframe\">\n",
       "  <thead>\n",
       "    <tr style=\"text-align: right;\">\n",
       "      <th></th>\n",
       "      <th>id</th>\n",
       "      <th>keyword</th>\n",
       "      <th>location</th>\n",
       "      <th>text</th>\n",
       "      <th>target</th>\n",
       "    </tr>\n",
       "  </thead>\n",
       "  <tbody>\n",
       "    <tr>\n",
       "      <th>40</th>\n",
       "      <td>59</td>\n",
       "      <td>ablaze</td>\n",
       "      <td>Live On Webcam</td>\n",
       "      <td>Check these out: http://t.co/rOI2NSmEJJ http://t.co/3Tj8ZjiN21 http://t.co/YDUiXEfIpE http://t.co/LxTjc87KLS #nsfw</td>\n",
       "      <td>0</td>\n",
       "    </tr>\n",
       "    <tr>\n",
       "      <th>48</th>\n",
       "      <td>68</td>\n",
       "      <td>ablaze</td>\n",
       "      <td>Live On Webcam</td>\n",
       "      <td>Check these out: http://t.co/rOI2NSmEJJ http://t.co/3Tj8ZjiN21 http://t.co/YDUiXEfIpE http://t.co/LxTjc87KLS #nsfw</td>\n",
       "      <td>0</td>\n",
       "    </tr>\n",
       "    <tr>\n",
       "      <th>106</th>\n",
       "      <td>156</td>\n",
       "      <td>aftershock</td>\n",
       "      <td>US</td>\n",
       "      <td>320 [IR] ICEMOON [AFTERSHOCK] | http://t.co/vAM5POdGyw | @djicemoon | #Dubstep #TrapMusic #DnB #EDM #Dance #IcesÛ_ http://t.co/zEVakJaPcz</td>\n",
       "      <td>0</td>\n",
       "    </tr>\n",
       "    <tr>\n",
       "      <th>115</th>\n",
       "      <td>165</td>\n",
       "      <td>aftershock</td>\n",
       "      <td>US</td>\n",
       "      <td>320 [IR] ICEMOON [AFTERSHOCK] | http://t.co/vAM5POdGyw | @djicemoon | #Dubstep #TrapMusic #DnB #EDM #Dance #IcesÛ_ http://t.co/zEVakJaPcz</td>\n",
       "      <td>0</td>\n",
       "    </tr>\n",
       "    <tr>\n",
       "      <th>118</th>\n",
       "      <td>171</td>\n",
       "      <td>aftershock</td>\n",
       "      <td>Switzerland</td>\n",
       "      <td>320 [IR] ICEMOON [AFTERSHOCK] | http://t.co/THyzOMVWU0 | @djicemoon | #Dubstep #TrapMusic #DnB #EDM #Dance #IcesÛ_ http://t.co/83jOO0xk29</td>\n",
       "      <td>0</td>\n",
       "    </tr>\n",
       "  </tbody>\n",
       "</table>\n",
       "</div>"
      ],
      "text/plain": [
       "      id     keyword        location  \\\n",
       "40    59      ablaze  Live On Webcam   \n",
       "48    68      ablaze  Live On Webcam   \n",
       "106  156  aftershock              US   \n",
       "115  165  aftershock              US   \n",
       "118  171  aftershock     Switzerland   \n",
       "\n",
       "                                                                                                                                           text  \\\n",
       "40                           Check these out: http://t.co/rOI2NSmEJJ http://t.co/3Tj8ZjiN21 http://t.co/YDUiXEfIpE http://t.co/LxTjc87KLS #nsfw   \n",
       "48                           Check these out: http://t.co/rOI2NSmEJJ http://t.co/3Tj8ZjiN21 http://t.co/YDUiXEfIpE http://t.co/LxTjc87KLS #nsfw   \n",
       "106  320 [IR] ICEMOON [AFTERSHOCK] | http://t.co/vAM5POdGyw | @djicemoon | #Dubstep #TrapMusic #DnB #EDM #Dance #IcesÛ_ http://t.co/zEVakJaPcz   \n",
       "115  320 [IR] ICEMOON [AFTERSHOCK] | http://t.co/vAM5POdGyw | @djicemoon | #Dubstep #TrapMusic #DnB #EDM #Dance #IcesÛ_ http://t.co/zEVakJaPcz   \n",
       "118  320 [IR] ICEMOON [AFTERSHOCK] | http://t.co/THyzOMVWU0 | @djicemoon | #Dubstep #TrapMusic #DnB #EDM #Dance #IcesÛ_ http://t.co/83jOO0xk29   \n",
       "\n",
       "     target  \n",
       "40        0  \n",
       "48        0  \n",
       "106       0  \n",
       "115       0  \n",
       "118       0  "
      ]
     },
     "execution_count": 11,
     "metadata": {},
     "output_type": "execute_result"
    }
   ],
   "source": [
    "duplicates = df[df.duplicated(['text', 'target'], keep=False)]\n",
    "print(f'Train Duplicate Entries (text, target): {len(duplicates)}')\n",
    "duplicates.head()"
   ]
  },
  {
   "cell_type": "code",
   "execution_count": 12,
   "id": "bbffa723",
   "metadata": {
    "execution": {
     "iopub.execute_input": "2021-10-19T21:54:38.232594Z",
     "iopub.status.busy": "2021-10-19T21:54:38.231864Z",
     "iopub.status.idle": "2021-10-19T21:54:38.240454Z",
     "shell.execute_reply": "2021-10-19T21:54:38.241048Z",
     "shell.execute_reply.started": "2021-10-18T02:33:54.49702Z"
    },
    "papermill": {
     "duration": 0.081596,
     "end_time": "2021-10-19T21:54:38.241217",
     "exception": false,
     "start_time": "2021-10-19T21:54:38.159621",
     "status": "completed"
    },
    "tags": []
   },
   "outputs": [
    {
     "name": "stdout",
     "output_type": "stream",
     "text": [
      "(7521, 5) (3263, 4)\n"
     ]
    }
   ],
   "source": [
    "df.drop_duplicates(['text', 'target'], inplace=True, ignore_index=True)\n",
    "print(df.shape, df_test.shape)"
   ]
  },
  {
   "cell_type": "markdown",
   "id": "4fa91bd3",
   "metadata": {
    "papermill": {
     "duration": 0.110464,
     "end_time": "2021-10-19T21:54:38.446793",
     "exception": false,
     "start_time": "2021-10-19T21:54:38.336329",
     "status": "completed"
    },
    "tags": []
   },
   "source": [
    "Duplicates with the same keyword and text share both target classes. The count is low enough to manually review these tweets and drop those with the incorrect target label. "
   ]
  },
  {
   "cell_type": "code",
   "execution_count": 13,
   "id": "224821aa",
   "metadata": {
    "execution": {
     "iopub.execute_input": "2021-10-19T21:54:38.675393Z",
     "iopub.status.busy": "2021-10-19T21:54:38.671927Z",
     "iopub.status.idle": "2021-10-19T21:54:38.702807Z",
     "shell.execute_reply": "2021-10-19T21:54:38.703952Z",
     "shell.execute_reply.started": "2021-10-18T02:33:54.510486Z"
    },
    "papermill": {
     "duration": 0.152383,
     "end_time": "2021-10-19T21:54:38.704516",
     "exception": false,
     "start_time": "2021-10-19T21:54:38.552133",
     "status": "completed"
    },
    "tags": []
   },
   "outputs": [
    {
     "name": "stdout",
     "output_type": "stream",
     "text": [
      "Train Duplicate Entries (keyword, text): 30\n"
     ]
    },
    {
     "data": {
      "text/html": [
       "<div>\n",
       "<style scoped>\n",
       "    .dataframe tbody tr th:only-of-type {\n",
       "        vertical-align: middle;\n",
       "    }\n",
       "\n",
       "    .dataframe tbody tr th {\n",
       "        vertical-align: top;\n",
       "    }\n",
       "\n",
       "    .dataframe thead th {\n",
       "        text-align: right;\n",
       "    }\n",
       "</style>\n",
       "<table border=\"1\" class=\"dataframe\">\n",
       "  <thead>\n",
       "    <tr style=\"text-align: right;\">\n",
       "      <th></th>\n",
       "      <th>text</th>\n",
       "      <th>target</th>\n",
       "    </tr>\n",
       "  </thead>\n",
       "  <tbody>\n",
       "    <tr>\n",
       "      <th>4238</th>\n",
       "      <td>#Allah describes piling up #wealth thinking it would last #forever as the description of the people of #Hellfire in Surah Humaza. #Reflect</td>\n",
       "      <td>0</td>\n",
       "    </tr>\n",
       "    <tr>\n",
       "      <th>4253</th>\n",
       "      <td>#Allah describes piling up #wealth thinking it would last #forever as the description of the people of #Hellfire in Surah Humaza. #Reflect</td>\n",
       "      <td>1</td>\n",
       "    </tr>\n",
       "    <tr>\n",
       "      <th>4171</th>\n",
       "      <td>#foodscare #offers2go #NestleIndia slips into loss after #Magginoodle #ban unsafe and hazardous for #humanconsumption</td>\n",
       "      <td>1</td>\n",
       "    </tr>\n",
       "    <tr>\n",
       "      <th>4193</th>\n",
       "      <td>#foodscare #offers2go #NestleIndia slips into loss after #Magginoodle #ban unsafe and hazardous for #humanconsumption</td>\n",
       "      <td>0</td>\n",
       "    </tr>\n",
       "    <tr>\n",
       "      <th>2802</th>\n",
       "      <td>.POTUS #StrategicPatience is a strategy for #Genocide; refugees; IDP Internally displaced people; horror; etc. https://t.co/rqWuoy1fm4</td>\n",
       "      <td>1</td>\n",
       "    </tr>\n",
       "    <tr>\n",
       "      <th>2803</th>\n",
       "      <td>.POTUS #StrategicPatience is a strategy for #Genocide; refugees; IDP Internally displaced people; horror; etc. https://t.co/rqWuoy1fm4</td>\n",
       "      <td>0</td>\n",
       "    </tr>\n",
       "    <tr>\n",
       "      <th>4554</th>\n",
       "      <td>CLEARED:incident with injury:I-495  inner loop Exit 31 - MD 97/Georgia Ave Silver Spring</td>\n",
       "      <td>0</td>\n",
       "    </tr>\n",
       "    <tr>\n",
       "      <th>4535</th>\n",
       "      <td>CLEARED:incident with injury:I-495  inner loop Exit 31 - MD 97/Georgia Ave Silver Spring</td>\n",
       "      <td>1</td>\n",
       "    </tr>\n",
       "    <tr>\n",
       "      <th>4182</th>\n",
       "      <td>Caution: breathing may be hazardous to your health.</td>\n",
       "      <td>1</td>\n",
       "    </tr>\n",
       "    <tr>\n",
       "      <th>4185</th>\n",
       "      <td>Caution: breathing may be hazardous to your health.</td>\n",
       "      <td>0</td>\n",
       "    </tr>\n",
       "    <tr>\n",
       "      <th>3209</th>\n",
       "      <td>He came to a land which was engulfed in tribal war and turned it into a land of peace i.e. Madinah. #ProphetMuhammad #islam</td>\n",
       "      <td>0</td>\n",
       "    </tr>\n",
       "    <tr>\n",
       "      <th>3212</th>\n",
       "      <td>He came to a land which was engulfed in tribal war and turned it into a land of peace i.e. Madinah. #ProphetMuhammad #islam</td>\n",
       "      <td>1</td>\n",
       "    </tr>\n",
       "    <tr>\n",
       "      <th>4234</th>\n",
       "      <td>Hellfire is surrounded by desires so be careful and donÛªt let your desires control you! #Afterlife</td>\n",
       "      <td>0</td>\n",
       "    </tr>\n",
       "    <tr>\n",
       "      <th>4249</th>\n",
       "      <td>Hellfire is surrounded by desires so be careful and donÛªt let your desires control you! #Afterlife</td>\n",
       "      <td>1</td>\n",
       "    </tr>\n",
       "    <tr>\n",
       "      <th>4259</th>\n",
       "      <td>Hellfire! We donÛªt even want to think about it or mention it so letÛªs not do anything that leads to it #islam!</td>\n",
       "      <td>1</td>\n",
       "    </tr>\n",
       "    <tr>\n",
       "      <th>4250</th>\n",
       "      <td>Hellfire! We donÛªt even want to think about it or mention it so letÛªs not do anything that leads to it #islam!</td>\n",
       "      <td>0</td>\n",
       "    </tr>\n",
       "    <tr>\n",
       "      <th>6535</th>\n",
       "      <td>In #islam saving a person is equal in reward to saving all humans! Islam is the opposite of terrorism!</td>\n",
       "      <td>1</td>\n",
       "    </tr>\n",
       "    <tr>\n",
       "      <th>6533</th>\n",
       "      <td>In #islam saving a person is equal in reward to saving all humans! Islam is the opposite of terrorism!</td>\n",
       "      <td>0</td>\n",
       "    </tr>\n",
       "    <tr>\n",
       "      <th>4317</th>\n",
       "      <td>RT NotExplained: The only known image of infamous hijacker D.B. Cooper. http://t.co/JlzK2HdeTG</td>\n",
       "      <td>0</td>\n",
       "    </tr>\n",
       "    <tr>\n",
       "      <th>4319</th>\n",
       "      <td>RT NotExplained: The only known image of infamous hijacker D.B. Cooper. http://t.co/JlzK2HdeTG</td>\n",
       "      <td>1</td>\n",
       "    </tr>\n",
       "    <tr>\n",
       "      <th>4233</th>\n",
       "      <td>The Prophet (peace be upon him) said 'Save yourself from Hellfire even if it is by giving half a date in charity.'</td>\n",
       "      <td>0</td>\n",
       "    </tr>\n",
       "    <tr>\n",
       "      <th>4239</th>\n",
       "      <td>The Prophet (peace be upon him) said 'Save yourself from Hellfire even if it is by giving half a date in charity.'</td>\n",
       "      <td>1</td>\n",
       "    </tr>\n",
       "    <tr>\n",
       "      <th>620</th>\n",
       "      <td>To fight bioterrorism sir.</td>\n",
       "      <td>0</td>\n",
       "    </tr>\n",
       "    <tr>\n",
       "      <th>606</th>\n",
       "      <td>To fight bioterrorism sir.</td>\n",
       "      <td>1</td>\n",
       "    </tr>\n",
       "    <tr>\n",
       "      <th>3964</th>\n",
       "      <td>Who is bringing the tornadoes and floods. Who is bringing the climate change. God is after America He is plaguing her\\n \\n#FARRAKHAN #QUOTE</td>\n",
       "      <td>0</td>\n",
       "    </tr>\n",
       "    <tr>\n",
       "      <th>3936</th>\n",
       "      <td>Who is bringing the tornadoes and floods. Who is bringing the climate change. God is after America He is plaguing her\\n \\n#FARRAKHAN #QUOTE</td>\n",
       "      <td>1</td>\n",
       "    </tr>\n",
       "    <tr>\n",
       "      <th>6018</th>\n",
       "      <td>that horrible sinking feeling when youÛªve been at home on your phone for a while and you realise its been on 3G this whole time</td>\n",
       "      <td>1</td>\n",
       "    </tr>\n",
       "    <tr>\n",
       "      <th>6021</th>\n",
       "      <td>that horrible sinking feeling when youÛªve been at home on your phone for a while and you realise its been on 3G this whole time</td>\n",
       "      <td>0</td>\n",
       "    </tr>\n",
       "    <tr>\n",
       "      <th>5552</th>\n",
       "      <td>wowo--=== 12000 Nigerian refugees repatriated from Cameroon</td>\n",
       "      <td>1</td>\n",
       "    </tr>\n",
       "    <tr>\n",
       "      <th>5573</th>\n",
       "      <td>wowo--=== 12000 Nigerian refugees repatriated from Cameroon</td>\n",
       "      <td>0</td>\n",
       "    </tr>\n",
       "  </tbody>\n",
       "</table>\n",
       "</div>"
      ],
      "text/plain": [
       "                                                                                                                                             text  \\\n",
       "4238   #Allah describes piling up #wealth thinking it would last #forever as the description of the people of #Hellfire in Surah Humaza. #Reflect   \n",
       "4253   #Allah describes piling up #wealth thinking it would last #forever as the description of the people of #Hellfire in Surah Humaza. #Reflect   \n",
       "4171                        #foodscare #offers2go #NestleIndia slips into loss after #Magginoodle #ban unsafe and hazardous for #humanconsumption   \n",
       "4193                        #foodscare #offers2go #NestleIndia slips into loss after #Magginoodle #ban unsafe and hazardous for #humanconsumption   \n",
       "2802       .POTUS #StrategicPatience is a strategy for #Genocide; refugees; IDP Internally displaced people; horror; etc. https://t.co/rqWuoy1fm4   \n",
       "2803       .POTUS #StrategicPatience is a strategy for #Genocide; refugees; IDP Internally displaced people; horror; etc. https://t.co/rqWuoy1fm4   \n",
       "4554                                                     CLEARED:incident with injury:I-495  inner loop Exit 31 - MD 97/Georgia Ave Silver Spring   \n",
       "4535                                                     CLEARED:incident with injury:I-495  inner loop Exit 31 - MD 97/Georgia Ave Silver Spring   \n",
       "4182                                                                                          Caution: breathing may be hazardous to your health.   \n",
       "4185                                                                                          Caution: breathing may be hazardous to your health.   \n",
       "3209                  He came to a land which was engulfed in tribal war and turned it into a land of peace i.e. Madinah. #ProphetMuhammad #islam   \n",
       "3212                  He came to a land which was engulfed in tribal war and turned it into a land of peace i.e. Madinah. #ProphetMuhammad #islam   \n",
       "4234                                         Hellfire is surrounded by desires so be careful and donÛªt let your desires control you! #Afterlife   \n",
       "4249                                         Hellfire is surrounded by desires so be careful and donÛªt let your desires control you! #Afterlife   \n",
       "4259                           Hellfire! We donÛªt even want to think about it or mention it so letÛªs not do anything that leads to it #islam!   \n",
       "4250                           Hellfire! We donÛªt even want to think about it or mention it so letÛªs not do anything that leads to it #islam!   \n",
       "6535                                       In #islam saving a person is equal in reward to saving all humans! Islam is the opposite of terrorism!   \n",
       "6533                                       In #islam saving a person is equal in reward to saving all humans! Islam is the opposite of terrorism!   \n",
       "4317                                               RT NotExplained: The only known image of infamous hijacker D.B. Cooper. http://t.co/JlzK2HdeTG   \n",
       "4319                                               RT NotExplained: The only known image of infamous hijacker D.B. Cooper. http://t.co/JlzK2HdeTG   \n",
       "4233                           The Prophet (peace be upon him) said 'Save yourself from Hellfire even if it is by giving half a date in charity.'   \n",
       "4239                           The Prophet (peace be upon him) said 'Save yourself from Hellfire even if it is by giving half a date in charity.'   \n",
       "620                                                                                                                    To fight bioterrorism sir.   \n",
       "606                                                                                                                    To fight bioterrorism sir.   \n",
       "3964  Who is bringing the tornadoes and floods. Who is bringing the climate change. God is after America He is plaguing her\\n \\n#FARRAKHAN #QUOTE   \n",
       "3936  Who is bringing the tornadoes and floods. Who is bringing the climate change. God is after America He is plaguing her\\n \\n#FARRAKHAN #QUOTE   \n",
       "6018            that horrible sinking feeling when youÛªve been at home on your phone for a while and you realise its been on 3G this whole time   \n",
       "6021            that horrible sinking feeling when youÛªve been at home on your phone for a while and you realise its been on 3G this whole time   \n",
       "5552                                                                                  wowo--=== 12000 Nigerian refugees repatriated from Cameroon   \n",
       "5573                                                                                  wowo--=== 12000 Nigerian refugees repatriated from Cameroon   \n",
       "\n",
       "      target  \n",
       "4238       0  \n",
       "4253       1  \n",
       "4171       1  \n",
       "4193       0  \n",
       "2802       1  \n",
       "2803       0  \n",
       "4554       0  \n",
       "4535       1  \n",
       "4182       1  \n",
       "4185       0  \n",
       "3209       0  \n",
       "3212       1  \n",
       "4234       0  \n",
       "4249       1  \n",
       "4259       1  \n",
       "4250       0  \n",
       "6535       1  \n",
       "6533       0  \n",
       "4317       0  \n",
       "4319       1  \n",
       "4233       0  \n",
       "4239       1  \n",
       "620        0  \n",
       "606        1  \n",
       "3964       0  \n",
       "3936       1  \n",
       "6018       1  \n",
       "6021       0  \n",
       "5552       1  \n",
       "5573       0  "
      ]
     },
     "execution_count": 13,
     "metadata": {},
     "output_type": "execute_result"
    }
   ],
   "source": [
    "new_duplicates = df[df.duplicated(['keyword', 'text'], keep=False)]\n",
    "\n",
    "print(f'Train Duplicate Entries (keyword, text): {len(new_duplicates)}')\n",
    "new_duplicates[['text', 'target']].sort_values(by='text')"
   ]
  },
  {
   "cell_type": "code",
   "execution_count": 14,
   "id": "a43cece4",
   "metadata": {
    "execution": {
     "iopub.execute_input": "2021-10-19T21:54:38.952435Z",
     "iopub.status.busy": "2021-10-19T21:54:38.949684Z",
     "iopub.status.idle": "2021-10-19T21:54:38.953396Z",
     "shell.execute_reply": "2021-10-19T21:54:38.954009Z",
     "shell.execute_reply.started": "2021-10-18T02:33:54.535635Z"
    },
    "papermill": {
     "duration": 0.12641,
     "end_time": "2021-10-19T21:54:38.954285",
     "exception": false,
     "start_time": "2021-10-19T21:54:38.827875",
     "status": "completed"
    },
    "tags": []
   },
   "outputs": [],
   "source": [
    "# Drop the target label that is false for each duplicate pair\n",
    "df.drop([4253, 4193, 2802, 4554, 4182, 3212, 4249, 4259, 6535, 4319, 4239, 606, 3936, 6018, 5573], inplace=True)"
   ]
  },
  {
   "cell_type": "code",
   "execution_count": 15,
   "id": "c0052580",
   "metadata": {
    "execution": {
     "iopub.execute_input": "2021-10-19T21:54:39.201673Z",
     "iopub.status.busy": "2021-10-19T21:54:39.196858Z",
     "iopub.status.idle": "2021-10-19T21:54:39.205598Z",
     "shell.execute_reply": "2021-10-19T21:54:39.205176Z",
     "shell.execute_reply.started": "2021-10-18T02:33:54.544295Z"
    },
    "papermill": {
     "duration": 0.127843,
     "end_time": "2021-10-19T21:54:39.205726",
     "exception": false,
     "start_time": "2021-10-19T21:54:39.077883",
     "status": "completed"
    },
    "tags": []
   },
   "outputs": [
    {
     "data": {
      "text/html": [
       "<div>\n",
       "<style scoped>\n",
       "    .dataframe tbody tr th:only-of-type {\n",
       "        vertical-align: middle;\n",
       "    }\n",
       "\n",
       "    .dataframe tbody tr th {\n",
       "        vertical-align: top;\n",
       "    }\n",
       "\n",
       "    .dataframe thead th {\n",
       "        text-align: right;\n",
       "    }\n",
       "</style>\n",
       "<table border=\"1\" class=\"dataframe\">\n",
       "  <thead>\n",
       "    <tr style=\"text-align: right;\">\n",
       "      <th></th>\n",
       "      <th>id</th>\n",
       "      <th>keyword</th>\n",
       "      <th>location</th>\n",
       "      <th>text</th>\n",
       "      <th>target</th>\n",
       "    </tr>\n",
       "  </thead>\n",
       "  <tbody>\n",
       "    <tr>\n",
       "      <th>0</th>\n",
       "      <td>1</td>\n",
       "      <td>NaN</td>\n",
       "      <td>NaN</td>\n",
       "      <td>Our Deeds are the Reason of this #earthquake May ALLAH Forgive us all</td>\n",
       "      <td>1</td>\n",
       "    </tr>\n",
       "    <tr>\n",
       "      <th>1</th>\n",
       "      <td>4</td>\n",
       "      <td>NaN</td>\n",
       "      <td>NaN</td>\n",
       "      <td>Forest fire near La Ronge Sask. Canada</td>\n",
       "      <td>1</td>\n",
       "    </tr>\n",
       "    <tr>\n",
       "      <th>2</th>\n",
       "      <td>5</td>\n",
       "      <td>NaN</td>\n",
       "      <td>NaN</td>\n",
       "      <td>All residents asked to 'shelter in place' are being notified by officers. No other evacuation or shelter in place orders are expected</td>\n",
       "      <td>1</td>\n",
       "    </tr>\n",
       "    <tr>\n",
       "      <th>3</th>\n",
       "      <td>6</td>\n",
       "      <td>NaN</td>\n",
       "      <td>NaN</td>\n",
       "      <td>13,000 people receive #wildfires evacuation orders in California</td>\n",
       "      <td>1</td>\n",
       "    </tr>\n",
       "    <tr>\n",
       "      <th>4</th>\n",
       "      <td>7</td>\n",
       "      <td>NaN</td>\n",
       "      <td>NaN</td>\n",
       "      <td>Just got sent this photo from Ruby #Alaska as smoke from #wildfires pours into a school</td>\n",
       "      <td>1</td>\n",
       "    </tr>\n",
       "    <tr>\n",
       "      <th>...</th>\n",
       "      <td>...</td>\n",
       "      <td>...</td>\n",
       "      <td>...</td>\n",
       "      <td>...</td>\n",
       "      <td>...</td>\n",
       "    </tr>\n",
       "    <tr>\n",
       "      <th>7501</th>\n",
       "      <td>10863</td>\n",
       "      <td>NaN</td>\n",
       "      <td>NaN</td>\n",
       "      <td>#WorldNews Fallen powerlines on G:link tram: UPDATE: FIRE crews have evacuated up to 30 passengers who were tr... http://t.co/EYSVvzA7Qm</td>\n",
       "      <td>1</td>\n",
       "    </tr>\n",
       "    <tr>\n",
       "      <th>7502</th>\n",
       "      <td>10864</td>\n",
       "      <td>NaN</td>\n",
       "      <td>NaN</td>\n",
       "      <td>on the flip side I'm at Walmart and there is a bomb and everyone had to evacuate so stay tuned if I blow up or not</td>\n",
       "      <td>1</td>\n",
       "    </tr>\n",
       "    <tr>\n",
       "      <th>7503</th>\n",
       "      <td>10866</td>\n",
       "      <td>NaN</td>\n",
       "      <td>NaN</td>\n",
       "      <td>Suicide bomber kills 15 in Saudi security site mosque - Reuters via World - Google News - Wall ... http://t.co/nF4IculOje</td>\n",
       "      <td>1</td>\n",
       "    </tr>\n",
       "    <tr>\n",
       "      <th>7504</th>\n",
       "      <td>10869</td>\n",
       "      <td>NaN</td>\n",
       "      <td>NaN</td>\n",
       "      <td>Two giant cranes holding a bridge collapse into nearby homes http://t.co/STfMbbZFB5</td>\n",
       "      <td>1</td>\n",
       "    </tr>\n",
       "    <tr>\n",
       "      <th>7505</th>\n",
       "      <td>10873</td>\n",
       "      <td>NaN</td>\n",
       "      <td>NaN</td>\n",
       "      <td>The Latest: More Homes Razed by Northern California Wildfire - ABC News http://t.co/YmY4rSkQ3d</td>\n",
       "      <td>1</td>\n",
       "    </tr>\n",
       "  </tbody>\n",
       "</table>\n",
       "<p>7506 rows × 5 columns</p>\n",
       "</div>"
      ],
      "text/plain": [
       "         id keyword location  \\\n",
       "0         1     NaN      NaN   \n",
       "1         4     NaN      NaN   \n",
       "2         5     NaN      NaN   \n",
       "3         6     NaN      NaN   \n",
       "4         7     NaN      NaN   \n",
       "...     ...     ...      ...   \n",
       "7501  10863     NaN      NaN   \n",
       "7502  10864     NaN      NaN   \n",
       "7503  10866     NaN      NaN   \n",
       "7504  10869     NaN      NaN   \n",
       "7505  10873     NaN      NaN   \n",
       "\n",
       "                                                                                                                                          text  \\\n",
       "0                                                                        Our Deeds are the Reason of this #earthquake May ALLAH Forgive us all   \n",
       "1                                                                                                       Forest fire near La Ronge Sask. Canada   \n",
       "2        All residents asked to 'shelter in place' are being notified by officers. No other evacuation or shelter in place orders are expected   \n",
       "3                                                                            13,000 people receive #wildfires evacuation orders in California    \n",
       "4                                                     Just got sent this photo from Ruby #Alaska as smoke from #wildfires pours into a school    \n",
       "...                                                                                                                                        ...   \n",
       "7501  #WorldNews Fallen powerlines on G:link tram: UPDATE: FIRE crews have evacuated up to 30 passengers who were tr... http://t.co/EYSVvzA7Qm   \n",
       "7502                        on the flip side I'm at Walmart and there is a bomb and everyone had to evacuate so stay tuned if I blow up or not   \n",
       "7503                 Suicide bomber kills 15 in Saudi security site mosque - Reuters via World - Google News - Wall ... http://t.co/nF4IculOje   \n",
       "7504                                                       Two giant cranes holding a bridge collapse into nearby homes http://t.co/STfMbbZFB5   \n",
       "7505                                            The Latest: More Homes Razed by Northern California Wildfire - ABC News http://t.co/YmY4rSkQ3d   \n",
       "\n",
       "      target  \n",
       "0          1  \n",
       "1          1  \n",
       "2          1  \n",
       "3          1  \n",
       "4          1  \n",
       "...      ...  \n",
       "7501       1  \n",
       "7502       1  \n",
       "7503       1  \n",
       "7504       1  \n",
       "7505       1  \n",
       "\n",
       "[7506 rows x 5 columns]"
      ]
     },
     "execution_count": 15,
     "metadata": {},
     "output_type": "execute_result"
    }
   ],
   "source": [
    "# Reset the dataframe index to account for missing numbers\n",
    "df = df.reset_index(drop=True)\n",
    "df"
   ]
  },
  {
   "cell_type": "markdown",
   "id": "f466658f",
   "metadata": {
    "papermill": {
     "duration": 0.06908,
     "end_time": "2021-10-19T21:54:39.346516",
     "exception": false,
     "start_time": "2021-10-19T21:54:39.277436",
     "status": "completed"
    },
    "tags": []
   },
   "source": [
    "### 2.2. Examine the Target Data Balance\n",
    "\n",
    "The balance of the target data shows that the minority class makes up just over 40% of the training samples. This is mild enough where we don't need any imbalanced data sampling techinques. "
   ]
  },
  {
   "cell_type": "code",
   "execution_count": 16,
   "id": "bd7bc314",
   "metadata": {
    "execution": {
     "iopub.execute_input": "2021-10-19T21:54:39.493061Z",
     "iopub.status.busy": "2021-10-19T21:54:39.492237Z",
     "iopub.status.idle": "2021-10-19T21:54:39.498521Z",
     "shell.execute_reply": "2021-10-19T21:54:39.498936Z",
     "shell.execute_reply.started": "2021-10-18T02:33:54.566003Z"
    },
    "papermill": {
     "duration": 0.08196,
     "end_time": "2021-10-19T21:54:39.499075",
     "exception": false,
     "start_time": "2021-10-19T21:54:39.417115",
     "status": "completed"
    },
    "tags": []
   },
   "outputs": [
    {
     "data": {
      "text/plain": [
       "0    0.574474\n",
       "1    0.425526\n",
       "Name: target, dtype: float64"
      ]
     },
     "execution_count": 16,
     "metadata": {},
     "output_type": "execute_result"
    }
   ],
   "source": [
    "df['target'].value_counts() / len(df)"
   ]
  },
  {
   "cell_type": "markdown",
   "id": "c44ae07d",
   "metadata": {
    "papermill": {
     "duration": 0.069293,
     "end_time": "2021-10-19T21:54:39.640237",
     "exception": false,
     "start_time": "2021-10-19T21:54:39.570944",
     "status": "completed"
    },
    "tags": []
   },
   "source": [
    "### 2.3. Check for Null Values\n",
    "\n",
    "We will check for null values in the training and test data so we can decide how to preprocess it for training and prediction."
   ]
  },
  {
   "cell_type": "code",
   "execution_count": 17,
   "id": "eadc68ce",
   "metadata": {
    "execution": {
     "iopub.execute_input": "2021-10-19T21:54:39.785288Z",
     "iopub.status.busy": "2021-10-19T21:54:39.784554Z",
     "iopub.status.idle": "2021-10-19T21:54:39.787502Z",
     "shell.execute_reply": "2021-10-19T21:54:39.786951Z",
     "shell.execute_reply.started": "2021-10-18T02:33:54.577277Z"
    },
    "papermill": {
     "duration": 0.077623,
     "end_time": "2021-10-19T21:54:39.787648",
     "exception": false,
     "start_time": "2021-10-19T21:54:39.710025",
     "status": "completed"
    },
    "tags": []
   },
   "outputs": [],
   "source": [
    "def null_table(data): \n",
    "    # Bool is True if values are not null\n",
    "    null_list = []\n",
    "\n",
    "    for i in data:\n",
    "        if data[i].notnull().any():\n",
    "            null_list.append(data[i].notnull().value_counts())\n",
    "    \n",
    "    return pd.DataFrame(pd.concat(null_list, axis=1).T)"
   ]
  },
  {
   "cell_type": "code",
   "execution_count": 18,
   "id": "cc650107",
   "metadata": {
    "execution": {
     "iopub.execute_input": "2021-10-19T21:54:39.932254Z",
     "iopub.status.busy": "2021-10-19T21:54:39.931730Z",
     "iopub.status.idle": "2021-10-19T21:54:39.952245Z",
     "shell.execute_reply": "2021-10-19T21:54:39.952704Z",
     "shell.execute_reply.started": "2021-10-18T02:33:54.585114Z"
    },
    "papermill": {
     "duration": 0.09577,
     "end_time": "2021-10-19T21:54:39.952868",
     "exception": false,
     "start_time": "2021-10-19T21:54:39.857098",
     "status": "completed"
    },
    "tags": []
   },
   "outputs": [
    {
     "data": {
      "text/html": [
       "<div>\n",
       "<style scoped>\n",
       "    .dataframe tbody tr th:only-of-type {\n",
       "        vertical-align: middle;\n",
       "    }\n",
       "\n",
       "    .dataframe tbody tr th {\n",
       "        vertical-align: top;\n",
       "    }\n",
       "\n",
       "    .dataframe thead th {\n",
       "        text-align: right;\n",
       "    }\n",
       "</style>\n",
       "<table border=\"1\" class=\"dataframe\">\n",
       "  <thead>\n",
       "    <tr style=\"text-align: right;\">\n",
       "      <th></th>\n",
       "      <th>True</th>\n",
       "      <th>False</th>\n",
       "    </tr>\n",
       "  </thead>\n",
       "  <tbody>\n",
       "    <tr>\n",
       "      <th>id</th>\n",
       "      <td>7506.0</td>\n",
       "      <td>NaN</td>\n",
       "    </tr>\n",
       "    <tr>\n",
       "      <th>keyword</th>\n",
       "      <td>7450.0</td>\n",
       "      <td>56.0</td>\n",
       "    </tr>\n",
       "    <tr>\n",
       "      <th>location</th>\n",
       "      <td>5023.0</td>\n",
       "      <td>2483.0</td>\n",
       "    </tr>\n",
       "    <tr>\n",
       "      <th>text</th>\n",
       "      <td>7506.0</td>\n",
       "      <td>NaN</td>\n",
       "    </tr>\n",
       "    <tr>\n",
       "      <th>target</th>\n",
       "      <td>7506.0</td>\n",
       "      <td>NaN</td>\n",
       "    </tr>\n",
       "  </tbody>\n",
       "</table>\n",
       "</div>"
      ],
      "text/plain": [
       "           True    False\n",
       "id        7506.0     NaN\n",
       "keyword   7450.0    56.0\n",
       "location  5023.0  2483.0\n",
       "text      7506.0     NaN\n",
       "target    7506.0     NaN"
      ]
     },
     "execution_count": 18,
     "metadata": {},
     "output_type": "execute_result"
    }
   ],
   "source": [
    "null_table(df)"
   ]
  },
  {
   "cell_type": "code",
   "execution_count": 19,
   "id": "7048eac4",
   "metadata": {
    "execution": {
     "iopub.execute_input": "2021-10-19T21:54:40.108094Z",
     "iopub.status.busy": "2021-10-19T21:54:40.107280Z",
     "iopub.status.idle": "2021-10-19T21:54:40.121692Z",
     "shell.execute_reply": "2021-10-19T21:54:40.121221Z",
     "shell.execute_reply.started": "2021-10-18T02:33:54.611324Z"
    },
    "papermill": {
     "duration": 0.090587,
     "end_time": "2021-10-19T21:54:40.121824",
     "exception": false,
     "start_time": "2021-10-19T21:54:40.031237",
     "status": "completed"
    },
    "tags": []
   },
   "outputs": [
    {
     "data": {
      "text/html": [
       "<div>\n",
       "<style scoped>\n",
       "    .dataframe tbody tr th:only-of-type {\n",
       "        vertical-align: middle;\n",
       "    }\n",
       "\n",
       "    .dataframe tbody tr th {\n",
       "        vertical-align: top;\n",
       "    }\n",
       "\n",
       "    .dataframe thead th {\n",
       "        text-align: right;\n",
       "    }\n",
       "</style>\n",
       "<table border=\"1\" class=\"dataframe\">\n",
       "  <thead>\n",
       "    <tr style=\"text-align: right;\">\n",
       "      <th></th>\n",
       "      <th>True</th>\n",
       "      <th>False</th>\n",
       "    </tr>\n",
       "  </thead>\n",
       "  <tbody>\n",
       "    <tr>\n",
       "      <th>id</th>\n",
       "      <td>3263.0</td>\n",
       "      <td>NaN</td>\n",
       "    </tr>\n",
       "    <tr>\n",
       "      <th>keyword</th>\n",
       "      <td>3237.0</td>\n",
       "      <td>26.0</td>\n",
       "    </tr>\n",
       "    <tr>\n",
       "      <th>location</th>\n",
       "      <td>2158.0</td>\n",
       "      <td>1105.0</td>\n",
       "    </tr>\n",
       "    <tr>\n",
       "      <th>text</th>\n",
       "      <td>3263.0</td>\n",
       "      <td>NaN</td>\n",
       "    </tr>\n",
       "  </tbody>\n",
       "</table>\n",
       "</div>"
      ],
      "text/plain": [
       "           True    False\n",
       "id        3263.0     NaN\n",
       "keyword   3237.0    26.0\n",
       "location  2158.0  1105.0\n",
       "text      3263.0     NaN"
      ]
     },
     "execution_count": 19,
     "metadata": {},
     "output_type": "execute_result"
    }
   ],
   "source": [
    "null_table(df_test)"
   ]
  },
  {
   "cell_type": "markdown",
   "id": "ba08f32e",
   "metadata": {
    "papermill": {
     "duration": 0.083681,
     "end_time": "2021-10-19T21:54:40.281027",
     "exception": false,
     "start_time": "2021-10-19T21:54:40.197346",
     "status": "completed"
    },
    "tags": []
   },
   "source": [
    "A check for null values in the data shows that the `location` column is missing a significant amount information. This could interfere with model performance, so that data will be excluded. In contrast, the `keyword` column has a more acceptable count of missing values so we can fill these with extracted keywords using spaCy."
   ]
  },
  {
   "cell_type": "markdown",
   "id": "7499f6fd",
   "metadata": {
    "papermill": {
     "duration": 0.114076,
     "end_time": "2021-10-19T21:54:40.530002",
     "exception": false,
     "start_time": "2021-10-19T21:54:40.415926",
     "status": "completed"
    },
    "tags": []
   },
   "source": [
    "# 3. Text Preprocessing and EDA\n",
    "We'll start by viewing some raw text samples so we can apply the appropriate data cleaning methods. "
   ]
  },
  {
   "cell_type": "code",
   "execution_count": 20,
   "id": "61894022",
   "metadata": {
    "execution": {
     "iopub.execute_input": "2021-10-19T21:54:40.768705Z",
     "iopub.status.busy": "2021-10-19T21:54:40.767807Z",
     "iopub.status.idle": "2021-10-19T21:54:40.773440Z",
     "shell.execute_reply": "2021-10-19T21:54:40.774061Z",
     "shell.execute_reply.started": "2021-10-18T02:33:54.633035Z"
    },
    "papermill": {
     "duration": 0.13138,
     "end_time": "2021-10-19T21:54:40.774248",
     "exception": false,
     "start_time": "2021-10-19T21:54:40.642868",
     "status": "completed"
    },
    "tags": []
   },
   "outputs": [
    {
     "name": "stdout",
     "output_type": "stream",
     "text": [
      "Tweet #332:  European Fitba till Christmas  ARMAGEDDON => Target:  0\n",
      "\n",
      "Tweet #15:  What's up man? => Target:  0\n",
      "\n",
      "Tweet #242:  U.S National Park Services Tonto National Forest: Stop the Annihilation of the Salt River Wild Horse... http://t.co/6LoJOoROuk via @Change => Target:  0\n",
      "\n",
      "Tweet #394:  RelaxInPR: miprv: RT latimes: Arson suspect linked to 30 fires caught in Northern California http://t.co/ylhAyfaOOu => Target:  1\n",
      "\n",
      "Tweet #109:  #GrowingUpSpoiled going clay pigeon shooting and crying because of the 'aftershock' => Target:  0\n",
      "\n"
     ]
    }
   ],
   "source": [
    "text = df['text']\n",
    "target = df['target']\n",
    "\n",
    "test_text = df_test['text']\n",
    "\n",
    "# Print random samples from the training text \n",
    "for i in np.random.randint(500, size=5):\n",
    "    print(f'Tweet #{i}: ', text[i], '=> Target: ', target[i], end='\\n' * 2)"
   ]
  },
  {
   "cell_type": "markdown",
   "id": "fbca55a0",
   "metadata": {
    "papermill": {
     "duration": 0.083026,
     "end_time": "2021-10-19T21:54:40.964867",
     "exception": false,
     "start_time": "2021-10-19T21:54:40.881841",
     "status": "completed"
    },
    "tags": []
   },
   "source": [
    "The next task is to build a text standardization function that is specific to the content found in tweets. Aside from punctuation, there are urls, abbreviations, entities, retweets, digits, stopwords, and of course emojis. The words in each tweet will also be lemmatized or reduced to their root form using the spaCy library. We'll start by building a lookup dictionary with common twitter phrase abbreviations. Tweet terms that match keys in the lookup dictionary will be expanded to their non-abbreviated form."
   ]
  },
  {
   "cell_type": "code",
   "execution_count": 21,
   "id": "8aa2b4fe",
   "metadata": {
    "execution": {
     "iopub.execute_input": "2021-10-19T21:54:41.130819Z",
     "iopub.status.busy": "2021-10-19T21:54:41.129898Z",
     "iopub.status.idle": "2021-10-19T21:54:41.132519Z",
     "shell.execute_reply": "2021-10-19T21:54:41.132121Z",
     "shell.execute_reply.started": "2021-10-18T02:33:54.644934Z"
    },
    "papermill": {
     "duration": 0.085044,
     "end_time": "2021-10-19T21:54:41.132649",
     "exception": false,
     "start_time": "2021-10-19T21:54:41.047605",
     "status": "completed"
    },
    "tags": []
   },
   "outputs": [],
   "source": [
    "lookup_dict = {\n",
    "  'abt' : 'about',\n",
    "  'afaik' : 'as far as i know',\n",
    "  'bc' : 'because',\n",
    "  'bfn' : 'bye for now',\n",
    "  'bgd' : 'background',\n",
    "  'bh' : 'blockhead',\n",
    "  'br' : 'best regards',\n",
    "  'btw' : 'by the way',\n",
    "  'cc': 'carbon copy',\n",
    "  'chk' : 'check',\n",
    "  'dam' : 'do not annoy me',\n",
    "  'dd' : 'dear daughter',\n",
    "  'df': 'dear fiance',\n",
    "  'ds' : 'dear son',\n",
    "  'dyk' : 'did you know',\n",
    "  'em': 'email',\n",
    "  'ema' : 'email address',\n",
    "  'ftf' : 'face to face',\n",
    "  'fb' : 'facebook',\n",
    "  'ff' : 'follow friday', \n",
    "  'fotd' : 'find of the day',\n",
    "  'ftw': 'for the win',\n",
    "  'fwiw' : 'for what it is worth',\n",
    "  'gts' : 'guess the song',\n",
    "  'hagn' : 'have a good night',\n",
    "  'hand' : 'have a nice day',\n",
    "  'hotd' : 'headline of the day',\n",
    "  'ht' : 'heard through',\n",
    "  'hth' : 'hope that helps',\n",
    "  'ic' : 'i see',\n",
    "  'icymi' : 'in case you missed it',\n",
    "  'idk' : 'i do not know',\n",
    "  'ig': 'instagram',\n",
    "  'iirc' : 'if i remember correctly',\n",
    "  'imho' : 'in my humble opinion',\n",
    "  'imo' : 'in my opinion',\n",
    "  'irl' : 'in real life',\n",
    "  'iwsn' : 'i want sex now',\n",
    "  'jk' : 'just kidding',\n",
    "  'jsyk' : 'just so you know',\n",
    "  'jv' : 'joint venture',\n",
    "  'kk' : 'cool cool',\n",
    "  'kyso' : 'knock your socks off',\n",
    "  'lmao' : 'laugh my ass off',\n",
    "  'lmk' : 'let me know', \n",
    "  'lo' : 'little one',\n",
    "  'lol' : 'laugh out loud',\n",
    "  'mm' : 'music monday',\n",
    "  'mirl' : 'meet in real life',\n",
    "  'mrjn' : 'marijuana',\n",
    "  'nbd' : 'no big deal',\n",
    "  'nct' : 'nobody cares though',\n",
    "  'njoy' : 'enjoy',\n",
    "  'nsfw' : 'not safe for work',\n",
    "  'nts' : 'note to self',\n",
    "  'oh' : 'overheard',\n",
    "  'omg': 'oh my god',\n",
    "  'oomf' : 'one of my friends',\n",
    "  'orly' : 'oh really',\n",
    "  'plmk' : 'please let me know',\n",
    "  'pnp' : 'party and play', \n",
    "  'qotd' : 'quote of the day',\n",
    "  're' : 'in reply to in regards to',\n",
    "  'rtq' : 'read the question',\n",
    "  'rt' : 'retweet',\n",
    "  'sfw' : 'safe for work',\n",
    "  'smdh' : 'shaking my damn head', \n",
    "  'smh' : 'shaking my head',\n",
    "  'so' : 'significant other',\n",
    "  'srs' : 'serious',\n",
    "  'tftf' : 'thanks for the follow',\n",
    "  'tftt' : 'thanks for this tweet',\n",
    "  'tj' : 'tweetjack',\n",
    "  'tl' : 'timeline',\n",
    "  'tldr' : 'too long did not read',\n",
    "  'tmb' : 'tweet me back',\n",
    "  'tt' : 'trending topic',\n",
    "  'ty' : 'thank you',\n",
    "  'tyia' : 'thank you in advance',\n",
    "  'tyt' : 'take your time',\n",
    "  'tyvw' : 'thank you very much',\n",
    "  'w': 'with', \n",
    "  'wtv' : 'whatever',\n",
    "  'ygtr' : 'you got that right',\n",
    "  'ykwim' : 'you know what i mean',\n",
    "  'ykyat' : 'you know you are addicted to',\n",
    "  'ymmv' : 'your mileage may vary',\n",
    "  'yolo' : 'you only live once',\n",
    "  'yoyo' : 'you are on your own',\n",
    "  'yt': 'youtube',\n",
    "  'yw' : 'you are welcome',\n",
    "  'zomg' : 'oh my god to the maximum'\n",
    "}"
   ]
  },
  {
   "cell_type": "markdown",
   "id": "414ad38e",
   "metadata": {
    "papermill": {
     "duration": 0.070036,
     "end_time": "2021-10-19T21:54:41.272907",
     "exception": false,
     "start_time": "2021-10-19T21:54:41.202871",
     "status": "completed"
    },
    "tags": []
   },
   "source": [
    "### 3.1. Text Standardization Functions"
   ]
  },
  {
   "cell_type": "code",
   "execution_count": 22,
   "id": "d6805215",
   "metadata": {
    "execution": {
     "iopub.execute_input": "2021-10-19T21:54:41.428370Z",
     "iopub.status.busy": "2021-10-19T21:54:41.427517Z",
     "iopub.status.idle": "2021-10-19T21:54:41.429910Z",
     "shell.execute_reply": "2021-10-19T21:54:41.430277Z",
     "shell.execute_reply.started": "2021-10-18T02:33:54.659885Z"
    },
    "papermill": {
     "duration": 0.087278,
     "end_time": "2021-10-19T21:54:41.430408",
     "exception": false,
     "start_time": "2021-10-19T21:54:41.343130",
     "status": "completed"
    },
    "tags": []
   },
   "outputs": [],
   "source": [
    "def lemmatize_text(text, nlp=nlp):\n",
    "    doc = nlp(text)    \n",
    "    lemma_sent = [i.lemma_ for i in doc if not i.is_stop]    \n",
    "    \n",
    "    return ' '.join(lemma_sent)  \n",
    "\n",
    "def abbrev_conversion(text):\n",
    "    words = text.split() \n",
    "    abbrevs_removed = [] \n",
    "    \n",
    "    for i in words:\n",
    "        if i in lookup_dict:\n",
    "            i = lookup_dict[i]\n",
    "        abbrevs_removed.append(i)\n",
    "            \n",
    "    return ' '.join(abbrevs_removed)\n",
    "\n",
    "def standardize_text(text_data):    \n",
    "    entity_pattern = re.compile(r'(@[A-Za-z0-9]+)|([^0-9A-Za-z \\t])|(\\w+:\\/\\/\\S+)') \n",
    "    url_pattern = re.compile(r'(?:\\@|http?\\://|https?\\://|www)\\S+')\n",
    "    retweet_pattern = re.compile(r'^(RT|RT:)\\s+')\n",
    "    digit_pattern = re.compile(r'[\\d]+')\n",
    "    # From https://gist.github.com/slowkow/7a7f61f495e3dbb7e3d767f97bd7304\n",
    "    emoji_pattern = re.compile(\"[\"\n",
    "                               u\"\\U0001F600-\\U0001F64F\"  # emoticons\n",
    "                               u\"\\U0001F300-\\U0001F5FF\"  # symbols & pictographs\n",
    "                               u\"\\U0001F680-\\U0001F6FF\"  # transport & map symbols\n",
    "                               u\"\\U0001F1E0-\\U0001F1FF\"  # flags (iOS)\n",
    "                               u\"\\U00002500-\\U00002BEF\"  # chinese char\n",
    "                               u\"\\U00002702-\\U000027B0\"\n",
    "                               u\"\\U00002702-\\U000027B0\"\n",
    "                               u\"\\U000024C2-\\U0001F251\"\n",
    "                               u\"\\U0001f926-\\U0001f937\"\n",
    "                               u\"\\U00010000-\\U0010ffff\"\n",
    "                               u\"\\u2640-\\u2642\"\n",
    "                               u\"\\u2600-\\u2B55\"\n",
    "                               u\"\\u200d\"\n",
    "                               u\"\\u23cf\"\n",
    "                               u\"\\u23e9\"\n",
    "                               u\"\\u231a\"\n",
    "                               u\"\\ufe0f\"  # dingbats\n",
    "                               u\"\\u3030\"\n",
    "                               \"]+\", flags=re.UNICODE)\n",
    "    \n",
    "    # Remove urls\n",
    "    url_strip = text_data.apply(lambda x: re.sub(url_pattern, '', x) if pd.isna(x) != True else x)\n",
    "    # Parse the HTML\n",
    "    html_parse = url_strip.apply(lambda x: bs(x, 'html.parser').get_text() if pd.isna(x) != True else x)\n",
    "    # Remove rewteets\n",
    "    retweet_strip = html_parse.apply(lambda x: re.sub(retweet_pattern, '', x) if pd.isna(x) != True else x)\n",
    "    # Remove emojis\n",
    "    emoji_strip = retweet_strip.apply(lambda x: re.sub(emoji_pattern, '', x) if pd.isna(x) != True else x)\n",
    "    # Remove entities\n",
    "    entity_strip = emoji_strip.apply(lambda x: re.sub(entity_pattern, '', x) if pd.isna(x) != True else x)\n",
    "    # Lowercase the strings\n",
    "    lowercase = entity_strip.apply(lambda x: str.lower(x) if pd.isna(x) != True else x)               \n",
    "    # Remove punctuation\n",
    "    punct_strip = lowercase.apply(lambda x: re.sub(f'[{re.escape(string.punctuation)}]', '', x) if pd.isna(x) != True else x) \n",
    "    # Convert abbreviations to words\n",
    "    abbrev_converted = punct_strip.apply(lambda x: abbrev_conversion(x) if pd.isna(x) != True else x)\n",
    "    # Remove digits\n",
    "    digit_strip = abbrev_converted.apply(lambda x: re.sub(digit_pattern, '', x) if pd.isna(x) != True else x)    \n",
    "    # Lemmatize text and filter stopwords\n",
    "    lemma_and_stop = digit_strip.apply(lambda x: lemmatize_text(x) if pd.isna(x) != True else x)\n",
    "    \n",
    "    return lemma_and_stop"
   ]
  },
  {
   "cell_type": "code",
   "execution_count": 23,
   "id": "471942f2",
   "metadata": {
    "execution": {
     "iopub.execute_input": "2021-10-19T21:54:41.612394Z",
     "iopub.status.busy": "2021-10-19T21:54:41.596449Z",
     "iopub.status.idle": "2021-10-19T21:55:59.739160Z",
     "shell.execute_reply": "2021-10-19T21:55:59.739801Z",
     "shell.execute_reply.started": "2021-10-18T02:33:54.680229Z"
    },
    "papermill": {
     "duration": 78.238371,
     "end_time": "2021-10-19T21:55:59.739996",
     "exception": false,
     "start_time": "2021-10-19T21:54:41.501625",
     "status": "completed"
    },
    "tags": []
   },
   "outputs": [
    {
     "name": "stdout",
     "output_type": "stream",
     "text": [
      "Tweet #294:  know zombie => Target:  0\n",
      "\n",
      "Tweet #415:  u dick => Target:  0\n",
      "\n",
      "Tweet #409:  nowplaye arsonist mc significant impressed => Target:  0\n",
      "\n",
      "Tweet #33:  africanbaze breaking newsnigeria flag set ablaze aba => Target:  1\n",
      "\n",
      "Tweet #115:  be see issue aftershock => Target:  0\n",
      "\n"
     ]
    }
   ],
   "source": [
    "clean_text = np.asarray(standardize_text(text))\n",
    "test_clean_text = np.asarray(standardize_text(test_text))\n",
    "\n",
    "# Print random samples from the cleaned training text\n",
    "for i in np.random.randint(500, size=5):\n",
    "    print(f'Tweet #{i}: ', clean_text[i], '=> Target: ', target[i], end='\\n' * 2)"
   ]
  },
  {
   "cell_type": "markdown",
   "id": "f78b0140",
   "metadata": {
    "papermill": {
     "duration": 0.108883,
     "end_time": "2021-10-19T21:55:59.921107",
     "exception": false,
     "start_time": "2021-10-19T21:55:59.812224",
     "status": "completed"
    },
    "tags": []
   },
   "source": [
    "The text is now in a cleaner format for training, but before taking the next step we should explore it with some visualizations."
   ]
  },
  {
   "cell_type": "code",
   "execution_count": 24,
   "id": "a2608739",
   "metadata": {
    "execution": {
     "iopub.execute_input": "2021-10-19T21:56:00.070642Z",
     "iopub.status.busy": "2021-10-19T21:56:00.070104Z",
     "iopub.status.idle": "2021-10-19T21:56:00.074177Z",
     "shell.execute_reply": "2021-10-19T21:56:00.073698Z",
     "shell.execute_reply.started": "2021-10-18T02:35:08.056225Z"
    },
    "papermill": {
     "duration": 0.080959,
     "end_time": "2021-10-19T21:56:00.074292",
     "exception": false,
     "start_time": "2021-10-19T21:55:59.993333",
     "status": "completed"
    },
    "tags": []
   },
   "outputs": [],
   "source": [
    "df['clean_text'] = pd.DataFrame(clean_text)\n",
    "df_test['clean_text'] = pd.DataFrame(test_clean_text)"
   ]
  },
  {
   "cell_type": "markdown",
   "id": "0df25d9d",
   "metadata": {
    "papermill": {
     "duration": 0.071209,
     "end_time": "2021-10-19T21:56:00.217843",
     "exception": false,
     "start_time": "2021-10-19T21:56:00.146634",
     "status": "completed"
    },
    "tags": []
   },
   "source": [
    "### 3.2. Plot Tweet Length Histogram"
   ]
  },
  {
   "cell_type": "code",
   "execution_count": 25,
   "id": "9c101e62",
   "metadata": {
    "execution": {
     "iopub.execute_input": "2021-10-19T21:56:00.375159Z",
     "iopub.status.busy": "2021-10-19T21:56:00.374274Z",
     "iopub.status.idle": "2021-10-19T21:56:00.661887Z",
     "shell.execute_reply": "2021-10-19T21:56:00.661415Z",
     "shell.execute_reply.started": "2021-10-18T02:35:08.06733Z"
    },
    "papermill": {
     "duration": 0.372556,
     "end_time": "2021-10-19T21:56:00.662014",
     "exception": false,
     "start_time": "2021-10-19T21:56:00.289458",
     "status": "completed"
    },
    "tags": []
   },
   "outputs": [
    {
     "data": {
      "image/png": "[encoded data removed]",
      "text/plain": [
       "<Figure size 720x432 with 1 Axes>"
      ]
     },
     "metadata": {},
     "output_type": "display_data"
    }
   ],
   "source": [
    "df['tweet_len'] = df['clean_text'].apply(lambda x: len(x))\n",
    "\n",
    "count, bin_edges = np.histogram(df['tweet_len'])\n",
    "sns.histplot(data=df, x=df['tweet_len'], bins=bin_edges, hue=df['target'])\n",
    "plt.title('Tweet Length Frequency')\n",
    "plt.xlabel('Length of Tweets')\n",
    "plt.ylabel('Frequency')\n",
    "plt.show()"
   ]
  },
  {
   "cell_type": "markdown",
   "id": "fa6c8bc1",
   "metadata": {
    "papermill": {
     "duration": 0.071273,
     "end_time": "2021-10-19T21:56:00.805177",
     "exception": false,
     "start_time": "2021-10-19T21:56:00.733904",
     "status": "completed"
    },
    "tags": []
   },
   "source": [
    "A tweet length histogram shows that longer tweets at the end of the distribution have a greater frequency of disaster. "
   ]
  },
  {
   "cell_type": "markdown",
   "id": "067edb06",
   "metadata": {
    "papermill": {
     "duration": 0.071734,
     "end_time": "2021-10-19T21:56:00.948763",
     "exception": false,
     "start_time": "2021-10-19T21:56:00.877029",
     "status": "completed"
    },
    "tags": []
   },
   "source": [
    "### 3.3. Display Non-Disaster and Disaster WordClouds"
   ]
  },
  {
   "cell_type": "code",
   "execution_count": 26,
   "id": "250d5573",
   "metadata": {
    "execution": {
     "iopub.execute_input": "2021-10-19T21:56:01.146116Z",
     "iopub.status.busy": "2021-10-19T21:56:01.136517Z",
     "iopub.status.idle": "2021-10-19T21:56:01.595523Z",
     "shell.execute_reply": "2021-10-19T21:56:01.595950Z",
     "shell.execute_reply.started": "2021-10-18T02:35:08.37084Z"
    },
    "papermill": {
     "duration": 0.575638,
     "end_time": "2021-10-19T21:56:01.596099",
     "exception": false,
     "start_time": "2021-10-19T21:56:01.020461",
     "status": "completed"
    },
    "tags": []
   },
   "outputs": [
    {
     "data": {
      "image/png": "[encoded data removed]",
      "text/plain": [
       "<Figure size 720x432 with 1 Axes>"
      ]
     },
     "metadata": {},
     "output_type": "display_data"
    }
   ],
   "source": [
    "word_cloud_0 = WordCloud(collocations=False, background_color='white').generate(' '.join(df['clean_text'][df['target']==0]))\n",
    "plt.imshow(word_cloud_0, interpolation='bilinear')\n",
    "plt.title('Non-Disaster Wordcloud (0)')\n",
    "plt.axis('off')\n",
    "plt.show()"
   ]
  },
  {
   "cell_type": "code",
   "execution_count": 27,
   "id": "ef09fdeb",
   "metadata": {
    "execution": {
     "iopub.execute_input": "2021-10-19T21:56:01.810449Z",
     "iopub.status.busy": "2021-10-19T21:56:01.800614Z",
     "iopub.status.idle": "2021-10-19T21:56:02.290096Z",
     "shell.execute_reply": "2021-10-19T21:56:02.289642Z",
     "shell.execute_reply.started": "2021-10-18T02:35:08.855405Z"
    },
    "papermill": {
     "duration": 0.614788,
     "end_time": "2021-10-19T21:56:02.290224",
     "exception": false,
     "start_time": "2021-10-19T21:56:01.675436",
     "status": "completed"
    },
    "tags": []
   },
   "outputs": [
    {
     "data": {
      "image/png": "[encoded data removed]",
      "text/plain": [
       "<Figure size 720x432 with 1 Axes>"
      ]
     },
     "metadata": {},
     "output_type": "display_data"
    }
   ],
   "source": [
    "word_cloud_1 = WordCloud(collocations=False, background_color='white').generate(' '.join(df['clean_text'][df['target']==1]))\n",
    "plt.imshow(word_cloud_1, interpolation='bilinear')\n",
    "plt.title('Disaster Wordcloud (1)')\n",
    "plt.axis('off')\n",
    "plt.show()"
   ]
  },
  {
   "cell_type": "markdown",
   "id": "853d44cd",
   "metadata": {
    "papermill": {
     "duration": 0.084539,
     "end_time": "2021-10-19T21:56:02.464196",
     "exception": false,
     "start_time": "2021-10-19T21:56:02.379657",
     "status": "completed"
    },
    "tags": []
   },
   "source": [
    "### 3.4. Remove the Word *new* from Text\n",
    "\n",
    "A comparison between disaster and non-disaster wordclouds shows how often different words appear in the tweets. We can see that the word `new` appears quite frequently in both classes, which may add noise to the training process. This term will be dropped altogether so the model can focus on more meaningful words."
   ]
  },
  {
   "cell_type": "code",
   "execution_count": 28,
   "id": "62d7e7bb",
   "metadata": {
    "execution": {
     "iopub.execute_input": "2021-10-19T21:56:02.656255Z",
     "iopub.status.busy": "2021-10-19T21:56:02.655572Z",
     "iopub.status.idle": "2021-10-19T21:56:02.658830Z",
     "shell.execute_reply": "2021-10-19T21:56:02.659263Z",
     "shell.execute_reply.started": "2021-10-18T02:35:09.30826Z"
    },
    "papermill": {
     "duration": 0.111378,
     "end_time": "2021-10-19T21:56:02.659397",
     "exception": false,
     "start_time": "2021-10-19T21:56:02.548019",
     "status": "completed"
    },
    "tags": []
   },
   "outputs": [
    {
     "name": "stdout",
     "output_type": "stream",
     "text": [
      "Training Counts of 'new':  231\n",
      "Test Counts of 'new':  106\n"
     ]
    }
   ],
   "source": [
    "pattern_new = re.compile(r'\\bnew\\b')\n",
    "\n",
    "print('Training Counts of \\'new\\': ', len(re.findall(pattern_new, ' '.join(df['clean_text']))))\n",
    "print('Test Counts of \\'new\\': ', len(re.findall(pattern_new, ' '.join(df_test['clean_text']))))"
   ]
  },
  {
   "cell_type": "code",
   "execution_count": 29,
   "id": "89ecc4da",
   "metadata": {
    "execution": {
     "iopub.execute_input": "2021-10-19T21:56:02.871565Z",
     "iopub.status.busy": "2021-10-19T21:56:02.855481Z",
     "iopub.status.idle": "2021-10-19T21:56:02.883598Z",
     "shell.execute_reply": "2021-10-19T21:56:02.883146Z",
     "shell.execute_reply.started": "2021-10-18T02:35:09.336392Z"
    },
    "papermill": {
     "duration": 0.140562,
     "end_time": "2021-10-19T21:56:02.883720",
     "exception": false,
     "start_time": "2021-10-19T21:56:02.743158",
     "status": "completed"
    },
    "tags": []
   },
   "outputs": [],
   "source": [
    "# Clean the word 'new' from the training and test data\n",
    "df['clean_text'] = df['clean_text'].apply(lambda x: re.sub(pattern_new, '', x) if pd.isna(x) != True else x)\n",
    "df_test['clean_text'] = df_test['clean_text'].apply(lambda x: re.sub(pattern_new, '', x) if pd.isna(x) != True else x)"
   ]
  },
  {
   "cell_type": "code",
   "execution_count": 30,
   "id": "ee11223e",
   "metadata": {
    "execution": {
     "iopub.execute_input": "2021-10-19T21:56:03.078662Z",
     "iopub.status.busy": "2021-10-19T21:56:03.077860Z",
     "iopub.status.idle": "2021-10-19T21:56:03.089434Z",
     "shell.execute_reply": "2021-10-19T21:56:03.088856Z",
     "shell.execute_reply.started": "2021-10-18T02:35:09.391062Z"
    },
    "papermill": {
     "duration": 0.119431,
     "end_time": "2021-10-19T21:56:03.089547",
     "exception": false,
     "start_time": "2021-10-19T21:56:02.970116",
     "status": "completed"
    },
    "tags": []
   },
   "outputs": [
    {
     "name": "stdout",
     "output_type": "stream",
     "text": [
      "Training Counts of 'new':  0\n",
      "Test Counts of 'new':  0\n"
     ]
    }
   ],
   "source": [
    "print('Training Counts of \\'new\\': ', len(re.findall(pattern_new, ' '.join(df['clean_text']))))\n",
    "print('Test Counts of \\'new\\': ', len(re.findall(pattern_new, ' '.join(df_test['clean_text']))))"
   ]
  },
  {
   "cell_type": "markdown",
   "id": "9c459824",
   "metadata": {
    "papermill": {
     "duration": 0.087685,
     "end_time": "2021-10-19T21:56:03.266616",
     "exception": false,
     "start_time": "2021-10-19T21:56:03.178931",
     "status": "completed"
    },
    "tags": []
   },
   "source": [
    "### 3.5. Fill Missing Keywords\n",
    "\n",
    "There are fifty-six missing keywords in the training data set and twenty-six in the test set. We will use spaCy's part of speech tagging feature to fill the missing words. The process is as follows:\n",
    "1. Create a list of potential keywords by tagging nouns, pronouns, and adjectives\n",
    "2. Use a sentence encoder to embed the list of potential keywords and the comparison text\n",
    "3. Calculate vector distances using the cosine similarity function\n",
    "4. Sort the vectors and select the top keyword for each tweet\n",
    "\n",
    "The sentence encoder used here is loaded from TensorFlow Hub. It is a pre-trained universal sentence encoder published by Google for use in natural language tasks."
   ]
  },
  {
   "cell_type": "code",
   "execution_count": 31,
   "id": "0b522de7",
   "metadata": {
    "execution": {
     "iopub.execute_input": "2021-10-19T21:56:03.443236Z",
     "iopub.status.busy": "2021-10-19T21:56:03.442682Z",
     "iopub.status.idle": "2021-10-19T21:56:22.848330Z",
     "shell.execute_reply": "2021-10-19T21:56:22.847445Z",
     "shell.execute_reply.started": "2021-10-18T02:35:09.417529Z"
    },
    "papermill": {
     "duration": 19.494874,
     "end_time": "2021-10-19T21:56:22.848479",
     "exception": false,
     "start_time": "2021-10-19T21:56:03.353605",
     "status": "completed"
    },
    "tags": []
   },
   "outputs": [],
   "source": [
    "# Load the sentence encoder\n",
    "sentence_enc = hub.load('https://tfhub.dev/google/universal-sentence-encoder/4')"
   ]
  },
  {
   "cell_type": "markdown",
   "id": "26ad0dce",
   "metadata": {
    "papermill": {
     "duration": 0.083864,
     "end_time": "2021-10-19T21:56:23.017167",
     "exception": false,
     "start_time": "2021-10-19T21:56:22.933303",
     "status": "completed"
    },
    "tags": []
   },
   "source": [
    "### 3.6. Keyword Extract and Fill Functions"
   ]
  },
  {
   "cell_type": "code",
   "execution_count": 32,
   "id": "f36c6e62",
   "metadata": {
    "execution": {
     "iopub.execute_input": "2021-10-19T21:56:23.199363Z",
     "iopub.status.busy": "2021-10-19T21:56:23.197761Z",
     "iopub.status.idle": "2021-10-19T21:56:23.200085Z",
     "shell.execute_reply": "2021-10-19T21:56:23.200490Z",
     "shell.execute_reply.started": "2021-10-18T02:35:28.190148Z"
    },
    "papermill": {
     "duration": 0.098557,
     "end_time": "2021-10-19T21:56:23.200646",
     "exception": false,
     "start_time": "2021-10-19T21:56:23.102089",
     "status": "completed"
    },
    "tags": []
   },
   "outputs": [],
   "source": [
    "def extract_keywords(text, nlp=nlp):\n",
    "    potential_keywords = []\n",
    "    TOP_KEYWORD = -1\n",
    "    # Create a list for keyword parts of speech\n",
    "    pos_tag = ['ADJ', 'NOUN', 'PROPN']\n",
    "    doc = nlp(text)\n",
    "    \n",
    "    for i in doc:\n",
    "        if i.pos_ in pos_tag:\n",
    "            potential_keywords.append(i.text)\n",
    "\n",
    "    document_embed = sentence_enc([text])\n",
    "    potential_embed = sentence_enc(potential_keywords)    \n",
    "    \n",
    "    vector_distances = cosine_similarity(document_embed, potential_embed)\n",
    "    keyword = [potential_keywords[i] for i in vector_distances.argsort()[0][TOP_KEYWORD:]]\n",
    "\n",
    "    return keyword\n",
    "\n",
    "def keyword_filler(keyword, text):\n",
    "    if pd.isnull(keyword):\n",
    "        try:\n",
    "            keyword = extract_keywords(text)[0]\n",
    "        except:\n",
    "            keyword = '' \n",
    "        \n",
    "    return keyword"
   ]
  },
  {
   "cell_type": "code",
   "execution_count": 33,
   "id": "425937a4",
   "metadata": {
    "execution": {
     "iopub.execute_input": "2021-10-19T21:56:23.389840Z",
     "iopub.status.busy": "2021-10-19T21:56:23.388907Z",
     "iopub.status.idle": "2021-10-19T21:56:25.859960Z",
     "shell.execute_reply": "2021-10-19T21:56:25.860541Z",
     "shell.execute_reply.started": "2021-10-18T02:35:28.200868Z"
    },
    "papermill": {
     "duration": 2.568098,
     "end_time": "2021-10-19T21:56:25.860746",
     "exception": false,
     "start_time": "2021-10-19T21:56:23.292648",
     "status": "completed"
    },
    "tags": []
   },
   "outputs": [
    {
     "name": "stdout",
     "output_type": "stream",
     "text": [
      "Null Training Keywords =>  False\n",
      "Null Test Keywords =>  False\n"
     ]
    }
   ],
   "source": [
    "df['keyword_fill'] = pd.DataFrame(list(map(keyword_filler, df['keyword'], df['clean_text']))).astype(str)\n",
    "df_test['keyword_fill'] = pd.DataFrame(list(map(keyword_filler, df_test['keyword'], df_test['clean_text']))).astype(str)\n",
    "\n",
    "print('Null Training Keywords => ', df['keyword_fill'].isnull().any())\n",
    "print('Null Test Keywords => ', df_test['keyword_fill'].isnull().any())"
   ]
  },
  {
   "cell_type": "markdown",
   "id": "fd951c65",
   "metadata": {
    "papermill": {
     "duration": 0.085108,
     "end_time": "2021-10-19T21:56:26.032069",
     "exception": false,
     "start_time": "2021-10-19T21:56:25.946961",
     "status": "completed"
    },
    "tags": []
   },
   "source": [
    "Now that the missing keywords are filled we should standardize them to ensure our keywords are clean and ready for training."
   ]
  },
  {
   "cell_type": "code",
   "execution_count": 34,
   "id": "5f36c956",
   "metadata": {
    "execution": {
     "iopub.execute_input": "2021-10-19T21:56:26.227116Z",
     "iopub.status.busy": "2021-10-19T21:56:26.220254Z",
     "iopub.status.idle": "2021-10-19T21:57:24.198329Z",
     "shell.execute_reply": "2021-10-19T21:57:24.197328Z",
     "shell.execute_reply.started": "2021-10-18T02:35:33.63311Z"
    },
    "papermill": {
     "duration": 58.081749,
     "end_time": "2021-10-19T21:57:24.198481",
     "exception": false,
     "start_time": "2021-10-19T21:56:26.116732",
     "status": "completed"
    },
    "tags": []
   },
   "outputs": [],
   "source": [
    "df['keyword_fill'] = pd.DataFrame(standardize_text(df['keyword_fill']))\n",
    "df_test['keyword_fill'] = pd.DataFrame(standardize_text(df_test['keyword_fill']))"
   ]
  },
  {
   "cell_type": "code",
   "execution_count": 35,
   "id": "6276a482",
   "metadata": {
    "execution": {
     "iopub.execute_input": "2021-10-19T21:57:24.387752Z",
     "iopub.status.busy": "2021-10-19T21:57:24.386970Z",
     "iopub.status.idle": "2021-10-19T21:57:24.390080Z",
     "shell.execute_reply": "2021-10-19T21:57:24.390515Z",
     "shell.execute_reply.started": "2021-10-18T02:36:29.332175Z"
    },
    "papermill": {
     "duration": 0.100852,
     "end_time": "2021-10-19T21:57:24.390676",
     "exception": false,
     "start_time": "2021-10-19T21:57:24.289824",
     "status": "completed"
    },
    "tags": []
   },
   "outputs": [
    {
     "data": {
      "text/html": [
       "<div>\n",
       "<style scoped>\n",
       "    .dataframe tbody tr th:only-of-type {\n",
       "        vertical-align: middle;\n",
       "    }\n",
       "\n",
       "    .dataframe tbody tr th {\n",
       "        vertical-align: top;\n",
       "    }\n",
       "\n",
       "    .dataframe thead th {\n",
       "        text-align: right;\n",
       "    }\n",
       "</style>\n",
       "<table border=\"1\" class=\"dataframe\">\n",
       "  <thead>\n",
       "    <tr style=\"text-align: right;\">\n",
       "      <th></th>\n",
       "      <th>id</th>\n",
       "      <th>keyword</th>\n",
       "      <th>location</th>\n",
       "      <th>text</th>\n",
       "      <th>target</th>\n",
       "      <th>clean_text</th>\n",
       "      <th>tweet_len</th>\n",
       "      <th>keyword_fill</th>\n",
       "    </tr>\n",
       "  </thead>\n",
       "  <tbody>\n",
       "    <tr>\n",
       "      <th>0</th>\n",
       "      <td>1</td>\n",
       "      <td>NaN</td>\n",
       "      <td>NaN</td>\n",
       "      <td>Our Deeds are the Reason of this #earthquake May ALLAH Forgive us all</td>\n",
       "      <td>1</td>\n",
       "      <td>deed reason earthquake allah forgive</td>\n",
       "      <td>36</td>\n",
       "      <td>earthquake</td>\n",
       "    </tr>\n",
       "    <tr>\n",
       "      <th>1</th>\n",
       "      <td>4</td>\n",
       "      <td>NaN</td>\n",
       "      <td>NaN</td>\n",
       "      <td>Forest fire near La Ronge Sask. Canada</td>\n",
       "      <td>1</td>\n",
       "      <td>forest fire near la ronge sask canada</td>\n",
       "      <td>37</td>\n",
       "      <td>forest</td>\n",
       "    </tr>\n",
       "    <tr>\n",
       "      <th>2</th>\n",
       "      <td>5</td>\n",
       "      <td>NaN</td>\n",
       "      <td>NaN</td>\n",
       "      <td>All residents asked to 'shelter in place' are being notified by officers. No other evacuation or shelter in place orders are expected</td>\n",
       "      <td>1</td>\n",
       "      <td>resident ask shelter place notify officer evacuation shelter place order expect</td>\n",
       "      <td>79</td>\n",
       "      <td>shelter</td>\n",
       "    </tr>\n",
       "    <tr>\n",
       "      <th>3</th>\n",
       "      <td>6</td>\n",
       "      <td>NaN</td>\n",
       "      <td>NaN</td>\n",
       "      <td>13,000 people receive #wildfires evacuation orders in California</td>\n",
       "      <td>1</td>\n",
       "      <td>people receive wildfire evacuation order california</td>\n",
       "      <td>53</td>\n",
       "      <td>wildfire</td>\n",
       "    </tr>\n",
       "    <tr>\n",
       "      <th>4</th>\n",
       "      <td>7</td>\n",
       "      <td>NaN</td>\n",
       "      <td>NaN</td>\n",
       "      <td>Just got sent this photo from Ruby #Alaska as smoke from #wildfires pours into a school</td>\n",
       "      <td>1</td>\n",
       "      <td>get send photo ruby alaska smoke wildfire pour school</td>\n",
       "      <td>53</td>\n",
       "      <td>wildfire</td>\n",
       "    </tr>\n",
       "  </tbody>\n",
       "</table>\n",
       "</div>"
      ],
      "text/plain": [
       "   id keyword location  \\\n",
       "0   1     NaN      NaN   \n",
       "1   4     NaN      NaN   \n",
       "2   5     NaN      NaN   \n",
       "3   6     NaN      NaN   \n",
       "4   7     NaN      NaN   \n",
       "\n",
       "                                                                                                                                    text  \\\n",
       "0                                                                  Our Deeds are the Reason of this #earthquake May ALLAH Forgive us all   \n",
       "1                                                                                                 Forest fire near La Ronge Sask. Canada   \n",
       "2  All residents asked to 'shelter in place' are being notified by officers. No other evacuation or shelter in place orders are expected   \n",
       "3                                                                      13,000 people receive #wildfires evacuation orders in California    \n",
       "4                                               Just got sent this photo from Ruby #Alaska as smoke from #wildfires pours into a school    \n",
       "\n",
       "   target  \\\n",
       "0       1   \n",
       "1       1   \n",
       "2       1   \n",
       "3       1   \n",
       "4       1   \n",
       "\n",
       "                                                                        clean_text  \\\n",
       "0                                             deed reason earthquake allah forgive   \n",
       "1                                            forest fire near la ronge sask canada   \n",
       "2  resident ask shelter place notify officer evacuation shelter place order expect   \n",
       "3                              people receive wildfire evacuation order california   \n",
       "4                            get send photo ruby alaska smoke wildfire pour school   \n",
       "\n",
       "   tweet_len keyword_fill  \n",
       "0         36   earthquake  \n",
       "1         37       forest  \n",
       "2         79      shelter  \n",
       "3         53     wildfire  \n",
       "4         53     wildfire  "
      ]
     },
     "execution_count": 35,
     "metadata": {},
     "output_type": "execute_result"
    }
   ],
   "source": [
    "df.head()"
   ]
  },
  {
   "cell_type": "code",
   "execution_count": 36,
   "id": "66e81e06",
   "metadata": {
    "execution": {
     "iopub.execute_input": "2021-10-19T21:57:24.573299Z",
     "iopub.status.busy": "2021-10-19T21:57:24.572433Z",
     "iopub.status.idle": "2021-10-19T21:57:24.575851Z",
     "shell.execute_reply": "2021-10-19T21:57:24.576221Z",
     "shell.execute_reply.started": "2021-10-18T02:36:29.348337Z"
    },
    "papermill": {
     "duration": 0.099827,
     "end_time": "2021-10-19T21:57:24.576376",
     "exception": false,
     "start_time": "2021-10-19T21:57:24.476549",
     "status": "completed"
    },
    "tags": []
   },
   "outputs": [
    {
     "data": {
      "text/html": [
       "<div>\n",
       "<style scoped>\n",
       "    .dataframe tbody tr th:only-of-type {\n",
       "        vertical-align: middle;\n",
       "    }\n",
       "\n",
       "    .dataframe tbody tr th {\n",
       "        vertical-align: top;\n",
       "    }\n",
       "\n",
       "    .dataframe thead th {\n",
       "        text-align: right;\n",
       "    }\n",
       "</style>\n",
       "<table border=\"1\" class=\"dataframe\">\n",
       "  <thead>\n",
       "    <tr style=\"text-align: right;\">\n",
       "      <th></th>\n",
       "      <th>id</th>\n",
       "      <th>keyword</th>\n",
       "      <th>location</th>\n",
       "      <th>text</th>\n",
       "      <th>clean_text</th>\n",
       "      <th>keyword_fill</th>\n",
       "    </tr>\n",
       "  </thead>\n",
       "  <tbody>\n",
       "    <tr>\n",
       "      <th>0</th>\n",
       "      <td>0</td>\n",
       "      <td>NaN</td>\n",
       "      <td>NaN</td>\n",
       "      <td>Just happened a terrible car crash</td>\n",
       "      <td>happen terrible car crash</td>\n",
       "      <td>crash</td>\n",
       "    </tr>\n",
       "    <tr>\n",
       "      <th>1</th>\n",
       "      <td>2</td>\n",
       "      <td>NaN</td>\n",
       "      <td>NaN</td>\n",
       "      <td>Heard about #earthquake is different cities, stay safe everyone.</td>\n",
       "      <td>hear earthquake different city stay safe</td>\n",
       "      <td>earthquake</td>\n",
       "    </tr>\n",
       "    <tr>\n",
       "      <th>2</th>\n",
       "      <td>3</td>\n",
       "      <td>NaN</td>\n",
       "      <td>NaN</td>\n",
       "      <td>there is a forest fire at spot pond, geese are fleeing across the street, I cannot save them all</td>\n",
       "      <td>forest fire spot pond goose flee street save</td>\n",
       "      <td>goose</td>\n",
       "    </tr>\n",
       "    <tr>\n",
       "      <th>3</th>\n",
       "      <td>9</td>\n",
       "      <td>NaN</td>\n",
       "      <td>NaN</td>\n",
       "      <td>Apocalypse lighting. #Spokane #wildfires</td>\n",
       "      <td>apocalypse lighting spokane wildfire</td>\n",
       "      <td>wildfire</td>\n",
       "    </tr>\n",
       "    <tr>\n",
       "      <th>4</th>\n",
       "      <td>11</td>\n",
       "      <td>NaN</td>\n",
       "      <td>NaN</td>\n",
       "      <td>Typhoon Soudelor kills 28 in China and Taiwan</td>\n",
       "      <td>typhoon soudelor kill   china taiwan</td>\n",
       "      <td>taiwan</td>\n",
       "    </tr>\n",
       "  </tbody>\n",
       "</table>\n",
       "</div>"
      ],
      "text/plain": [
       "   id keyword location  \\\n",
       "0   0     NaN      NaN   \n",
       "1   2     NaN      NaN   \n",
       "2   3     NaN      NaN   \n",
       "3   9     NaN      NaN   \n",
       "4  11     NaN      NaN   \n",
       "\n",
       "                                                                                               text  \\\n",
       "0                                                                Just happened a terrible car crash   \n",
       "1                                  Heard about #earthquake is different cities, stay safe everyone.   \n",
       "2  there is a forest fire at spot pond, geese are fleeing across the street, I cannot save them all   \n",
       "3                                                          Apocalypse lighting. #Spokane #wildfires   \n",
       "4                                                     Typhoon Soudelor kills 28 in China and Taiwan   \n",
       "\n",
       "                                     clean_text keyword_fill  \n",
       "0                     happen terrible car crash        crash  \n",
       "1      hear earthquake different city stay safe   earthquake  \n",
       "2  forest fire spot pond goose flee street save        goose  \n",
       "3          apocalypse lighting spokane wildfire     wildfire  \n",
       "4          typhoon soudelor kill   china taiwan       taiwan  "
      ]
     },
     "execution_count": 36,
     "metadata": {},
     "output_type": "execute_result"
    }
   ],
   "source": [
    "df_test.head()"
   ]
  },
  {
   "cell_type": "markdown",
   "id": "5e5a6345",
   "metadata": {
    "papermill": {
     "duration": 0.086765,
     "end_time": "2021-10-19T21:57:24.748385",
     "exception": false,
     "start_time": "2021-10-19T21:57:24.661620",
     "status": "completed"
    },
    "tags": []
   },
   "source": [
    "### 3.7. Plot the Keyword Frequencies \n",
    "To learn more about this data column let's visualize the top ten keywords from each target class. "
   ]
  },
  {
   "cell_type": "code",
   "execution_count": 37,
   "id": "cf31c0a6",
   "metadata": {
    "execution": {
     "iopub.execute_input": "2021-10-19T21:57:24.929869Z",
     "iopub.status.busy": "2021-10-19T21:57:24.928868Z",
     "iopub.status.idle": "2021-10-19T21:57:24.934568Z",
     "shell.execute_reply": "2021-10-19T21:57:24.934155Z",
     "shell.execute_reply.started": "2021-10-18T02:36:29.365383Z"
    },
    "papermill": {
     "duration": 0.100154,
     "end_time": "2021-10-19T21:57:24.934707",
     "exception": false,
     "start_time": "2021-10-19T21:57:24.834553",
     "status": "completed"
    },
    "tags": []
   },
   "outputs": [],
   "source": [
    "keyword_count_0 = pd.DataFrame(df['keyword_fill'][df['target']==0].value_counts().reset_index())\n",
    "keyword_count_1 = pd.DataFrame(df['keyword_fill'][df['target']==1].value_counts().reset_index())"
   ]
  },
  {
   "cell_type": "code",
   "execution_count": 38,
   "id": "4f669f6b",
   "metadata": {
    "execution": {
     "iopub.execute_input": "2021-10-19T21:57:25.115644Z",
     "iopub.status.busy": "2021-10-19T21:57:25.114769Z",
     "iopub.status.idle": "2021-10-19T21:57:25.406151Z",
     "shell.execute_reply": "2021-10-19T21:57:25.406550Z",
     "shell.execute_reply.started": "2021-10-18T02:36:29.379242Z"
    },
    "papermill": {
     "duration": 0.384506,
     "end_time": "2021-10-19T21:57:25.406734",
     "exception": false,
     "start_time": "2021-10-19T21:57:25.022228",
     "status": "completed"
    },
    "tags": []
   },
   "outputs": [
    {
     "data": {
      "image/png": "[encoded data removed]",
      "text/plain": [
       "<Figure size 720x432 with 1 Axes>"
      ]
     },
     "metadata": {},
     "output_type": "display_data"
    }
   ],
   "source": [
    "sns.barplot(data=keyword_count_0[:10], x='keyword_fill', y='index')\n",
    "plt.title('Non-Disaster Keyword Frequency (0)')\n",
    "plt.xlabel('Frequency')\n",
    "plt.ylabel('Top 10 Keywords')\n",
    "plt.show()"
   ]
  },
  {
   "cell_type": "code",
   "execution_count": 39,
   "id": "3c2e3d3f",
   "metadata": {
    "execution": {
     "iopub.execute_input": "2021-10-19T21:57:25.737337Z",
     "iopub.status.busy": "2021-10-19T21:57:25.736522Z",
     "iopub.status.idle": "2021-10-19T21:57:25.987612Z",
     "shell.execute_reply": "2021-10-19T21:57:25.986516Z",
     "shell.execute_reply.started": "2021-10-18T02:36:29.611945Z"
    },
    "papermill": {
     "duration": 0.407528,
     "end_time": "2021-10-19T21:57:25.987744",
     "exception": false,
     "start_time": "2021-10-19T21:57:25.580216",
     "status": "completed"
    },
    "tags": []
   },
   "outputs": [
    {
     "data": {
      "image/png": "[encoded data removed]",
      "text/plain": [
       "<Figure size 720x432 with 1 Axes>"
      ]
     },
     "metadata": {},
     "output_type": "display_data"
    }
   ],
   "source": [
    "sns.barplot(data=keyword_count_1[:10], x='keyword_fill', y='index')\n",
    "plt.title('Disaster Keyword Frequency (1)')\n",
    "plt.xlabel('Frequency')\n",
    "plt.ylabel('Top 10 Keywords')\n",
    "plt.show()"
   ]
  },
  {
   "cell_type": "markdown",
   "id": "2635ddf9",
   "metadata": {
    "papermill": {
     "duration": 0.088352,
     "end_time": "2021-10-19T21:57:26.165636",
     "exception": false,
     "start_time": "2021-10-19T21:57:26.077284",
     "status": "completed"
    },
    "tags": []
   },
   "source": [
    "A look at the top keywords for each class demonstrates the importance of observing the tweet itself to find context. At a glance, these keywords could belong to either class. That being the case, keywords can still emphasize important parts of speech that may be overlooked by the model. "
   ]
  },
  {
   "cell_type": "markdown",
   "id": "b5350f03",
   "metadata": {
    "papermill": {
     "duration": 0.097904,
     "end_time": "2021-10-19T21:57:26.354719",
     "exception": false,
     "start_time": "2021-10-19T21:57:26.256815",
     "status": "completed"
    },
    "tags": []
   },
   "source": [
    "# 4. Prepare Data for Training"
   ]
  },
  {
   "cell_type": "markdown",
   "id": "26c1f063",
   "metadata": {
    "papermill": {
     "duration": 0.088129,
     "end_time": "2021-10-19T21:57:26.530308",
     "exception": false,
     "start_time": "2021-10-19T21:57:26.442179",
     "status": "completed"
    },
    "tags": []
   },
   "source": [
    "Our data needs to be prepared for training our model which will receive two inputs, one for text and the other for keywords. Our approach is to select the `clean_text` and `keyword_fill` columns before splitting the data into training and validation sets."
   ]
  },
  {
   "cell_type": "markdown",
   "id": "cdbb3e3e",
   "metadata": {
    "papermill": {
     "duration": 0.086731,
     "end_time": "2021-10-19T21:57:26.704003",
     "exception": false,
     "start_time": "2021-10-19T21:57:26.617272",
     "status": "completed"
    },
    "tags": []
   },
   "source": [
    "### 4.1. Select the Clean Text and Filled Keyword Columns"
   ]
  },
  {
   "cell_type": "code",
   "execution_count": 40,
   "id": "c6e94e92",
   "metadata": {
    "execution": {
     "iopub.execute_input": "2021-10-19T21:57:26.883495Z",
     "iopub.status.busy": "2021-10-19T21:57:26.882646Z",
     "iopub.status.idle": "2021-10-19T21:57:26.888806Z",
     "shell.execute_reply": "2021-10-19T21:57:26.888348Z",
     "shell.execute_reply.started": "2021-10-18T02:36:29.83321Z"
    },
    "papermill": {
     "duration": 0.098064,
     "end_time": "2021-10-19T21:57:26.888921",
     "exception": false,
     "start_time": "2021-10-19T21:57:26.790857",
     "status": "completed"
    },
    "tags": []
   },
   "outputs": [],
   "source": [
    "train_features = df[['clean_text','keyword_fill']]\n",
    "test_features = df_test[['clean_text', 'keyword_fill']]"
   ]
  },
  {
   "cell_type": "code",
   "execution_count": 41,
   "id": "29fc0566",
   "metadata": {
    "execution": {
     "iopub.execute_input": "2021-10-19T21:57:27.071768Z",
     "iopub.status.busy": "2021-10-19T21:57:27.071226Z",
     "iopub.status.idle": "2021-10-19T21:57:27.077099Z",
     "shell.execute_reply": "2021-10-19T21:57:27.076630Z",
     "shell.execute_reply.started": "2021-10-18T02:36:29.844292Z"
    },
    "papermill": {
     "duration": 0.101363,
     "end_time": "2021-10-19T21:57:27.077209",
     "exception": false,
     "start_time": "2021-10-19T21:57:26.975846",
     "status": "completed"
    },
    "tags": []
   },
   "outputs": [
    {
     "data": {
      "text/html": [
       "<div>\n",
       "<style scoped>\n",
       "    .dataframe tbody tr th:only-of-type {\n",
       "        vertical-align: middle;\n",
       "    }\n",
       "\n",
       "    .dataframe tbody tr th {\n",
       "        vertical-align: top;\n",
       "    }\n",
       "\n",
       "    .dataframe thead th {\n",
       "        text-align: right;\n",
       "    }\n",
       "</style>\n",
       "<table border=\"1\" class=\"dataframe\">\n",
       "  <thead>\n",
       "    <tr style=\"text-align: right;\">\n",
       "      <th></th>\n",
       "      <th>clean_text</th>\n",
       "      <th>keyword_fill</th>\n",
       "    </tr>\n",
       "  </thead>\n",
       "  <tbody>\n",
       "    <tr>\n",
       "      <th>0</th>\n",
       "      <td>deed reason earthquake allah forgive</td>\n",
       "      <td>earthquake</td>\n",
       "    </tr>\n",
       "    <tr>\n",
       "      <th>1</th>\n",
       "      <td>forest fire near la ronge sask canada</td>\n",
       "      <td>forest</td>\n",
       "    </tr>\n",
       "    <tr>\n",
       "      <th>2</th>\n",
       "      <td>resident ask shelter place notify officer evacuation shelter place order expect</td>\n",
       "      <td>shelter</td>\n",
       "    </tr>\n",
       "    <tr>\n",
       "      <th>3</th>\n",
       "      <td>people receive wildfire evacuation order california</td>\n",
       "      <td>wildfire</td>\n",
       "    </tr>\n",
       "    <tr>\n",
       "      <th>4</th>\n",
       "      <td>get send photo ruby alaska smoke wildfire pour school</td>\n",
       "      <td>wildfire</td>\n",
       "    </tr>\n",
       "  </tbody>\n",
       "</table>\n",
       "</div>"
      ],
      "text/plain": [
       "                                                                        clean_text  \\\n",
       "0                                             deed reason earthquake allah forgive   \n",
       "1                                            forest fire near la ronge sask canada   \n",
       "2  resident ask shelter place notify officer evacuation shelter place order expect   \n",
       "3                              people receive wildfire evacuation order california   \n",
       "4                            get send photo ruby alaska smoke wildfire pour school   \n",
       "\n",
       "  keyword_fill  \n",
       "0   earthquake  \n",
       "1       forest  \n",
       "2      shelter  \n",
       "3     wildfire  \n",
       "4     wildfire  "
      ]
     },
     "execution_count": 41,
     "metadata": {},
     "output_type": "execute_result"
    }
   ],
   "source": [
    "train_features[:5]"
   ]
  },
  {
   "cell_type": "code",
   "execution_count": 42,
   "id": "9cc06494",
   "metadata": {
    "execution": {
     "iopub.execute_input": "2021-10-19T21:57:27.260814Z",
     "iopub.status.busy": "2021-10-19T21:57:27.260254Z",
     "iopub.status.idle": "2021-10-19T21:57:27.265822Z",
     "shell.execute_reply": "2021-10-19T21:57:27.265389Z",
     "shell.execute_reply.started": "2021-10-18T02:36:29.855953Z"
    },
    "papermill": {
     "duration": 0.100707,
     "end_time": "2021-10-19T21:57:27.265938",
     "exception": false,
     "start_time": "2021-10-19T21:57:27.165231",
     "status": "completed"
    },
    "tags": []
   },
   "outputs": [
    {
     "data": {
      "text/html": [
       "<div>\n",
       "<style scoped>\n",
       "    .dataframe tbody tr th:only-of-type {\n",
       "        vertical-align: middle;\n",
       "    }\n",
       "\n",
       "    .dataframe tbody tr th {\n",
       "        vertical-align: top;\n",
       "    }\n",
       "\n",
       "    .dataframe thead th {\n",
       "        text-align: right;\n",
       "    }\n",
       "</style>\n",
       "<table border=\"1\" class=\"dataframe\">\n",
       "  <thead>\n",
       "    <tr style=\"text-align: right;\">\n",
       "      <th></th>\n",
       "      <th>clean_text</th>\n",
       "      <th>keyword_fill</th>\n",
       "    </tr>\n",
       "  </thead>\n",
       "  <tbody>\n",
       "    <tr>\n",
       "      <th>0</th>\n",
       "      <td>happen terrible car crash</td>\n",
       "      <td>crash</td>\n",
       "    </tr>\n",
       "    <tr>\n",
       "      <th>1</th>\n",
       "      <td>hear earthquake different city stay safe</td>\n",
       "      <td>earthquake</td>\n",
       "    </tr>\n",
       "    <tr>\n",
       "      <th>2</th>\n",
       "      <td>forest fire spot pond goose flee street save</td>\n",
       "      <td>goose</td>\n",
       "    </tr>\n",
       "    <tr>\n",
       "      <th>3</th>\n",
       "      <td>apocalypse lighting spokane wildfire</td>\n",
       "      <td>wildfire</td>\n",
       "    </tr>\n",
       "    <tr>\n",
       "      <th>4</th>\n",
       "      <td>typhoon soudelor kill   china taiwan</td>\n",
       "      <td>taiwan</td>\n",
       "    </tr>\n",
       "  </tbody>\n",
       "</table>\n",
       "</div>"
      ],
      "text/plain": [
       "                                     clean_text keyword_fill\n",
       "0                     happen terrible car crash        crash\n",
       "1      hear earthquake different city stay safe   earthquake\n",
       "2  forest fire spot pond goose flee street save        goose\n",
       "3          apocalypse lighting spokane wildfire     wildfire\n",
       "4          typhoon soudelor kill   china taiwan       taiwan"
      ]
     },
     "execution_count": 42,
     "metadata": {},
     "output_type": "execute_result"
    }
   ],
   "source": [
    "test_features[:5]"
   ]
  },
  {
   "cell_type": "code",
   "execution_count": 43,
   "id": "6bfd9bd4",
   "metadata": {
    "execution": {
     "iopub.execute_input": "2021-10-19T21:57:27.447655Z",
     "iopub.status.busy": "2021-10-19T21:57:27.446366Z",
     "iopub.status.idle": "2021-10-19T21:57:27.450290Z",
     "shell.execute_reply": "2021-10-19T21:57:27.449684Z",
     "shell.execute_reply.started": "2021-10-18T02:36:29.872274Z"
    },
    "papermill": {
     "duration": 0.096715,
     "end_time": "2021-10-19T21:57:27.450441",
     "exception": false,
     "start_time": "2021-10-19T21:57:27.353726",
     "status": "completed"
    },
    "tags": []
   },
   "outputs": [
    {
     "name": "stdout",
     "output_type": "stream",
     "text": [
      "(7506, 2)\n",
      "(3263, 2)\n"
     ]
    }
   ],
   "source": [
    "print(train_features.shape)\n",
    "print(test_features.shape)"
   ]
  },
  {
   "cell_type": "markdown",
   "id": "58e73243",
   "metadata": {
    "papermill": {
     "duration": 0.087942,
     "end_time": "2021-10-19T21:57:27.628812",
     "exception": false,
     "start_time": "2021-10-19T21:57:27.540870",
     "status": "completed"
    },
    "tags": []
   },
   "source": [
    "### 4.2. Create Data Splits\n",
    "A training split is produced leaving 20% of the data for validation purposes. "
   ]
  },
  {
   "cell_type": "code",
   "execution_count": 44,
   "id": "486b29a5",
   "metadata": {
    "execution": {
     "iopub.execute_input": "2021-10-19T21:57:27.811046Z",
     "iopub.status.busy": "2021-10-19T21:57:27.810319Z",
     "iopub.status.idle": "2021-10-19T21:57:27.817569Z",
     "shell.execute_reply": "2021-10-19T21:57:27.817173Z",
     "shell.execute_reply.started": "2021-10-18T02:36:29.881041Z"
    },
    "papermill": {
     "duration": 0.10073,
     "end_time": "2021-10-19T21:57:27.817707",
     "exception": false,
     "start_time": "2021-10-19T21:57:27.716977",
     "status": "completed"
    },
    "tags": []
   },
   "outputs": [
    {
     "name": "stdout",
     "output_type": "stream",
     "text": [
      "(6004, 2)\n",
      "(6004,)\n",
      "(1502, 2)\n",
      "(1502,)\n"
     ]
    }
   ],
   "source": [
    "train_x, val_x, train_y, val_y = train_test_split(\n",
    "    train_features,\n",
    "    target,\n",
    "    test_size=0.2,\n",
    "    random_state=RANDOM_SEED,\n",
    ")\n",
    "\n",
    "print(train_x.shape)\n",
    "print(train_y.shape)\n",
    "print(val_x.shape)\n",
    "print(val_y.shape)"
   ]
  },
  {
   "cell_type": "markdown",
   "id": "62eb9549",
   "metadata": {
    "papermill": {
     "duration": 0.08927,
     "end_time": "2021-10-19T21:57:27.996385",
     "exception": false,
     "start_time": "2021-10-19T21:57:27.907115",
     "status": "completed"
    },
    "tags": []
   },
   "source": [
    "### 4.3. Create TensorFlow Datasets\n",
    "\n",
    "We'll form these data splits into TensorFlow Datasets and configure them before building our model. Include the features as dictionaries so they can be selectively processed by our model."
   ]
  },
  {
   "cell_type": "code",
   "execution_count": 45,
   "id": "79d242bf",
   "metadata": {
    "execution": {
     "iopub.execute_input": "2021-10-19T21:57:28.185567Z",
     "iopub.status.busy": "2021-10-19T21:57:28.184725Z",
     "iopub.status.idle": "2021-10-19T21:57:28.193792Z",
     "shell.execute_reply": "2021-10-19T21:57:28.194166Z",
     "shell.execute_reply.started": "2021-10-18T02:36:29.899092Z"
    },
    "papermill": {
     "duration": 0.109138,
     "end_time": "2021-10-19T21:57:28.194311",
     "exception": false,
     "start_time": "2021-10-19T21:57:28.085173",
     "status": "completed"
    },
    "tags": []
   },
   "outputs": [],
   "source": [
    "# Create TensorFlow Datasets \n",
    "train_ds = tf.data.Dataset.from_tensor_slices((dict(train_x), train_y))\n",
    "val_ds = tf.data.Dataset.from_tensor_slices((dict(val_x), val_y))\n",
    "test_ds = tf.data.Dataset.from_tensor_slices(dict(test_features))"
   ]
  },
  {
   "cell_type": "code",
   "execution_count": 46,
   "id": "7ee50d6b",
   "metadata": {
    "execution": {
     "iopub.execute_input": "2021-10-19T21:57:28.378401Z",
     "iopub.status.busy": "2021-10-19T21:57:28.377865Z",
     "iopub.status.idle": "2021-10-19T21:57:28.381595Z",
     "shell.execute_reply": "2021-10-19T21:57:28.381184Z",
     "shell.execute_reply.started": "2021-10-18T02:36:29.921154Z"
    },
    "papermill": {
     "duration": 0.099065,
     "end_time": "2021-10-19T21:57:28.381710",
     "exception": false,
     "start_time": "2021-10-19T21:57:28.282645",
     "status": "completed"
    },
    "tags": []
   },
   "outputs": [],
   "source": [
    "AUTOTUNE = tf.data.experimental.AUTOTUNE\n",
    "\n",
    "BUFFER_SIZE = 1000\n",
    "BATCH_SIZE = 32\n",
    "\n",
    "def configure_dataset(dataset, shuffle=False, test=False):\n",
    "    # Configure the tf dataset for cache, shuffle, batch, and prefetch\n",
    "    if shuffle:\n",
    "        dataset = dataset.cache()\\\n",
    "                        .shuffle(BUFFER_SIZE, seed=RANDOM_SEED, reshuffle_each_iteration=True)\\\n",
    "                        .batch(BATCH_SIZE, drop_remainder=True).prefetch(AUTOTUNE)\n",
    "    elif test:\n",
    "        dataset = dataset.cache()\\\n",
    "                        .batch(BATCH_SIZE, drop_remainder=False).prefetch(AUTOTUNE)\n",
    "    else:\n",
    "        dataset = dataset.cache()\\\n",
    "                        .batch(BATCH_SIZE, drop_remainder=True).prefetch(AUTOTUNE)\n",
    "    return dataset"
   ]
  },
  {
   "cell_type": "code",
   "execution_count": 47,
   "id": "29f83a1a",
   "metadata": {
    "execution": {
     "iopub.execute_input": "2021-10-19T21:57:28.564974Z",
     "iopub.status.busy": "2021-10-19T21:57:28.564031Z",
     "iopub.status.idle": "2021-10-19T21:57:28.571428Z",
     "shell.execute_reply": "2021-10-19T21:57:28.571014Z",
     "shell.execute_reply.started": "2021-10-18T02:36:29.930545Z"
    },
    "papermill": {
     "duration": 0.101967,
     "end_time": "2021-10-19T21:57:28.571542",
     "exception": false,
     "start_time": "2021-10-19T21:57:28.469575",
     "status": "completed"
    },
    "tags": []
   },
   "outputs": [],
   "source": [
    "# Configure the datasets\n",
    "train_ds = configure_dataset(train_ds, shuffle=True)\n",
    "val_ds = configure_dataset(val_ds)\n",
    "test_ds = configure_dataset(test_ds, test=True)"
   ]
  },
  {
   "cell_type": "code",
   "execution_count": 48,
   "id": "efe12fd1",
   "metadata": {
    "execution": {
     "iopub.execute_input": "2021-10-19T21:57:28.753506Z",
     "iopub.status.busy": "2021-10-19T21:57:28.752720Z",
     "iopub.status.idle": "2021-10-19T21:57:28.756484Z",
     "shell.execute_reply": "2021-10-19T21:57:28.755958Z",
     "shell.execute_reply.started": "2021-10-18T02:36:29.944812Z"
    },
    "papermill": {
     "duration": 0.096789,
     "end_time": "2021-10-19T21:57:28.756615",
     "exception": false,
     "start_time": "2021-10-19T21:57:28.659826",
     "status": "completed"
    },
    "tags": []
   },
   "outputs": [
    {
     "name": "stdout",
     "output_type": "stream",
     "text": [
      "({'clean_text': TensorSpec(shape=(32,), dtype=tf.string, name=None), 'keyword_fill': TensorSpec(shape=(32,), dtype=tf.string, name=None)}, TensorSpec(shape=(32,), dtype=tf.int64, name=None))\n",
      "({'clean_text': TensorSpec(shape=(32,), dtype=tf.string, name=None), 'keyword_fill': TensorSpec(shape=(32,), dtype=tf.string, name=None)}, TensorSpec(shape=(32,), dtype=tf.int64, name=None))\n",
      "{'clean_text': TensorSpec(shape=(None,), dtype=tf.string, name=None), 'keyword_fill': TensorSpec(shape=(None,), dtype=tf.string, name=None)}\n"
     ]
    }
   ],
   "source": [
    "# Print the dataset specifications\n",
    "print(train_ds.element_spec)\n",
    "print(val_ds.element_spec)\n",
    "print(test_ds.element_spec)"
   ]
  },
  {
   "cell_type": "markdown",
   "id": "e53f7034",
   "metadata": {
    "papermill": {
     "duration": 0.08814,
     "end_time": "2021-10-19T21:57:28.932777",
     "exception": false,
     "start_time": "2021-10-19T21:57:28.844637",
     "status": "completed"
    },
    "tags": []
   },
   "source": [
    "# 5. Building the Classifier Model\n",
    "\n",
    "For this task we will be using a pre-trained BERT model loaded from TensorFlow Hub. This model has 12 hidden layers, a hidden unit size of 768, and 12 attention heads. It has a companion preprocessor that is loaded from the same repository. This preprocessor takes text segments and converts them to numeric token ids accepted by the BERT encoder. These token ids are:\n",
    "* input_word_ids\n",
    "    - ids of the input sequences\n",
    "* input_mask\n",
    "    - represents all pre-padded input tokens as 1, and padded tokens as 0\n",
    "* input_type_ids\n",
    "    - contains indices for each input segment with padding locations indexed at 0"
   ]
  },
  {
   "cell_type": "markdown",
   "id": "cdc9b1b2",
   "metadata": {
    "papermill": {
     "duration": 0.088662,
     "end_time": "2021-10-19T21:57:29.110374",
     "exception": false,
     "start_time": "2021-10-19T21:57:29.021712",
     "status": "completed"
    },
    "tags": []
   },
   "source": [
    "### 5.1. Load the Pre-trained BERT Encoder "
   ]
  },
  {
   "cell_type": "code",
   "execution_count": 49,
   "id": "52ea2218",
   "metadata": {
    "execution": {
     "iopub.execute_input": "2021-10-19T21:57:29.297852Z",
     "iopub.status.busy": "2021-10-19T21:57:29.294222Z",
     "iopub.status.idle": "2021-10-19T21:57:49.533148Z",
     "shell.execute_reply": "2021-10-19T21:57:49.532600Z",
     "shell.execute_reply.started": "2021-10-18T02:36:29.954466Z"
    },
    "papermill": {
     "duration": 20.334461,
     "end_time": "2021-10-19T21:57:49.533284",
     "exception": false,
     "start_time": "2021-10-19T21:57:29.198823",
     "status": "completed"
    },
    "tags": []
   },
   "outputs": [],
   "source": [
    "# BERT encoder w/ preprocessor\n",
    "bert_preprocessor = hub.KerasLayer('https://tfhub.dev/tensorflow/bert_en_uncased_preprocess/3', name='BERT_preprocesser')\n",
    "bert_encoder = hub.KerasLayer('https://tfhub.dev/tensorflow/bert_en_uncased_L-12_H-768_A-12/4', trainable=True, name='BERT_encoder')\n",
    "# Keyword embedding layer\n",
    "nnlm_embed = hub.KerasLayer('https://tfhub.dev/google/nnlm-en-dim50/2', name='embedding_layer')"
   ]
  },
  {
   "cell_type": "markdown",
   "id": "1fb519cd",
   "metadata": {
    "papermill": {
     "duration": 0.095877,
     "end_time": "2021-10-19T21:57:49.720769",
     "exception": false,
     "start_time": "2021-10-19T21:57:49.624892",
     "status": "completed"
    },
    "tags": []
   },
   "source": [
    "### 5.2. Model Composition\n",
    "\n",
    "To build our classifier we will be using the TensorFlow functional API, this will reduce constraints on our model design. Two input branches will be merged into a classification layer. The first branch is a text input layer that feeds into the BERT preprocessor. This layer is passed to the BERT encoder and is returned as a pooled output. This output is then regularized with a dropout layer. \n",
    "\n",
    "On the second branch, a keyword input is passed to a pre-trained word embedding layer. The embeddings are flattened and passed into a dense neural net, then fed into a dropout layer. \n",
    "\n",
    "The layer outputs from each model are concatenated, passed into a dense neural net with dropout, then sent to a single unit dense classification layer with a sigmoid activation. The sigmoid activation function will return class probabilities that we can use to plot a Receiver Operating Characteristic ([ROC](https://en.wikipedia.org/wiki/Receiver_operating_characteristic)) curve and a [Confusion Matrix](https://en.wikipedia.org/wiki/Confusion_matrix) to analyze our results. "
   ]
  },
  {
   "cell_type": "code",
   "execution_count": 50,
   "id": "15ffb5ae",
   "metadata": {
    "execution": {
     "iopub.execute_input": "2021-10-19T21:57:49.911051Z",
     "iopub.status.busy": "2021-10-19T21:57:49.910273Z",
     "iopub.status.idle": "2021-10-19T21:57:49.913103Z",
     "shell.execute_reply": "2021-10-19T21:57:49.912693Z",
     "shell.execute_reply.started": "2021-10-18T02:36:49.486412Z"
    },
    "papermill": {
     "duration": 0.099811,
     "end_time": "2021-10-19T21:57:49.913215",
     "exception": false,
     "start_time": "2021-10-19T21:57:49.813404",
     "status": "completed"
    },
    "tags": []
   },
   "outputs": [],
   "source": [
    "def build_model():\n",
    "    \n",
    "    # Construct text layers\n",
    "    text_input = layers.Input(shape=(), dtype=tf.string, name='clean_text') # Name matches df heading\n",
    "    encoder_inputs = bert_preprocessor(text_input)\n",
    "    encoder_outputs = bert_encoder(encoder_inputs)\n",
    "    # pooled_output returns [batch_size, hidden_layers]\n",
    "    pooled_output = encoder_outputs[\"pooled_output\"]          \n",
    "    bert_dropout = layers.Dropout(0.1, name='BERT_dropout')(pooled_output)   \n",
    "    \n",
    "    # Construct keyword layers\n",
    "    key_input = layers.Input(shape=(), dtype=tf.string, name='keyword_fill') # Name matches df heading\n",
    "    key_embed = nnlm_embed(key_input)\n",
    "    key_flat = layers.Flatten()(key_embed)\n",
    "    key_dense = layers.Dense(128, activation='elu', kernel_regularizer=regularizers.l2(1e-4))(key_flat)\n",
    "    key_dropout = layers.Dropout(0.5, name='dense_dropout')(key_dense)\n",
    "    \n",
    "    # Merge the layers and classify \n",
    "    merge = layers.concatenate([bert_dropout, key_dropout])\n",
    "    dense = layers.Dense(128, activation='elu', kernel_regularizer=regularizers.l2(1e-4))(merge)\n",
    "    dropout = layers.Dropout(0.5, name='merged_dropout')(dense)    \n",
    "    clf = layers.Dense(1, activation='sigmoid', name='classifier')(dropout)\n",
    "\n",
    "    return Model([text_input, key_input], clf, name='BERT_classifier')"
   ]
  },
  {
   "cell_type": "code",
   "execution_count": 51,
   "id": "3e598cb0",
   "metadata": {
    "execution": {
     "iopub.execute_input": "2021-10-19T21:57:50.103225Z",
     "iopub.status.busy": "2021-10-19T21:57:50.102453Z",
     "iopub.status.idle": "2021-10-19T21:57:50.850084Z",
     "shell.execute_reply": "2021-10-19T21:57:50.850684Z",
     "shell.execute_reply.started": "2021-10-18T02:36:49.499665Z"
    },
    "papermill": {
     "duration": 0.849027,
     "end_time": "2021-10-19T21:57:50.850895",
     "exception": false,
     "start_time": "2021-10-19T21:57:50.001868",
     "status": "completed"
    },
    "tags": []
   },
   "outputs": [
    {
     "name": "stdout",
     "output_type": "stream",
     "text": [
      "Model: \"BERT_classifier\"\n",
      "__________________________________________________________________________________________________\n",
      "Layer (type)                    Output Shape         Param #     Connected to                     \n",
      "==================================================================================================\n",
      "keyword_fill (InputLayer)       [(None,)]            0                                            \n",
      "__________________________________________________________________________________________________\n",
      "clean_text (InputLayer)         [(None,)]            0                                            \n",
      "__________________________________________________________________________________________________\n",
      "embedding_layer (KerasLayer)    (None, 50)           48190600    keyword_fill[0][0]               \n",
      "__________________________________________________________________________________________________\n",
      "BERT_preprocesser (KerasLayer)  {'input_type_ids': ( 0           clean_text[0][0]                 \n",
      "__________________________________________________________________________________________________\n",
      "flatten (Flatten)               (None, 50)           0           embedding_layer[0][0]            \n",
      "__________________________________________________________________________________________________\n",
      "BERT_encoder (KerasLayer)       {'sequence_output':  109482241   BERT_preprocesser[0][0]          \n",
      "                                                                 BERT_preprocesser[0][1]          \n",
      "                                                                 BERT_preprocesser[0][2]          \n",
      "__________________________________________________________________________________________________\n",
      "dense (Dense)                   (None, 128)          6528        flatten[0][0]                    \n",
      "__________________________________________________________________________________________________\n",
      "BERT_dropout (Dropout)          (None, 768)          0           BERT_encoder[0][13]              \n",
      "__________________________________________________________________________________________________\n",
      "dense_dropout (Dropout)         (None, 128)          0           dense[0][0]                      \n",
      "__________________________________________________________________________________________________\n",
      "concatenate (Concatenate)       (None, 896)          0           BERT_dropout[0][0]               \n",
      "                                                                 dense_dropout[0][0]              \n",
      "__________________________________________________________________________________________________\n",
      "dense_1 (Dense)                 (None, 128)          114816      concatenate[0][0]                \n",
      "__________________________________________________________________________________________________\n",
      "merged_dropout (Dropout)        (None, 128)          0           dense_1[0][0]                    \n",
      "__________________________________________________________________________________________________\n",
      "classifier (Dense)              (None, 1)            129         merged_dropout[0][0]             \n",
      "==================================================================================================\n",
      "Total params: 157,794,314\n",
      "Trainable params: 109,603,713\n",
      "Non-trainable params: 48,190,601\n",
      "__________________________________________________________________________________________________\n"
     ]
    }
   ],
   "source": [
    "bert_classifier = build_model()\n",
    "bert_classifier.summary()"
   ]
  },
  {
   "cell_type": "code",
   "execution_count": 52,
   "id": "eaf93d21",
   "metadata": {
    "execution": {
     "iopub.execute_input": "2021-10-19T21:57:51.038291Z",
     "iopub.status.busy": "2021-10-19T21:57:51.037461Z",
     "iopub.status.idle": "2021-10-19T21:57:51.526239Z",
     "shell.execute_reply": "2021-10-19T21:57:51.525798Z",
     "shell.execute_reply.started": "2021-10-18T02:36:51.954116Z"
    },
    "papermill": {
     "duration": 0.584186,
     "end_time": "2021-10-19T21:57:51.526359",
     "exception": false,
     "start_time": "2021-10-19T21:57:50.942173",
     "status": "completed"
    },
    "tags": []
   },
   "outputs": [
    {
     "data": {
      "image/png": "[encoded data removed]",
      "text/plain": [
       "<IPython.core.display.Image object>"
      ]
     },
     "execution_count": 52,
     "metadata": {},
     "output_type": "execute_result"
    }
   ],
   "source": [
    "tf.keras.utils.plot_model(bert_classifier, show_shapes=False, dpi=96)"
   ]
  },
  {
   "cell_type": "markdown",
   "id": "4f263759",
   "metadata": {
    "papermill": {
     "duration": 0.091843,
     "end_time": "2021-10-19T21:57:51.712385",
     "exception": false,
     "start_time": "2021-10-19T21:57:51.620542",
     "status": "completed"
    },
    "tags": []
   },
   "source": [
    "For training the BERT model we'll use an Adam optimizer with weight decay ([AdamW](https://arxiv.org/abs/1711.05101)). This method differs from the standard Adam algorithm with its use of decoupled weight decay regularization. This is the optimizer that BERT was originally trained with. It has a linear warm-up period over the first 10% of training steps paired with a lower learning rate. One of the simpler ways to implement this [optimizer](https://github.com/tensorflow/models/blob/master/official/nlp/optimization.py) is with the TensorFlow official models collection."
   ]
  },
  {
   "cell_type": "markdown",
   "id": "016149f3",
   "metadata": {
    "papermill": {
     "duration": 0.092338,
     "end_time": "2021-10-19T21:57:51.894943",
     "exception": false,
     "start_time": "2021-10-19T21:57:51.802605",
     "status": "completed"
    },
    "tags": []
   },
   "source": [
    "### 5.3. Construct the AdamW Optimizer"
   ]
  },
  {
   "cell_type": "code",
   "execution_count": 53,
   "id": "37aef6cd",
   "metadata": {
    "execution": {
     "iopub.execute_input": "2021-10-19T21:57:52.083663Z",
     "iopub.status.busy": "2021-10-19T21:57:52.082482Z",
     "iopub.status.idle": "2021-10-19T21:57:52.101991Z",
     "shell.execute_reply": "2021-10-19T21:57:52.101274Z",
     "shell.execute_reply.started": "2021-10-18T02:36:52.44461Z"
    },
    "papermill": {
     "duration": 0.117121,
     "end_time": "2021-10-19T21:57:52.102135",
     "exception": false,
     "start_time": "2021-10-19T21:57:51.985014",
     "status": "completed"
    },
    "tags": []
   },
   "outputs": [],
   "source": [
    "EPOCHS = 2\n",
    "LEARNING_RATE = 5e-5\n",
    "\n",
    "STEPS_PER_EPOCH = int(train_ds.unbatch().cardinality().numpy() / BATCH_SIZE)\n",
    "VAL_STEPS = int(val_ds.unbatch().cardinality().numpy() / BATCH_SIZE)\n",
    "# Calculate the train and warmup steps for the optimizer\n",
    "TRAIN_STEPS = STEPS_PER_EPOCH * EPOCHS\n",
    "WARMUP_STEPS = int(TRAIN_STEPS * 0.1)\n",
    "\n",
    "adamw_optimizer = create_optimizer(\n",
    "    init_lr=LEARNING_RATE,\n",
    "    num_train_steps=TRAIN_STEPS,\n",
    "    num_warmup_steps=WARMUP_STEPS\n",
    ")"
   ]
  },
  {
   "cell_type": "markdown",
   "id": "8e485957",
   "metadata": {
    "papermill": {
     "duration": 0.093391,
     "end_time": "2021-10-19T21:57:52.287906",
     "exception": false,
     "start_time": "2021-10-19T21:57:52.194515",
     "status": "completed"
    },
    "tags": []
   },
   "source": [
    "# 6. Train the Classifier\n",
    "This is a classification problem with two labels, so we'll compile with a binary crossentropy loss function and a binary accuracy metric with our optimizer. Included are the previously calculated `steps_per_epoch` and `validation_steps`."
   ]
  },
  {
   "cell_type": "code",
   "execution_count": 54,
   "id": "7ff63e1f",
   "metadata": {
    "execution": {
     "iopub.execute_input": "2021-10-19T21:57:52.485201Z",
     "iopub.status.busy": "2021-10-19T21:57:52.484361Z",
     "iopub.status.idle": "2021-10-19T22:01:48.571463Z",
     "shell.execute_reply": "2021-10-19T22:01:48.570973Z",
     "shell.execute_reply.started": "2021-10-18T02:36:52.469263Z"
    },
    "papermill": {
     "duration": 236.191842,
     "end_time": "2021-10-19T22:01:48.571625",
     "exception": false,
     "start_time": "2021-10-19T21:57:52.379783",
     "status": "completed"
    },
    "tags": []
   },
   "outputs": [
    {
     "name": "stdout",
     "output_type": "stream",
     "text": [
      "Epoch 1/2\n",
      "187/187 [==============================] - 128s 589ms/step - loss: 0.6789 - accuracy: 0.6518 - val_loss: 0.4546 - val_accuracy: 0.8159\n",
      "Epoch 2/2\n",
      "187/187 [==============================] - 109s 580ms/step - loss: 0.4187 - accuracy: 0.8430 - val_loss: 0.4801 - val_accuracy: 0.8240\n"
     ]
    }
   ],
   "source": [
    "bert_classifier.compile(\n",
    "    loss=BinaryCrossentropy(from_logits=True), \n",
    "    optimizer= adamw_optimizer,\n",
    "    metrics=[BinaryAccuracy(name='accuracy')]\n",
    ")\n",
    "\n",
    "history = bert_classifier.fit(\n",
    "    train_ds, \n",
    "    epochs=EPOCHS,\n",
    "    steps_per_epoch=STEPS_PER_EPOCH,    \n",
    "    validation_data= val_ds,\n",
    "    validation_steps=VAL_STEPS\n",
    ")"
   ]
  },
  {
   "cell_type": "markdown",
   "id": "98ca3c9f",
   "metadata": {
    "papermill": {
     "duration": 0.18746,
     "end_time": "2021-10-19T22:01:48.948889",
     "exception": false,
     "start_time": "2021-10-19T22:01:48.761429",
     "status": "completed"
    },
    "tags": []
   },
   "source": [
    "# 7. Visualize Results\n",
    "\n",
    "Now that the model has been trained, we will plot the accuracy and loss metrics for the training and validation data.   "
   ]
  },
  {
   "cell_type": "markdown",
   "id": "98f6d2b1",
   "metadata": {
    "papermill": {
     "duration": 0.249179,
     "end_time": "2021-10-19T22:01:49.385701",
     "exception": false,
     "start_time": "2021-10-19T22:01:49.136522",
     "status": "completed"
    },
    "tags": []
   },
   "source": [
    "### 7.1. Plot the Loss and Accuracy Metrics"
   ]
  },
  {
   "cell_type": "code",
   "execution_count": 55,
   "id": "5f0d4812",
   "metadata": {
    "execution": {
     "iopub.execute_input": "2021-10-19T22:01:49.962570Z",
     "iopub.status.busy": "2021-10-19T22:01:49.961573Z",
     "iopub.status.idle": "2021-10-19T22:01:49.964386Z",
     "shell.execute_reply": "2021-10-19T22:01:49.963979Z",
     "shell.execute_reply.started": "2021-10-18T02:40:47.984234Z"
    },
    "papermill": {
     "duration": 0.237714,
     "end_time": "2021-10-19T22:01:49.964503",
     "exception": false,
     "start_time": "2021-10-19T22:01:49.726789",
     "status": "completed"
    },
    "tags": []
   },
   "outputs": [],
   "source": [
    "# Assign the loss and accuracy metrics\n",
    "train_loss = history.history['loss']\n",
    "val_loss = history.history['val_loss']\n",
    "train_acc = history.history['accuracy']\n",
    "val_acc = history.history['val_accuracy']"
   ]
  },
  {
   "cell_type": "code",
   "execution_count": 56,
   "id": "35b858da",
   "metadata": {
    "execution": {
     "iopub.execute_input": "2021-10-19T22:01:50.411162Z",
     "iopub.status.busy": "2021-10-19T22:01:50.363275Z",
     "iopub.status.idle": "2021-10-19T22:01:50.730726Z",
     "shell.execute_reply": "2021-10-19T22:01:50.731155Z",
     "shell.execute_reply.started": "2021-10-18T02:40:47.992182Z"
    },
    "papermill": {
     "duration": 0.578155,
     "end_time": "2021-10-19T22:01:50.731301",
     "exception": false,
     "start_time": "2021-10-19T22:01:50.153146",
     "status": "completed"
    },
    "tags": []
   },
   "outputs": [
    {
     "data": {
      "image/png": "[encoded data removed]",
      "text/plain": [
       "<Figure size 720x432 with 2 Axes>"
      ]
     },
     "metadata": {},
     "output_type": "display_data"
    }
   ],
   "source": [
    "# Plot the training and validation metrics\n",
    "fig, (ax1, ax2) = plt.subplots(2, 1, sharex=True)\n",
    "sns.lineplot(ax=ax1, data = train_acc, label=f'Training Accuracy')\n",
    "sns.lineplot(ax=ax1, data = val_acc, label=f'Validation Accuracy')\n",
    "sns.lineplot(ax=ax2, data = train_loss, label=f'Training Loss')\n",
    "sns.lineplot(ax=ax2, data = val_loss, label=f'Validation Loss')\n",
    "ax1.set_ylabel('Accuracy')\n",
    "ax1.set_xlim(xmin=0)\n",
    "ax2.set_ylabel('Loss')\n",
    "ax2.set_xlabel('Epochs')\n",
    "ax2.set_xlim(xmin=0)\n",
    "plt.suptitle('History')\n",
    "plt.show()"
   ]
  },
  {
   "cell_type": "markdown",
   "id": "8047213a",
   "metadata": {
    "papermill": {
     "duration": 0.191678,
     "end_time": "2021-10-19T22:01:51.116657",
     "exception": false,
     "start_time": "2021-10-19T22:01:50.924979",
     "status": "completed"
    },
    "tags": []
   },
   "source": [
    "### 7.2. Plot the ROC Curve\n",
    "\n",
    "Another graphical method we'll use is the Receiver Operating Characteristic curve ([ROC](https://en.wikipedia.org/wiki/Receiver_operating_characteristic)). It plots the true positive rate against the false positive rate at different classification thresholds to visualize the predictive ability of the model. Curves skewed towards the upper left corner of the plot reflect models with good performance as opposed to near linear curves which indicate poor performance."
   ]
  },
  {
   "cell_type": "code",
   "execution_count": 57,
   "id": "e9111a38",
   "metadata": {
    "execution": {
     "iopub.execute_input": "2021-10-19T22:01:51.503862Z",
     "iopub.status.busy": "2021-10-19T22:01:51.503029Z",
     "iopub.status.idle": "2021-10-19T22:01:51.726111Z",
     "shell.execute_reply": "2021-10-19T22:01:51.725668Z",
     "shell.execute_reply.started": "2021-10-18T02:40:48.343329Z"
    },
    "papermill": {
     "duration": 0.418175,
     "end_time": "2021-10-19T22:01:51.726238",
     "exception": false,
     "start_time": "2021-10-19T22:01:51.308063",
     "status": "completed"
    },
    "tags": []
   },
   "outputs": [
    {
     "name": "stdout",
     "output_type": "stream",
     "text": [
      "(1472,)\n"
     ]
    },
    {
     "data": {
      "text/plain": [
       "array([1, 0, 0, 0, 1])"
      ]
     },
     "execution_count": 57,
     "metadata": {},
     "output_type": "execute_result"
    }
   ],
   "source": [
    "# Get the array of labels from the validation Dataset\n",
    "val_target = np.asarray([i[1] for i in list(val_ds.unbatch().as_numpy_iterator())])\n",
    "print(val_target.shape)\n",
    "val_target[:5]"
   ]
  },
  {
   "cell_type": "code",
   "execution_count": 58,
   "id": "a958430b",
   "metadata": {
    "execution": {
     "iopub.execute_input": "2021-10-19T22:01:52.113074Z",
     "iopub.status.busy": "2021-10-19T22:01:52.112224Z",
     "iopub.status.idle": "2021-10-19T22:02:02.233649Z",
     "shell.execute_reply": "2021-10-19T22:02:02.232702Z",
     "shell.execute_reply.started": "2021-10-18T02:40:48.573516Z"
    },
    "papermill": {
     "duration": 10.31753,
     "end_time": "2021-10-19T22:02:02.233794",
     "exception": false,
     "start_time": "2021-10-19T22:01:51.916264",
     "status": "completed"
    },
    "tags": []
   },
   "outputs": [],
   "source": [
    "# Get predictions from the validation Dataset\n",
    "val_predict = bert_classifier.predict(val_ds)"
   ]
  },
  {
   "cell_type": "code",
   "execution_count": 59,
   "id": "2e2dc154",
   "metadata": {
    "execution": {
     "iopub.execute_input": "2021-10-19T22:02:02.629386Z",
     "iopub.status.busy": "2021-10-19T22:02:02.628597Z",
     "iopub.status.idle": "2021-10-19T22:02:02.793601Z",
     "shell.execute_reply": "2021-10-19T22:02:02.794021Z",
     "shell.execute_reply.started": "2021-10-18T02:40:58.790121Z"
    },
    "papermill": {
     "duration": 0.364413,
     "end_time": "2021-10-19T22:02:02.794160",
     "exception": false,
     "start_time": "2021-10-19T22:02:02.429747",
     "status": "completed"
    },
    "tags": []
   },
   "outputs": [
    {
     "data": {
      "image/png": "[encoded data removed]",
      "text/plain": [
       "<Figure size 720x432 with 1 Axes>"
      ]
     },
     "metadata": {},
     "output_type": "display_data"
    }
   ],
   "source": [
    "# Get the false positive and true positive rates\n",
    "fpr, tpr, _ = roc_curve(val_target, val_predict)\n",
    "plt.plot(fpr, tpr, color='orange')\n",
    "plt.plot([0,1], [0,1], linestyle='--')\n",
    "plt.title('Validation ROC Curve')\n",
    "plt.xlabel('False Positives (%)')\n",
    "plt.ylabel('True Positives (%)')\n",
    "plt.grid(True)    \n",
    "plt.show()"
   ]
  },
  {
   "cell_type": "markdown",
   "id": "953b2883",
   "metadata": {
    "papermill": {
     "duration": 0.190287,
     "end_time": "2021-10-19T22:02:03.177632",
     "exception": false,
     "start_time": "2021-10-19T22:02:02.987345",
     "status": "completed"
    },
    "tags": []
   },
   "source": [
    "### 7.3. Plot the Confusion Matrix\n",
    "\n",
    "A confusion matrix will compare the predicted values with the actual data from the validation set. This is interpreted through the use of true and false positives versus true and false negatives. A model that performs well will maximize true rates while minimizing false rates. A false positive is known as a Type 1 error and a false negative is known as a Type 2 error."
   ]
  },
  {
   "cell_type": "code",
   "execution_count": 60,
   "id": "a9d7b92e",
   "metadata": {
    "execution": {
     "iopub.execute_input": "2021-10-19T22:02:03.565863Z",
     "iopub.status.busy": "2021-10-19T22:02:03.565059Z",
     "iopub.status.idle": "2021-10-19T22:02:03.804845Z",
     "shell.execute_reply": "2021-10-19T22:02:03.804295Z",
     "shell.execute_reply.started": "2021-10-18T02:40:58.975138Z"
    },
    "papermill": {
     "duration": 0.436978,
     "end_time": "2021-10-19T22:02:03.804963",
     "exception": false,
     "start_time": "2021-10-19T22:02:03.367985",
     "status": "completed"
    },
    "tags": []
   },
   "outputs": [
    {
     "data": {
      "image/png": "[encoded data removed]",
      "text/plain": [
       "<Figure size 720x432 with 2 Axes>"
      ]
     },
     "metadata": {},
     "output_type": "display_data"
    }
   ],
   "source": [
    "THRESHOLD = 0.5 # Default value\n",
    "# Get the true negative, false positive, false negative, and true positive values\n",
    "tn, fp, fn, tp = confusion_matrix(val_target, val_predict > THRESHOLD).flatten()\n",
    "# Construct the dataframe\n",
    "cm = pd.DataFrame(\n",
    "                    [[tn, fp], [fn, tp]], \n",
    "                    index=['No Disaster', 'Disaster'], \n",
    "                    columns=['No Disaster', 'Disaster']\n",
    ")\n",
    "# Plot the matrix\n",
    "sns.heatmap(cm, annot=True, fmt='g')    \n",
    "plt.title('Validation Confusion Matrix')\n",
    "plt.ylabel('Actual')\n",
    "plt.xlabel('Predicted')\n",
    "plt.show()"
   ]
  },
  {
   "cell_type": "markdown",
   "id": "f6988648",
   "metadata": {
    "papermill": {
     "duration": 0.192264,
     "end_time": "2021-10-19T22:02:04.190477",
     "exception": false,
     "start_time": "2021-10-19T22:02:03.998213",
     "status": "completed"
    },
    "tags": []
   },
   "source": [
    "# 8. Predictions on the Test Data\n",
    "\n",
    "Now that we have our ideal threshold value, let's go ahead and make predictions with our classifier. We'll receive an array of probabilities that we can then use to plot a histogram of our results and graph the threshold value."
   ]
  },
  {
   "cell_type": "code",
   "execution_count": 61,
   "id": "a56f1592",
   "metadata": {
    "execution": {
     "iopub.execute_input": "2021-10-19T22:02:04.579616Z",
     "iopub.status.busy": "2021-10-19T22:02:04.578792Z",
     "iopub.status.idle": "2021-10-19T22:02:26.148046Z",
     "shell.execute_reply": "2021-10-19T22:02:26.148662Z",
     "shell.execute_reply.started": "2021-10-18T02:40:59.231468Z"
    },
    "papermill": {
     "duration": 21.767678,
     "end_time": "2021-10-19T22:02:26.148856",
     "exception": false,
     "start_time": "2021-10-19T22:02:04.381178",
     "status": "completed"
    },
    "tags": []
   },
   "outputs": [
    {
     "name": "stdout",
     "output_type": "stream",
     "text": [
      "(3263, 1)\n",
      "[[0.97504514]\n",
      " [0.9891082 ]\n",
      " [0.99105096]\n",
      " [0.99682885]\n",
      " [0.9965084 ]]\n"
     ]
    }
   ],
   "source": [
    "predictions = bert_classifier.predict(test_ds)\n",
    "print(predictions.shape)\n",
    "print(predictions[:5])"
   ]
  },
  {
   "cell_type": "markdown",
   "id": "9f527590",
   "metadata": {
    "papermill": {
     "duration": 0.194462,
     "end_time": "2021-10-19T22:02:26.550910",
     "exception": false,
     "start_time": "2021-10-19T22:02:26.356448",
     "status": "completed"
    },
    "tags": []
   },
   "source": [
    "### 8.1. Predictions Histogram"
   ]
  },
  {
   "cell_type": "code",
   "execution_count": 62,
   "id": "d3b6ad0d",
   "metadata": {
    "execution": {
     "iopub.execute_input": "2021-10-19T22:02:26.943913Z",
     "iopub.status.busy": "2021-10-19T22:02:26.943058Z",
     "iopub.status.idle": "2021-10-19T22:02:27.226016Z",
     "shell.execute_reply": "2021-10-19T22:02:27.225574Z",
     "shell.execute_reply.started": "2021-10-18T02:41:20.698274Z"
    },
    "papermill": {
     "duration": 0.481868,
     "end_time": "2021-10-19T22:02:27.226138",
     "exception": false,
     "start_time": "2021-10-19T22:02:26.744270",
     "status": "completed"
    },
    "tags": []
   },
   "outputs": [
    {
     "data": {
      "image/png": "[encoded data removed]",
      "text/plain": [
       "<Figure size 720x432 with 1 Axes>"
      ]
     },
     "metadata": {},
     "output_type": "display_data"
    }
   ],
   "source": [
    "count, bin_edges = np.histogram(predictions)\n",
    "sns.histplot(predictions, bins=bin_edges, legend=False)\n",
    "plt.axvline(x=THRESHOLD, linestyle='--', color='black', label='Threshold')\n",
    "plt.title('Predicted Probability of Disaster')\n",
    "plt.xlabel('Probabilities')\n",
    "plt.ylabel('Frequency')\n",
    "plt.legend()\n",
    "plt.show()"
   ]
  },
  {
   "cell_type": "markdown",
   "id": "6b8bfe96",
   "metadata": {
    "papermill": {
     "duration": 0.193323,
     "end_time": "2021-10-19T22:02:27.615076",
     "exception": false,
     "start_time": "2021-10-19T22:02:27.421753",
     "status": "completed"
    },
    "tags": []
   },
   "source": [
    "This distribution represents the binary nature of the prediction values. The threshold marks the line by which predictions will be considered either non-disasters (below threshold) or disasters (above threshold). The default value for a binary accuracy threshold is `0.5`. Finally we use this threshold to label and submit the predictions."
   ]
  },
  {
   "cell_type": "markdown",
   "id": "d4726ff6",
   "metadata": {
    "papermill": {
     "duration": 0.193911,
     "end_time": "2021-10-19T22:02:28.003484",
     "exception": false,
     "start_time": "2021-10-19T22:02:27.809573",
     "status": "completed"
    },
    "tags": []
   },
   "source": [
    "### 8.2. Label the Predictions"
   ]
  },
  {
   "cell_type": "code",
   "execution_count": 63,
   "id": "677c4b4a",
   "metadata": {
    "execution": {
     "iopub.execute_input": "2021-10-19T22:02:28.402534Z",
     "iopub.status.busy": "2021-10-19T22:02:28.401765Z",
     "iopub.status.idle": "2021-10-19T22:02:28.405814Z",
     "shell.execute_reply": "2021-10-19T22:02:28.406202Z",
     "shell.execute_reply.started": "2021-10-18T02:41:20.987737Z"
    },
    "papermill": {
     "duration": 0.207866,
     "end_time": "2021-10-19T22:02:28.406341",
     "exception": false,
     "start_time": "2021-10-19T22:02:28.198475",
     "status": "completed"
    },
    "tags": []
   },
   "outputs": [
    {
     "name": "stdout",
     "output_type": "stream",
     "text": [
      "(3263, 1)\n"
     ]
    },
    {
     "data": {
      "text/html": [
       "<div>\n",
       "<style scoped>\n",
       "    .dataframe tbody tr th:only-of-type {\n",
       "        vertical-align: middle;\n",
       "    }\n",
       "\n",
       "    .dataframe tbody tr th {\n",
       "        vertical-align: top;\n",
       "    }\n",
       "\n",
       "    .dataframe thead th {\n",
       "        text-align: right;\n",
       "    }\n",
       "</style>\n",
       "<table border=\"1\" class=\"dataframe\">\n",
       "  <thead>\n",
       "    <tr style=\"text-align: right;\">\n",
       "      <th></th>\n",
       "      <th>target</th>\n",
       "    </tr>\n",
       "  </thead>\n",
       "  <tbody>\n",
       "    <tr>\n",
       "      <th>0</th>\n",
       "      <td>1</td>\n",
       "    </tr>\n",
       "    <tr>\n",
       "      <th>1</th>\n",
       "      <td>1</td>\n",
       "    </tr>\n",
       "    <tr>\n",
       "      <th>2</th>\n",
       "      <td>1</td>\n",
       "    </tr>\n",
       "    <tr>\n",
       "      <th>3</th>\n",
       "      <td>1</td>\n",
       "    </tr>\n",
       "    <tr>\n",
       "      <th>4</th>\n",
       "      <td>1</td>\n",
       "    </tr>\n",
       "  </tbody>\n",
       "</table>\n",
       "</div>"
      ],
      "text/plain": [
       "   target\n",
       "0       1\n",
       "1       1\n",
       "2       1\n",
       "3       1\n",
       "4       1"
      ]
     },
     "execution_count": 63,
     "metadata": {},
     "output_type": "execute_result"
    }
   ],
   "source": [
    "# Use the threshold to label predictions\n",
    "predictions = np.where(predictions > THRESHOLD, 1, 0)\n",
    "df_predictions = pd.DataFrame(predictions)\n",
    "df_predictions.columns = ['target']\n",
    "\n",
    "print(df_predictions.shape)\n",
    "df_predictions.head()"
   ]
  },
  {
   "cell_type": "markdown",
   "id": "85896ebe",
   "metadata": {
    "papermill": {
     "duration": 0.22248,
     "end_time": "2021-10-19T22:02:28.824355",
     "exception": false,
     "start_time": "2021-10-19T22:02:28.601875",
     "status": "completed"
    },
    "tags": []
   },
   "source": [
    "### 8.3. Submit the Predictions"
   ]
  },
  {
   "cell_type": "code",
   "execution_count": 64,
   "id": "f99776ae",
   "metadata": {
    "execution": {
     "iopub.execute_input": "2021-10-19T22:02:29.222960Z",
     "iopub.status.busy": "2021-10-19T22:02:29.222279Z",
     "iopub.status.idle": "2021-10-19T22:02:29.232931Z",
     "shell.execute_reply": "2021-10-19T22:02:29.232477Z",
     "shell.execute_reply.started": "2021-10-18T02:41:21.001026Z"
    },
    "papermill": {
     "duration": 0.211113,
     "end_time": "2021-10-19T22:02:29.233052",
     "exception": false,
     "start_time": "2021-10-19T22:02:29.021939",
     "status": "completed"
    },
    "tags": []
   },
   "outputs": [],
   "source": [
    "# Concatenate the columns and convert submission to csv\n",
    "submission = pd.concat([df_test['id'], df_predictions], axis=1)\n",
    "submission.to_csv('submission.csv', index=False)"
   ]
  },
  {
   "cell_type": "code",
   "execution_count": null,
   "id": "13ff61df",
   "metadata": {
    "papermill": {
     "duration": 0.193171,
     "end_time": "2021-10-19T22:02:29.620015",
     "exception": false,
     "start_time": "2021-10-19T22:02:29.426844",
     "status": "completed"
    },
    "tags": []
   },
   "outputs": [],
   "source": []
  }
 ],
 "metadata": {
  "kernelspec": {
   "display_name": "Python 3",
   "language": "python",
   "name": "python3"
  },
  "language_info": {
   "codemirror_mode": {
    "name": "ipython",
    "version": 3
   },
   "file_extension": ".py",
   "mimetype": "text/x-python",
   "name": "python",
   "nbconvert_exporter": "python",
   "pygments_lexer": "ipython3",
   "version": "3.7.10"
  },
  "papermill": {
   "default_parameters": {},
   "duration": 613.989173,
   "end_time": "2021-10-19T22:02:32.696813",
   "environment_variables": {},
   "exception": null,
   "input_path": "__notebook__.ipynb",
   "output_path": "__notebook__.ipynb",
   "parameters": {},
   "start_time": "2021-10-19T21:52:18.707640",
   "version": "2.3.3"
  }
 },
 "nbformat": 4,
 "nbformat_minor": 5
}
